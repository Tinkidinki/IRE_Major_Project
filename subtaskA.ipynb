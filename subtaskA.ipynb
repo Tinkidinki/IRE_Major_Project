{
 "cells": [
  {
   "cell_type": "code",
   "execution_count": 1,
   "metadata": {},
   "outputs": [],
   "source": [
    "import timeit\n",
    "import os\n",
    "import pickle\n",
    "import json\n",
    "import numpy\n",
    "from hyperopt import fmin, tpe, hp, Trials\n",
    "from training import objective_train_model\n",
    "from predict import eval_train_model\n",
    "from optparse import OptionParser"
   ]
  },
  {
   "cell_type": "code",
   "execution_count": 2,
   "metadata": {},
   "outputs": [],
   "source": [
    "def convertlabeltostr(label):\n",
    "    if label==0:\n",
    "        return(\"support\")\n",
    "    elif label==1:\n",
    "        return(\"comment\")\n",
    "    elif label==2:\n",
    "        return(\"deny\")\n",
    "    elif label==3:\n",
    "        return(\"query\")\n",
    "    else:\n",
    "        print(label)  \n",
    "        \n",
    "#%%"
   ]
  },
  {
   "cell_type": "markdown",
   "metadata": {},
   "source": [
    "### Train and Test the model on the best parameters obtained after tuning and dump the results. \n",
    "    . Results contain the entire output of the eval_train_model function\n",
    "    . Predictions contain the predicted labels of the Test data."
   ]
  },
  {
   "cell_type": "code",
   "execution_count": 3,
   "metadata": {},
   "outputs": [],
   "source": [
    "global res\n",
    "def eval(params):\n",
    "    global res\n",
    "    start = timeit.default_timer()\n",
    "    result = eval_train_model(params)\n",
    "    # Convert result to scorer.py format\n",
    "    keys = pickle.loads(result['attachments']['ID'])\n",
    "    values = pickle.loads(result['attachments']['Predictions'])\n",
    "    values = [convertlabeltostr(s) for s in values] \n",
    "    result_dictionary = dict(zip(keys, values))\n",
    "    res = result\n",
    "    out_path = 'output'\n",
    "    if not os.path.exists(out_path):\n",
    "        os.makedirs(out_path)\n",
    "    \n",
    "    f = open(os.path.join(out_path,'result.txt'), \"w+\")\n",
    "    pickle.dump(result, f)\n",
    "    f.close()\n",
    "\n",
    "    with open(os.path.join(out_path,'predictions.txt'), 'w+') as outfile:\n",
    "        json.dump(result_dictionary, outfile)\n",
    "    print (\"saved result and predictions\")\n",
    "    stop = timeit.default_timer()\n",
    "    print (\"Time: \",stop - start)\n",
    "    \n",
    "#%%"
   ]
  },
  {
   "cell_type": "code",
   "execution_count": 4,
   "metadata": {},
   "outputs": [
    {
     "name": "stdout",
     "output_type": "stream",
     "text": [
      "\n",
      "Loading best set of model parameters from  output/bestparams.txt ...\n",
      "\n",
      "{'learn_rate': 0.001, 'num_dense_layers': 2, 'num_lstm_units': 100, 'num_dense_units': 500, 'mb_size': 100, 'num_lstm_layers': 2, 'rng_seed': 364, 'num_epochs': 30, 'l2reg': 0.0}\n",
      "Retrain model on train+dev set and evaluate on testing set\n",
      "Epochs: 0/30\n",
      "Before: target size: 81125\n",
      "Before: len of targets 3245\n",
      "Before: len of batchsize 100\n",
      "Before: Len of inputs: 3245\n",
      "Before: Len of rmdoublemask: 81125\n",
      "Before: Size of rmdoublemask: 81125\n",
      "Len of inputs: 3245\n",
      "len of targets 3245\n",
      "saved result and predictions\n",
      "('Time: ', 133.2505099773407)\n"
     ]
    }
   ],
   "source": [
    "def main():\n",
    "    params_file = 'output/bestparams.txt'\n",
    "    psearch = False\n",
    "    if psearch:\n",
    "        if is_test:\n",
    "            print '\\nStarting parameter search using test parameters...\\n'\n",
    "        else:\n",
    "            print '\\nStarting parameter search...\\n'\n",
    "        params = parameter_search(ntrials, hyperopt_seed, is_test)\n",
    "        print(params)\n",
    "        eval(params)\n",
    "    else:\n",
    "        with open(params_file, 'rb') as f:\n",
    "            print '\\nLoading best set of model parameters from ', params_file, '...\\n'\n",
    "            params = pickle.load(f)\n",
    "        print (params)\n",
    "        eval(params)\n",
    "        \n",
    "#%%\n",
    "\n",
    "main()"
   ]
  },
  {
   "cell_type": "code",
   "execution_count": 5,
   "metadata": {},
   "outputs": [
    {
     "data": {
      "text/plain": [
       "{'l2reg': 0.0,\n",
       " 'learn_rate': 0.001,\n",
       " 'mb_size': 100,\n",
       " 'num_dense_layers': 2,\n",
       " 'num_dense_units': 500,\n",
       " 'num_epochs': 30,\n",
       " 'num_lstm_layers': 2,\n",
       " 'num_lstm_units': 100,\n",
       " 'rng_seed': 364}"
      ]
     },
     "execution_count": 5,
     "metadata": {},
     "output_type": "execute_result"
    }
   ],
   "source": [
    "res['Params']"
   ]
  },
  {
   "cell_type": "code",
   "execution_count": 6,
   "metadata": {},
   "outputs": [
    {
     "data": {
      "text/plain": [
       "'ok'"
      ]
     },
     "execution_count": 6,
     "metadata": {},
     "output_type": "execute_result"
    }
   ],
   "source": [
    "res['status']"
   ]
  },
  {
   "cell_type": "code",
   "execution_count": 7,
   "metadata": {},
   "outputs": [
    {
     "data": {
      "text/plain": [
       "[u'443938194715713536',\n",
       " u'443939406823436288',\n",
       " u'443939729071820801',\n",
       " u'443940322209329152',\n",
       " u'443940443219570689']"
      ]
     },
     "execution_count": 7,
     "metadata": {},
     "output_type": "execute_result"
    }
   ],
   "source": [
    "ids = pickle.loads(res['attachments']['ID'])\n",
    "ids[0:5]"
   ]
  },
  {
   "cell_type": "code",
   "execution_count": 8,
   "metadata": {},
   "outputs": [
    {
     "data": {
      "text/plain": [
       "['support', 'comment', 'comment', 'comment', 'comment']"
      ]
     },
     "execution_count": 8,
     "metadata": {},
     "output_type": "execute_result"
    }
   ],
   "source": [
    "pred = pickle.loads(res['attachments']['Predictions'])\n",
    "pred = [convertlabeltostr(pre) for pre in pred] \n",
    "pred[0:5]"
   ]
  },
  {
   "cell_type": "code",
   "execution_count": 9,
   "metadata": {},
   "outputs": [
    {
     "name": "stdout",
     "output_type": "stream",
     "text": [
      "1066\n"
     ]
    }
   ],
   "source": [
    "print(len(pred))"
   ]
  },
  {
   "cell_type": "code",
   "execution_count": null,
   "metadata": {},
   "outputs": [],
   "source": []
  }
 ],
 "metadata": {
  "kernelspec": {
   "display_name": "env",
   "language": "python",
   "name": "env"
  },
  "language_info": {
   "codemirror_mode": {
    "name": "ipython",
    "version": 2
   },
   "file_extension": ".py",
   "mimetype": "text/x-python",
   "name": "python",
   "nbconvert_exporter": "python",
   "pygments_lexer": "ipython2",
   "version": "2.7.15+"
  }
 },
 "nbformat": 4,
 "nbformat_minor": 2
}
