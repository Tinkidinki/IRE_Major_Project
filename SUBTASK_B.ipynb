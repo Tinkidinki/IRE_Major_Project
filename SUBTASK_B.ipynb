{
 "cells": [
  {
   "cell_type": "code",
   "execution_count": 1,
   "metadata": {},
   "outputs": [],
   "source": [
    "%run preprocess.ipynb\n",
    "%run preprocessing_tweets.ipynb\n",
    "import os \n",
    "import numpy as np\n",
    "import json\n",
    "import gensim\n",
    "import nltk\n",
    "import re\n",
    "from nltk.corpus import stopwords\n",
    "from copy import deepcopy\n",
    "import pickle\n",
    "from nltk.tokenize import TweetTokenizer\n",
    "from sklearn.svm import LinearSVC\n",
    "from sklearn.svm import SVC\n",
    "from sklearn.metrics import accuracy_score, f1_score\n",
    "from sklearn.feature_extraction.text import CountVectorizer\n",
    "from sklearn.feature_extraction.text import TfidfVectorizer\n",
    "from sklearn.feature_extraction.text import HashingVectorizer\n",
    "from sklearn.ensemble import RandomForestClassifier\n",
    "from sklearn.preprocessing import StandardScaler\n",
    "from sklearn.metrics import confusion_matrix\n",
    "# from preprocess import read_data\n",
    "# from preprocess import get_features\n",
    "from sklearn.neural_network import MLPClassifier\n",
    "from sklearn.linear_model import LogisticRegression\n",
    "from sklearn import tree\n",
    "from collections import Counter\n",
    "from sklearn.metrics import confusion_matrix\n",
    "from sklearn.metrics import precision_score\n",
    "from sklearn.metrics import recall_score\n",
    "\n",
    "import seaborn as sn\n",
    "import pandas as pd\n",
    "import matplotlib.pyplot as plt"
   ]
  },
  {
   "cell_type": "code",
   "execution_count": 2,
   "metadata": {
    "scrolled": true
   },
   "outputs": [
    {
     "name": "stdout",
     "output_type": "stream",
     "text": [
      "580323060533764097\n"
     ]
    }
   ],
   "source": [
    "all_data = read_data()"
   ]
  },
  {
   "cell_type": "code",
   "execution_count": 63,
   "metadata": {},
   "outputs": [],
   "source": [
    "model_name=['SVC_Linear','MLP','Logistic Regression','Decision Tree','Random Forest']"
   ]
  },
  {
   "cell_type": "code",
   "execution_count": 83,
   "metadata": {},
   "outputs": [],
   "source": [
    "a=[[1,2]]"
   ]
  },
  {
   "cell_type": "code",
   "execution_count": 84,
   "metadata": {
    "scrolled": true
   },
   "outputs": [
    {
     "data": {
      "text/plain": [
       "1"
      ]
     },
     "execution_count": 84,
     "metadata": {},
     "output_type": "execute_result"
    }
   ],
   "source": [
    "a[0][0]"
   ]
  },
  {
   "cell_type": "code",
   "execution_count": 143,
   "metadata": {},
   "outputs": [],
   "source": [
    "from sklearn import preprocessing\n",
    "from statistics import mean \n",
    "le = preprocessing.LabelEncoder()"
   ]
  },
  {
   "cell_type": "code",
   "execution_count": 201,
   "metadata": {},
   "outputs": [],
   "source": [
    "Wrong_conf_with={}\n",
    "right_conf_with={}\n",
    "Wrong_conf_without={}\n",
    "right_conf_without={}\n",
    "accuracy_with={}\n",
    "accuracy_without={}\n",
    "f_score_with={}\n",
    "f_score_without={}"
   ]
  },
  {
   "cell_type": "markdown",
   "metadata": {},
   "source": [
    "#### Calculating analysis of model and its confidence score"
   ]
  },
  {
   "cell_type": "code",
   "execution_count": 202,
   "metadata": {},
   "outputs": [],
   "source": [
    "def with_tweet_context(BOW_sents, all_extra_feats, Y, model, test_BOW_sents, test_all_extra_feats, Y_test,count,title,name):\n",
    "    cv = CountVectorizer()\n",
    "    cv_fit=cv.fit_transform(BOW_sents)\n",
    "    BOW_features = cv_fit.toarray()\n",
    "    \n",
    "    # Append features with Bag of words\n",
    "    X = []\n",
    "    for i in range(len(BOW_features)):\n",
    "        line = list(BOW_features[i]) + all_extra_feats[i]\n",
    "        X.append(line)\n",
    "        \n",
    "    model.fit(X, Y)\n",
    "\n",
    "    # preprocess testing set\n",
    "    test_cv_fit = cv.transform(test_BOW_sents)\n",
    "    test_BOW_features = test_cv_fit.toarray()\n",
    "\n",
    "    # Append features\n",
    "    X_test = []\n",
    "    for i in range(len(test_BOW_features)):\n",
    "        line = list(test_BOW_features[i]) + test_all_extra_feats[i]\n",
    "        X_test.append(line)\n",
    "        \n",
    "    Y_pred = model.predict(X_test)\n",
    "#     if count==1:\n",
    "#         print(\"Confidence: \",class_probabilities = model.predict_proba(sub_main))\n",
    "    print(\"Analysis for model \"+name)\n",
    "    confidence=[]\n",
    "    if count ==1 or count==3:\n",
    "        confidence=model.decision_function(X_test)\n",
    "        confidence=confidence.tolist()\n",
    "        print(type(confidence))\n",
    "        print(\"Confidence score: \",confidence)\n",
    "    else:\n",
    "        confidence=model.predict_proba(X_test)\n",
    "        confidence=confidence.tolist()\n",
    "        print(type(confidence))\n",
    "        print(\"Confidence score: \",confidence)\n",
    "        \n",
    "    print(\"accuracy : \", accuracy_score(Y_test, Y_pred))\n",
    "    accuracy_with[name]=accuracy_score(Y_test, Y_pred)\n",
    "    print(\"Macro F: \", f1_score(Y_test, Y_pred, average='macro'))\n",
    "    wrong=[]\n",
    "    right=[]\n",
    "    le.fit(Y_test)\n",
    "    Y_test1=le.transform(Y_test)\n",
    "    Y_pred1=le.transform(Y_pred)\n",
    "    for i in range(len(Y_test)):\n",
    "        x=map(abs,confidence[i])\n",
    "        print(\"xxx \",x)\n",
    "        if Y_test1[i] == Y_pred1[i]:\n",
    "            right.append(max(x))\n",
    "        else:\n",
    "            wrong.append(max(x))\n",
    "            \n",
    "            \n",
    "    print(\"right \",len(right))\n",
    "    print(\"left \",len(wrong))\n",
    "    Wrong_conf_with[name]=mean(wrong)\n",
    "    right_conf_with[name]=mean(right)\n",
    "    f_score_with[name]= f1_score(Y_test, Y_pred, average='macro')\n",
    "    print(\"Confidence_wrong \",mean(wrong))\n",
    "    print(\"Confidence_right \",mean(right))\n",
    "            \n",
    "    cf_matrix = confusion_matrix(Y_test, Y_pred)\n",
    "    df_cm = pd.DataFrame(cf_matrix, index = [i for i in range(3)],columns = [i for i in range(3)])\n",
    "    plt.figure(figsize = (6,4))\n",
    "#     sn.heatmap(df_cm, annot=True)\n",
    "    svm = sn.heatmap(df_cm, annot=True)\n",
    "    fig = svm.get_figure()\n",
    "    fig.savefig(title)\n",
    "    return Y_pred"
   ]
  },
  {
   "cell_type": "code",
   "execution_count": 203,
   "metadata": {},
   "outputs": [],
   "source": [
    "def without_tweet_context(X, Y, model, X_test, Y_test,count,title,name):\n",
    "    model.fit(X, Y)\n",
    "    Y_pred = model.predict(X_test)\n",
    "#     if count==1:\n",
    "    confidence=[]\n",
    "    print(\"Analysis for model \"+name)\n",
    "    if count ==1 or count==3:\n",
    "        confidence=model.decision_function(X_test)\n",
    "        confidence=confidence.tolist()\n",
    "        print(type(confidence))\n",
    "        print(\"Confidence score: \",confidence)\n",
    "    else:\n",
    "        confidence=model.predict_proba(X_test)\n",
    "        confidence=confidence.tolist()\n",
    "        print(type(confidence))\n",
    "        print(\"Confidence score: \",confidence)\n",
    "    accuracy_without[name]=accuracy_score(Y_test, Y_pred)\n",
    "    print(\"accuracy : \", accuracy_score(Y_test, Y_pred))\n",
    "    print(\"Macro F: \", f1_score(Y_test, Y_pred, average='macro'))\n",
    "    f_score_without[name]= f1_score(Y_test, Y_pred, average='macro')\n",
    "    wrong=[]\n",
    "    right=[]\n",
    "    \n",
    "    le.fit(Y_test)\n",
    "    Y_test1=le.transform(Y_test)\n",
    "    Y_pred1=le.transform(Y_pred)\n",
    "    for i in range(len(Y_test)):\n",
    "#         print(Y_test1[i])\n",
    "        x=map(abs,confidence[i])\n",
    "        print(\"xxx \",x)\n",
    "        if Y_test1[i] == Y_pred1[i]:\n",
    "            right.append(max(x))\n",
    "        else:\n",
    "            wrong.append(max(x))\n",
    "            \n",
    "            \n",
    "    print(\"right \",len(right))\n",
    "    print(\"left \",len(wrong))\n",
    "    Wrong_conf_without[name]=mean(wrong)\n",
    "    right_conf_without[name]=mean(right)\n",
    "    print(\"Confidence_wrong \",mean(wrong))\n",
    "    print(\"Confidence_right \",mean(right))\n",
    "    cf_matrix = confusion_matrix(Y_test, Y_pred)\n",
    "    df_cm = pd.DataFrame(cf_matrix, index = [i for i in range(3)],columns = [i for i in range(3)])\n",
    "    plt.figure(figsize = (6,4))\n",
    "#     sn.heatmap(df_cm, annot=True)   \n",
    "    svm = sn.heatmap(df_cm, annot=True)\n",
    "    fig = svm.get_figure()\n",
    "    fig.savefig(title)\n",
    "    return Y_pred"
   ]
  },
  {
   "cell_type": "code",
   "execution_count": 204,
   "metadata": {},
   "outputs": [],
   "source": [
    "def write_to_json(ids, pred, path):\n",
    "    submission = {}\n",
    "    for i, id in enumerate(ids):\n",
    "        submission[id] = [pred[i], 1]\n",
    "        subtaskaenglish = {}\n",
    "        subtaskbenglish = {}\n",
    "        \n",
    "    answer = {}\n",
    "    answer['subtaskaenglish'] = {}\n",
    "    answer['subtaskbenglish'] = submission\n",
    "\n",
    "    answer['subtaskadanish'] = {}\n",
    "    answer['subtaskbdanish'] = {}\n",
    "\n",
    "    answer['subtaskarussian'] = {}\n",
    "    answer['subtaskbrussian'] = {}\n",
    "        \n",
    "    with open(path, 'w') as f:\n",
    "        json.dump(answer, f)"
   ]
  },
  {
   "cell_type": "code",
   "execution_count": 205,
   "metadata": {},
   "outputs": [],
   "source": [
    "from sklearn.calibration import CalibratedClassifierCV"
   ]
  },
  {
   "cell_type": "code",
   "execution_count": 206,
   "metadata": {
    "scrolled": false
   },
   "outputs": [
    {
     "name": "stdout",
     "output_type": "stream",
     "text": [
      "<class 'sklearn.svm.classes.LinearSVC'>\n",
      "Without the context of the tweet in context\n",
      "Analysis for model SVC_Linear\n",
      "<class 'list'>\n",
      "Confidence score:  [[-0.5291490657975637, -0.2531103795329817, -0.2142899417412938], [-0.20550825029940337, -0.24577333551645877, -0.5390365698135731], [-0.3892312491175851, -0.18962830964036698, -0.4162818953865538], [-0.1477212432640161, -0.25605496312160925, -0.5833528579089733], [-0.21115060276310485, -0.3839033227381016, -0.40205050585297597], [-0.34713511478377745, -0.1623593997267603, -0.48324625874071675], [-0.6372444370005842, 0.1789141132952674, -0.5497746975127885], [-0.36227304484414247, -0.1403555869268785, -0.49090449076276277], [-0.3092902896328649, -0.21736893172646485, -0.46410067868560173], [0.14907305464260892, -0.6325391572209309, -0.5091146784030754], [0.06479782101784187, -0.5387420259660356, -0.5173097671457482], [-0.4389018271220849, -0.38840045851715144, -0.17009565574001184], [-0.4044991809872083, -0.3704006894844488, -0.23143904235266888], [-0.27942728215014484, -0.26077645334077715, -0.44899307551483825], [-0.31410690374298106, -0.2103677185628661, -0.4665373888744345], [-0.19685583337558793, -0.3446022196163355, -0.448895688789285], [-0.25579819725146613, -0.259823495675649, -0.4755247670846746], [-0.34276939015170693, -0.11997169071192876, -0.5349259998339145], [-0.2281437673692432, -0.27552146446743686, -0.49642764115525306], [-0.46823855526669755, 0.01367110267229421, -0.5445121149170848], [0.06105071817447566, -0.4112601282683069, -0.6393751728082276], [-0.2993206881630894, -0.16936837162876595, -0.5324690806637619], [-0.2880971875483539, -0.2481742696462994, -0.4533791538547373], [-0.8356076440598033, 0.0944671593824516, -0.26640433723500806], [-0.9087954539615557, 0.05341973875308348, -0.15632871138247895], [0.25874456395020506, -0.5982697478870126, -0.661651816668242], [-0.9858266653225961, -0.04101305563183327, 0.010642994608099032], [-0.2937071263354304, -0.24001991549104906, -0.45621720454526027], [0.12160243780538779, -0.6210007469220136, -0.4940243466795895], [-0.254970524350019, -0.20366547679374544, -0.5376451053585547], [-0.11285335782374617, -0.4595973587240239, -0.42752172027952995], [-0.43796269514596753, -0.03033652292746941, -0.5291956508729928], [-0.3686787139429555, -0.22933120985279298, -0.39607769053268116], [-0.675412343515822, -0.18893291064674236, -0.134927362707155], [-0.26484598020092087, -0.23264734312355195, -0.5058892820377043], [-0.21115060276310485, -0.3839033227381016, -0.40205050585297597], [-0.3661164463034302, -0.1937409606824272, -0.4340084106247138], [-0.16690872686717276, -0.2639054890220734, -0.5573988707589493], [-0.386143641714765, 0.09050508847652933, -0.7039700122561978], [-0.2034182694267438, -0.2036311000618112, -0.5830586281786454], [-0.46219924420004277, -0.10567980931925613, -0.4311310116389528], [-0.6680909539784982, 0.08302265788753893, -0.4249651566694649], [-0.3658787556240404, -0.1776135296189062, -0.451848097513623], [-0.6838468953704054, -0.17587699094562767, -0.14091503880916845], [-0.8177447371345326, 0.2689605253173426, -0.46915287595331584], [-0.39314585686268866, -0.3867157644533034, -0.22286317180627957], [-0.03415878462877632, -0.612690477097687, -0.3471893055793741], [-0.8537731601322412, 0.12087173474230972, -0.27559421566146325], [-0.07176810361266929, -0.5725582022952034, -0.35036874332009726], [0.2788680579774614, -0.7016485255926919, -0.5706517008372864], [-0.585734270067116, 0.007541671004820838, -0.42743149865726004], [-0.5742040656892526, 0.16769779227146697, -0.5981197390714068], [-0.2894758501110815, -0.2591973801330754, -0.4473121011896356], [-0.33578166723850367, -0.17886225932667166, -0.4775025847241822], [-0.38897661638969205, -0.14174863957857697, -0.4642952597946208], [-0.49472993287233635, 0.05217777507208737, -0.5579140209556653], [-0.12773773489958876, -0.33713618031749915, -0.5213252230472414], [-0.14228701302124153, -0.36674164804228665, -0.48490206487176934], [-0.322564335461232, -0.001910925282974263, -0.6718054377636047], [-0.06705865705015014, -0.2909378250033837, -0.6323455742377775], [-0.2705152335855623, -0.254483060309124, -0.4689526228568646], [-0.2329604782698641, -0.22061300655555274, -0.5382144558176414], [-0.12147556390458991, -0.3407613171599717, -0.5236222669152404], [-0.20309252587274146, -0.2935137003130789, -0.4936841285023203], [-0.30355192162247735, -0.15591501779893732, -0.5361004483995313], [-0.12147556390458991, -0.3407613171599717, -0.5236222669152404], [-0.1993119286475379, -0.2758414468290956, -0.5148874251818183], [0.033689637670541575, -0.4533029822108658, -0.5731095842979197], [-0.04889413973632155, -0.4099411429832961, -0.5280415566123182], [-0.0985229705678298, -0.32756735472122517, -0.5584636038373237], [-0.09176665964924657, -0.3579596407847254, -0.5345198703820262], [-0.07474354164434299, -0.36650211718403064, -0.542585059853323], [-0.09430792991741659, -0.3439297045836507, -0.5510162526784563], [-0.21272434126028728, -0.2879378945982282, -0.4901510562672552], [-0.18061828996846785, -0.3065239136477306, -0.5019279637174722], [-0.13562171204070478, -0.3471983294422832, -0.5064770115664448], [-0.16938117201633104, -0.31302902031505636, -0.5060498813250481], [-0.08757638066761834, -0.3493369669908932, -0.547080680522344], [-0.21272434126028728, -0.2879378945982282, -0.4901510562672552], [-0.15252549508812582, -0.3227866803160451, -0.5122327577364121], [-0.1314558989278693, -0.33498375531728103, -0.519961353250617]]\n",
      "accuracy :  0.4567901234567901\n",
      "Macro F:  0.3404935430251886\n",
      "xxx  <map object at 0x7ff6a9d94b70>\n",
      "xxx  <map object at 0x7ff6a74b9e48>\n",
      "xxx  <map object at 0x7ff6aa257128>\n",
      "xxx  <map object at 0x7ff6a74b9588>\n",
      "xxx  <map object at 0x7ff6a9d94b70>\n",
      "xxx  <map object at 0x7ff6a74b9e48>\n",
      "xxx  <map object at 0x7ff6aa257128>\n",
      "xxx  <map object at 0x7ff6a74b9588>\n",
      "xxx  <map object at 0x7ff6a9d94b70>\n",
      "xxx  <map object at 0x7ff6a74b9e48>\n",
      "xxx  <map object at 0x7ff6aa257128>\n",
      "xxx  <map object at 0x7ff6a74b9588>\n",
      "xxx  <map object at 0x7ff6a9d94b70>\n",
      "xxx  <map object at 0x7ff6a74b9e48>\n",
      "xxx  <map object at 0x7ff6aa257128>\n",
      "xxx  <map object at 0x7ff6a74b9588>\n",
      "xxx  <map object at 0x7ff6a9d94b70>\n",
      "xxx  <map object at 0x7ff6a74b9e48>\n",
      "xxx  <map object at 0x7ff6aa257128>\n",
      "xxx  <map object at 0x7ff6a74b9588>\n",
      "xxx  <map object at 0x7ff6a9d94b70>\n",
      "xxx  <map object at 0x7ff6a74b9e48>\n",
      "xxx  <map object at 0x7ff6aa257128>\n",
      "xxx  <map object at 0x7ff6a74b9588>\n",
      "xxx  <map object at 0x7ff6a9d94b70>\n",
      "xxx  <map object at 0x7ff6a74b9e48>\n",
      "xxx  <map object at 0x7ff6aa257128>\n",
      "xxx  <map object at 0x7ff6a74b9588>\n",
      "xxx  <map object at 0x7ff6a9d94b70>\n",
      "xxx  <map object at 0x7ff6a74b9e48>\n",
      "xxx  <map object at 0x7ff6aa257128>\n",
      "xxx  <map object at 0x7ff6a74b9588>\n",
      "xxx  <map object at 0x7ff6a9d94b70>\n",
      "xxx  <map object at 0x7ff6a74b9e48>\n",
      "xxx  <map object at 0x7ff6aa257128>\n",
      "xxx  <map object at 0x7ff6a74b9588>\n",
      "xxx  <map object at 0x7ff6a9d94b70>\n",
      "xxx  <map object at 0x7ff6a74b9e48>\n",
      "xxx  <map object at 0x7ff6aa257128>\n",
      "xxx  <map object at 0x7ff6a74b9588>\n",
      "xxx  <map object at 0x7ff6a9d94b70>\n",
      "xxx  <map object at 0x7ff6a74b9e48>\n",
      "xxx  <map object at 0x7ff6aa257128>\n",
      "xxx  <map object at 0x7ff6a74b9588>\n",
      "xxx  <map object at 0x7ff6a9d94b70>\n",
      "xxx  <map object at 0x7ff6a74b9e48>\n",
      "xxx  <map object at 0x7ff6aa257128>\n",
      "xxx  <map object at 0x7ff6a74b9588>\n",
      "xxx  <map object at 0x7ff6a9d94b70>\n",
      "xxx  <map object at 0x7ff6a74b9e48>\n",
      "xxx  <map object at 0x7ff6aa257128>\n",
      "xxx  <map object at 0x7ff6a74b9588>\n",
      "xxx  <map object at 0x7ff6a9d94b70>\n",
      "xxx  <map object at 0x7ff6a74b9e48>\n",
      "xxx  <map object at 0x7ff6aa257128>\n",
      "xxx  <map object at 0x7ff6a74b9588>\n",
      "xxx  <map object at 0x7ff6a9d94b70>\n",
      "xxx  <map object at 0x7ff6a74b9e48>\n",
      "xxx  <map object at 0x7ff6aa257128>\n",
      "xxx  <map object at 0x7ff6a74b9588>\n",
      "xxx  <map object at 0x7ff6a9d94b70>\n",
      "xxx  <map object at 0x7ff6a74b9e48>\n",
      "xxx  <map object at 0x7ff6aa257128>\n",
      "xxx  <map object at 0x7ff6a74b9588>\n",
      "xxx  <map object at 0x7ff6a9d94b70>\n",
      "xxx  <map object at 0x7ff6a74b9e48>\n",
      "xxx  <map object at 0x7ff6aa257128>\n",
      "xxx  <map object at 0x7ff6a74b9588>\n",
      "xxx  <map object at 0x7ff6a9d94b70>\n",
      "xxx  <map object at 0x7ff6a74b9e48>\n",
      "xxx  <map object at 0x7ff6aa257128>\n",
      "xxx  <map object at 0x7ff6a74b9588>\n",
      "xxx  <map object at 0x7ff6a9d94b70>\n",
      "xxx  <map object at 0x7ff6a74b9e48>\n",
      "xxx  <map object at 0x7ff6aa257128>\n",
      "xxx  <map object at 0x7ff6a74b9588>\n",
      "xxx  <map object at 0x7ff6a9d94b70>\n",
      "xxx  <map object at 0x7ff6a74b9e48>\n",
      "xxx  <map object at 0x7ff6aa257128>\n",
      "xxx  <map object at 0x7ff6a74b9588>\n",
      "xxx  <map object at 0x7ff6a9d94b70>\n",
      "right  37\n",
      "left  44\n",
      "Confidence_wrong  0.5655764935546699\n",
      "Confidence_right  0.5294264983062849\n"
     ]
    },
    {
     "name": "stdout",
     "output_type": "stream",
     "text": [
      "\n",
      "With the context of the tweet in context\n",
      "Analysis for model SVC_Linear\n",
      "<class 'list'>\n",
      "Confidence score:  [[-0.42533637420560433, -0.145582640488018, -0.4297262925351441], [-0.4121156058769829, -0.13440368069189668, -0.2626447182516835], [-0.11386317473156284, -0.22195918498706024, -0.6590933892726841], [-0.29984034073776644, -0.1970299998115858, -0.4567757184696102], [-0.17601616716148294, -0.39783560764182174, -0.32359121655571177], [-0.5817748729102558, 0.16208785378631219, -0.47089122612387774], [-0.8457241860159586, 0.4898868292724723, -0.5544523568902687], [-0.7699016880917181, 0.3738263116288475, -0.5201802428703488], [-0.09233226750081613, -0.5367463671244729, -0.3246860545734672], [0.01863462207336282, -0.46093567240572275, -0.4611632625446054], [-0.01310022296649968, -0.41715026763868723, -0.46625089133291175], [-0.12598272241819203, -0.290645187381108, -0.5127646794295537], [-0.10549979198757999, -0.276359215714743, -0.6340884398019146], [-0.04113054910592075, -0.3859335129450304, -0.5057579825307436], [-0.07682035616690132, -0.3218607170384754, -0.49681651663821486], [-0.01288989056367558, -0.42524294858002903, -0.5027485040473516], [-0.1295503451959702, -0.3819212211944849, -0.3739978246393051], [0.06711340769019185, -0.2030030963613035, -0.7682485126855406], [0.05729919572252713, -0.2503847614836719, -0.7985285714353713], [-0.04329359060061462, -0.13279999898243533, -0.8112584695655323], [-0.4762498069276022, -0.29985301858885427, -0.0789872356555677], [-0.29538353988372545, -0.2639575393212426, -0.38415807721744977], [0.02737853329231417, -0.2771322497900542, -0.7697232741412221], [-0.3875996192378087, -0.2513026059541107, -0.33323402069463803], [-0.4471737806465624, -0.20327337120331618, -0.3111547344970847], [-0.07214739603383252, -0.5265127391582779, -0.39750562459699257], [-0.15909592174677728, -0.45377292022903304, -0.3773131151527196], [-0.206280270183737, -0.7652002744649365, -0.02951612320876784], [0.41575487184936777, -0.6261368236613406, -0.8026024631793973], [0.24305462442563364, -0.5619659691928842, -0.6722183656793748], [0.3313176280115412, -0.6777825528425778, -0.6403545390339858], [-0.0861569577557968, -0.4264013023109667, -0.3996940696642137], [0.4717184655538982, -0.4152451631433593, -1.092759760700922], [-0.35354800073055176, 0.10882762631199905, -0.6987504878266595], [0.3342773279585483, -0.674930154614239, -0.6333054490875656], [-0.11601747819958284, -0.379646155767576, -0.4493444215219292], [-0.4706241150203967, -0.18927229781127705, -0.17177512709290288], [-0.29559104491689475, -0.23314735775120538, -0.298641313640571], [-0.43003804332551665, -0.16027196103967212, -0.30087441308088375], [-0.5146144207567779, -0.2530922266048895, -0.08153305084095874], [-0.04874196320096265, -0.47858422415076685, -0.3661405225815076], [-0.32144573527655407, 0.16735986694973415, -0.7937152825345584], [0.13340763981317866, -0.5161275721420404, -0.618547405984705], [0.07203798342491723, -0.44558281433665825, -0.674261858212625], [-0.33332399450196176, -0.5820595008156415, -0.16043901773050298], [-0.10117222305434205, -0.38470556248823545, -0.4457234042994722], [0.13020560433786094, -0.4741320431527102, -0.5800003559854512], [-0.21393181169164616, -0.24863407151647363, -0.5509712905817962], [0.19245103502532374, -0.47557986852052686, -0.6277333065342204], [0.131098686721903, -0.5958236570185317, -0.5693315737007862], [0.20581973950099652, -0.6323906365755585, -0.40726005093412976], [0.6036309031409252, -0.7672641392706916, -0.6981662177914393], [0.30524255032324, -0.6875725950926097, -0.4346136616309765], [0.2796267500004724, -0.6367657262347433, -0.45033387458653296], [0.07943831280882051, -0.5635190193746156, -0.3703132374536394], [0.0632457953434805, -0.7234429483673818, -0.27931343006198056], [0.3113296618498609, -0.5806616103942868, -0.7131821672285301], [0.17969809818513782, -0.5751651390082093, -0.5087737920524886], [-0.505054089743434, 0.18230161864380268, -0.66461254127475], [-0.3003365836638597, -0.07635101962437207, -0.49650215265285685], [-0.1370428979006765, -0.4971240676732809, -0.22198510270167235], [-0.11108382409862594, -0.7578190607718611, -0.1216771223106872], [0.1796592361313218, -0.3877007692400328, -0.6661786993888245], [0.325761616732615, -0.6441871392971196, -0.676620409533898], [-0.30814613763487536, -0.0014288495319964567, -0.6213585473405394], [-0.25908586405137946, 0.40232993659319394, -1.1566889358882466], [0.09272399280504352, -0.4205279387176026, -0.6853198437940209], [0.39892538306398173, -0.6162812419543336, -0.7871236674606275], [0.24946683396932967, -0.4928752248576038, -0.825288032336077], [-0.19293589880962336, -0.6124786745140701, -0.048116463214774086], [0.15793918993537104, -0.3350137079606961, -0.7654079883273308], [-0.0017952481737226883, -0.572046439596539, -0.6067147874358558], [0.3715651070218322, -0.8773997467700821, -0.5285445885537247], [0.3197462529527686, -0.3739083736495829, -0.8893468329799461], [0.19726104177696857, -0.6464092023582408, -0.5830825438693547], [-0.078440920836902, -0.1610950926846682, -0.7408204107889156], [-0.08392695948379056, -0.4955281793561356, -0.343376715129364], [-0.07269844346227344, -0.4069211416610569, -0.30717419565648807], [-0.04117882889736035, -0.185656054619299, -0.7444579620434608], [0.11804374741520006, -0.45862254789436163, -0.5748975562680585], [-0.5632142550332394, 0.26384172013047336, -0.479826134474738]]\n",
      "accuracy :  0.41975308641975306\n",
      "Macro F:  0.3088663300371695\n",
      "xxx  <map object at 0x7ff6aa06aa90>\n",
      "xxx  <map object at 0x7ff6aa06ab38>\n",
      "xxx  <map object at 0x7ff6aa06aa90>\n",
      "xxx  <map object at 0x7ff6aa06ab70>\n",
      "xxx  <map object at 0x7ff6aa06aa90>\n",
      "xxx  <map object at 0x7ff6aa06ab38>\n",
      "xxx  <map object at 0x7ff6aa06aa90>\n",
      "xxx  <map object at 0x7ff6aa06ab70>\n",
      "xxx  <map object at 0x7ff6aa06aa90>\n",
      "xxx  <map object at 0x7ff6aa06ab38>\n",
      "xxx  <map object at 0x7ff6aa06aa90>\n",
      "xxx  <map object at 0x7ff6aa06ab70>\n",
      "xxx  <map object at 0x7ff6aa06aa90>\n",
      "xxx  <map object at 0x7ff6aa06ab38>\n",
      "xxx  <map object at 0x7ff6aa06aa90>\n",
      "xxx  <map object at 0x7ff6aa06ab70>\n",
      "xxx  <map object at 0x7ff6aa06aa90>\n",
      "xxx  <map object at 0x7ff6aa06ab38>\n",
      "xxx  <map object at 0x7ff6aa06aa90>\n",
      "xxx  <map object at 0x7ff6aa06ab70>\n",
      "xxx  <map object at 0x7ff6aa06aa90>\n",
      "xxx  <map object at 0x7ff6aa06ab38>\n",
      "xxx  <map object at 0x7ff6aa06aa90>\n",
      "xxx  <map object at 0x7ff6aa06ab70>\n",
      "xxx  <map object at 0x7ff6aa06aa90>\n",
      "xxx  <map object at 0x7ff6aa06ab38>\n",
      "xxx  <map object at 0x7ff6aa06aa90>\n",
      "xxx  <map object at 0x7ff6aa06ab70>\n",
      "xxx  <map object at 0x7ff6aa06aa90>\n",
      "xxx  <map object at 0x7ff6aa06ab38>\n",
      "xxx  <map object at 0x7ff6aa06aa90>\n",
      "xxx  <map object at 0x7ff6aa06ab70>\n",
      "xxx  <map object at 0x7ff6aa06aa90>\n",
      "xxx  <map object at 0x7ff6aa06ab70>\n",
      "xxx  <map object at 0x7ff6aa06aa90>\n",
      "xxx  <map object at 0x7ff6aa06ab70>\n",
      "xxx  <map object at 0x7ff6aa06aa90>\n",
      "xxx  <map object at 0x7ff6aa06ab70>\n",
      "xxx  <map object at 0x7ff6aa06aa90>\n",
      "xxx  <map object at 0x7ff6aa06ab70>\n",
      "xxx  <map object at 0x7ff6aa06aa90>\n",
      "xxx  <map object at 0x7ff6aa06ab70>\n",
      "xxx  <map object at 0x7ff6aa06aa90>\n",
      "xxx  <map object at 0x7ff6aa06ab70>\n",
      "xxx  <map object at 0x7ff6aa06aa90>\n",
      "xxx  <map object at 0x7ff6aa06ab70>\n",
      "xxx  <map object at 0x7ff6aa06aa90>\n",
      "xxx  <map object at 0x7ff6aa06ab70>\n",
      "xxx  <map object at 0x7ff6aa06aa90>\n",
      "xxx  <map object at 0x7ff6aa06ab70>\n",
      "xxx  <map object at 0x7ff6aa06aa90>\n",
      "xxx  <map object at 0x7ff6aa06ab70>\n",
      "xxx  <map object at 0x7ff6aa06aa90>\n",
      "xxx  <map object at 0x7ff6aa06ab70>\n",
      "xxx  <map object at 0x7ff6aa06aa90>\n",
      "xxx  <map object at 0x7ff6aa06ab70>\n",
      "xxx  <map object at 0x7ff6aa06aa90>\n",
      "xxx  <map object at 0x7ff6aa06ab70>\n",
      "xxx  <map object at 0x7ff6aa06aa90>\n",
      "xxx  <map object at 0x7ff6aa06ab70>\n",
      "xxx  <map object at 0x7ff6aa06aa90>\n",
      "xxx  <map object at 0x7ff6aa06ab70>\n",
      "xxx  <map object at 0x7ff6aa06aa90>\n",
      "xxx  <map object at 0x7ff6aa06ab70>\n",
      "xxx  <map object at 0x7ff6aa06aa90>\n",
      "xxx  <map object at 0x7ff6aa06ab70>\n",
      "xxx  <map object at 0x7ff6aa06aa90>\n",
      "xxx  <map object at 0x7ff6aa06ab70>\n",
      "xxx  <map object at 0x7ff6aa06aa90>\n",
      "xxx  <map object at 0x7ff6aa06ab70>\n",
      "xxx  <map object at 0x7ff6aa06aa90>\n",
      "xxx  <map object at 0x7ff6aa06ab70>\n",
      "xxx  <map object at 0x7ff6aa06aa90>\n",
      "xxx  <map object at 0x7ff6aa06ab70>\n",
      "xxx  <map object at 0x7ff6aa06aa90>\n",
      "xxx  <map object at 0x7ff6aa06ab70>\n",
      "xxx  <map object at 0x7ff6aa06aa90>\n",
      "xxx  <map object at 0x7ff6aa06ab70>\n",
      "xxx  <map object at 0x7ff6aa06aa90>\n",
      "xxx  <map object at 0x7ff6aa06ab70>\n",
      "xxx  <map object at 0x7ff6aa06aa90>\n",
      "right  34\n",
      "left  47\n",
      "Confidence_wrong  0.6063819910422032\n",
      "Confidence_right  0.6280394248977949\n"
     ]
    },
    {
     "name": "stdout",
     "output_type": "stream",
     "text": [
      "--------\n",
      "<class 'sklearn.neural_network.multilayer_perceptron.MLPClassifier'>\n",
      "Without the context of the tweet in context\n"
     ]
    },
    {
     "name": "stderr",
     "output_type": "stream",
     "text": [
      "/home/dhawal/.local/lib/python3.6/site-packages/sklearn/neural_network/multilayer_perceptron.py:566: ConvergenceWarning: Stochastic Optimizer: Maximum iterations (1000) reached and the optimization hasn't converged yet.\n",
      "  % self.max_iter, ConvergenceWarning)\n"
     ]
    },
    {
     "name": "stdout",
     "output_type": "stream",
     "text": [
      "Analysis for model MLP\n",
      "<class 'list'>\n",
      "Confidence score:  [[0.04703284530364846, 0.4323068369316968, 0.5206603177646547], [0.3536899357614825, 0.5148395309351812, 0.13147053330333625], [0.19315898041041354, 0.5659656970905554, 0.24087532249903115], [0.34792230584510125, 0.5735103327046871, 0.07856736145021154], [0.962972764887613, 0.0017494219414267455, 0.035277813170960244], [0.06736235120644352, 0.791017339820507, 0.14162030897304942], [0.11213525360195102, 0.6327638626345483, 0.25510088376350054], [0.0865444945352148, 0.7639580847822836, 0.1494974206825017], [0.03620573722943565, 0.8617431009988298, 0.10205116177173443], [0.9935580196141348, 0.005934524893495756, 0.0005074554923694078], [0.9046482873878584, 0.0869546413338154, 0.008397071278326203], [0.7035836458593063, 0.16383164583094373, 0.1325847083097499], [0.09924362348890547, 0.4978513793125839, 0.40290499719851064], [0.034575410686587836, 0.915133450464365, 0.050291138849047096], [0.039272524306685826, 0.8473251219454221, 0.11340235374789204], [0.2393909972103894, 0.6348232985084968, 0.12578570428111374], [0.05360968967814322, 0.841222005914164, 0.10516830440769276], [0.2607138020844128, 0.36482167869273774, 0.37446451922284957], [0.6225529220407487, 0.08199900346025697, 0.29544807449899424], [0.3244639863516864, 0.500814550471742, 0.17472146317657175], [0.6999695089852318, 0.14142644742385732, 0.15860404359091093], [0.1576452232140097, 0.39984117693544685, 0.44251359985054345], [0.03382163188007949, 0.9068573786880376, 0.059320989431883], [0.04521661974761027, 0.8009747099494069, 0.15380867030298276], [0.08671950451661871, 0.6414598268343212, 0.2718206686490601], [0.9274616594283804, 0.07235348457629011, 0.00018485599532939656], [0.1075793339170955, 0.7916531373516329, 0.1007675287312716], [0.03391623164133867, 0.8987879916792827, 0.06729577667937865], [0.9964058905706656, 0.003066837596264144, 0.0005272718330701815], [0.12951147629123932, 0.5590064404506365, 0.3114820832581243], [0.9951876322181377, 0.0003380762697755487, 0.0044742915120868886], [0.2607604831563083, 0.567710906872751, 0.17152860997094066], [0.29567464859620773, 0.46495930304854793, 0.23936604835524436], [0.19774466156825948, 0.37205266654100677, 0.43020267189073375], [0.13995971688236608, 0.4790247963410417, 0.3810154867765921], [0.962972764887613, 0.0017494219414267455, 0.035277813170960244], [0.11367956683585106, 0.6851136319473499, 0.20120680121679912], [0.3394450695800888, 0.5622367009266136, 0.09831822949329772], [0.5778011554578091, 0.40202097528947717, 0.02017786925271367], [0.2599249202707941, 0.6580119791362432, 0.0820631005929628], [0.23050363431654194, 0.4385469316579535, 0.33094943402550453], [0.0763809634414292, 0.5802154510830814, 0.3434035854754895], [0.12752324713251678, 0.6207812254694276, 0.2516955273980556], [0.17210732071839674, 0.35322852488255885, 0.47466415439904447], [0.0380266200348132, 0.8301442205886008, 0.13182915937658596], [0.696056334871688, 0.16228553367761336, 0.14165813145069867], [0.12789948639978047, 0.45650520506998926, 0.41559530853023025], [0.03964163216311835, 0.8037493005890521, 0.15660906724782955], [0.15400156351771735, 0.37529731483180423, 0.47070112165047834], [0.9958432090464238, 0.004113239572055566, 4.355138152057166e-05], [0.09629886001532956, 0.5178579216390646, 0.3858432183456058], [0.2415993015512896, 0.5271259114071223, 0.23127478704158813], [0.4634274271188278, 0.1804588619062817, 0.35611371097489053], [0.05622256492318034, 0.8078558665417392, 0.13592156853508044], [0.09411329727252885, 0.6731580517540764, 0.23272865097339474], [0.29063173765609046, 0.5367662386714906, 0.17260202367241892], [0.4496964150588984, 0.42248804303409493, 0.12781554190700678], [0.4927941426088086, 0.1379223951297517, 0.3692834622614396], [0.3044293127522963, 0.6492392337252786, 0.04633145352242512], [0.5091225510118755, 0.3304295802261329, 0.16044786876199174], [0.44662659454603276, 0.22040085566195175, 0.33297254979201546], [0.36299365555384927, 0.4798850062282145, 0.15712133821793614], [0.45173356419495664, 0.4234335549589382, 0.12483288084610515], [0.4505410937145969, 0.3560146097913619, 0.19344429649404118], [0.37686507361598964, 0.38272708539130235, 0.24040784099270793], [0.45173356419495664, 0.4234335549589382, 0.12483288084610515], [0.4050478043681299, 0.4361434645378033, 0.15880873109406676], [0.7582333248668578, 0.08028584501869196, 0.16148083011445016], [0.6559794563527784, 0.1476961701750712, 0.19632437347215034], [0.4141870073849443, 0.4930624279134782, 0.09275056470157747], [0.4610283055680761, 0.42748793101596627, 0.11148376341595762], [0.48116034215373166, 0.4069470804197273, 0.11189257742654109], [0.5683678782030755, 0.23230627732512346, 0.19932584447180107], [0.4578869417080532, 0.3328198189507672, 0.2092932393411797], [0.431918835769389, 0.40551765782416516, 0.16256350640644576], [0.540988786576912, 0.24999932193523744, 0.20901189148785065], [0.43059303467048954, 0.4162684706692883, 0.1531384946602221], [0.43984209586742984, 0.4594462191578072, 0.10071168497476285], [0.4578869417080532, 0.3328198189507672, 0.2092932393411797], [0.43902617883516987, 0.4189417166115773, 0.14203210455325277], [0.4484737349005386, 0.42191120724207143, 0.12961505785738986]]\n",
      "accuracy :  0.5308641975308642\n",
      "Macro F:  0.42522831050228316\n",
      "xxx  <map object at 0x7ff6a79d22b0>\n",
      "xxx  <map object at 0x7ff6aa257128>\n",
      "xxx  <map object at 0x7ff6a67a9828>\n",
      "xxx  <map object at 0x7ff6a9d94b70>\n",
      "xxx  <map object at 0x7ff6a79d22b0>\n",
      "xxx  <map object at 0x7ff6aa257128>\n",
      "xxx  <map object at 0x7ff6a67a9828>\n",
      "xxx  <map object at 0x7ff6a9d94b70>\n",
      "xxx  <map object at 0x7ff6a79d22b0>\n",
      "xxx  <map object at 0x7ff6aa257128>\n",
      "xxx  <map object at 0x7ff6a67a9828>\n",
      "xxx  <map object at 0x7ff6a9d94b70>\n",
      "xxx  <map object at 0x7ff6a79d22b0>\n",
      "xxx  <map object at 0x7ff6aa257128>\n",
      "xxx  <map object at 0x7ff6a67a9828>\n",
      "xxx  <map object at 0x7ff6a9d94b70>\n",
      "xxx  <map object at 0x7ff6a79d22b0>\n",
      "xxx  <map object at 0x7ff6aa257128>\n",
      "xxx  <map object at 0x7ff6a67a9828>\n",
      "xxx  <map object at 0x7ff6a9d94b70>\n",
      "xxx  <map object at 0x7ff6a79d22b0>\n",
      "xxx  <map object at 0x7ff6aa257128>\n",
      "xxx  <map object at 0x7ff6a67a9828>\n",
      "xxx  <map object at 0x7ff6a9d94b70>\n",
      "xxx  <map object at 0x7ff6a79d22b0>\n",
      "xxx  <map object at 0x7ff6aa257128>\n",
      "xxx  <map object at 0x7ff6a67a9828>\n",
      "xxx  <map object at 0x7ff6a9d94b70>\n",
      "xxx  <map object at 0x7ff6a79d22b0>\n",
      "xxx  <map object at 0x7ff6aa257128>\n",
      "xxx  <map object at 0x7ff6a67a9828>\n",
      "xxx  <map object at 0x7ff6a9d94b70>\n",
      "xxx  <map object at 0x7ff6a79d22b0>\n",
      "xxx  <map object at 0x7ff6aa257128>\n",
      "xxx  <map object at 0x7ff6a67a9828>\n",
      "xxx  <map object at 0x7ff6a9d94b70>\n",
      "xxx  <map object at 0x7ff6a79d22b0>\n",
      "xxx  <map object at 0x7ff6aa257128>\n",
      "xxx  <map object at 0x7ff6a67a9828>\n",
      "xxx  <map object at 0x7ff6a9d94b70>\n",
      "xxx  <map object at 0x7ff6a79d22b0>\n",
      "xxx  <map object at 0x7ff6aa257128>\n",
      "xxx  <map object at 0x7ff6a67a9828>\n",
      "xxx  <map object at 0x7ff6a9d94b70>\n",
      "xxx  <map object at 0x7ff6a79d22b0>\n",
      "xxx  <map object at 0x7ff6aa257128>\n",
      "xxx  <map object at 0x7ff6a67a9828>\n",
      "xxx  <map object at 0x7ff6a9d94b70>\n",
      "xxx  <map object at 0x7ff6a79d22b0>\n",
      "xxx  <map object at 0x7ff6aa257128>\n",
      "xxx  <map object at 0x7ff6a67a9828>\n",
      "xxx  <map object at 0x7ff6a9d94b70>\n",
      "xxx  <map object at 0x7ff6a79d22b0>\n",
      "xxx  <map object at 0x7ff6aa257128>\n",
      "xxx  <map object at 0x7ff6a67a9828>\n",
      "xxx  <map object at 0x7ff6a9d94b70>\n",
      "xxx  <map object at 0x7ff6a79d22b0>\n",
      "xxx  <map object at 0x7ff6aa257128>\n",
      "xxx  <map object at 0x7ff6a67a9828>\n",
      "xxx  <map object at 0x7ff6a9d94b70>\n",
      "xxx  <map object at 0x7ff6a79d22b0>\n",
      "xxx  <map object at 0x7ff6aa257128>\n",
      "xxx  <map object at 0x7ff6a67a9828>\n",
      "xxx  <map object at 0x7ff6a9d94b70>\n",
      "xxx  <map object at 0x7ff6a79d22b0>\n",
      "xxx  <map object at 0x7ff6aa257128>\n",
      "xxx  <map object at 0x7ff6a67a9828>\n",
      "xxx  <map object at 0x7ff6a9d94b70>\n",
      "xxx  <map object at 0x7ff6a79d22b0>\n",
      "xxx  <map object at 0x7ff6aa257128>\n",
      "xxx  <map object at 0x7ff6a67a9828>\n",
      "xxx  <map object at 0x7ff6a9d94b70>\n",
      "xxx  <map object at 0x7ff6a79d22b0>\n",
      "xxx  <map object at 0x7ff6aa257128>\n",
      "xxx  <map object at 0x7ff6a67a9828>\n",
      "xxx  <map object at 0x7ff6a9d94b70>\n",
      "xxx  <map object at 0x7ff6a79d22b0>\n",
      "xxx  <map object at 0x7ff6aa257128>\n",
      "xxx  <map object at 0x7ff6a67a9828>\n",
      "xxx  <map object at 0x7ff6a9d94b70>\n",
      "xxx  <map object at 0x7ff6a79d22b0>\n",
      "right  43\n",
      "left  38\n",
      "Confidence_wrong  0.5365579155469824\n",
      "Confidence_right  0.6944235540289623\n",
      "\n"
     ]
    },
    {
     "name": "stdout",
     "output_type": "stream",
     "text": [
      "With the context of the tweet in context\n",
      "Analysis for model MLP\n",
      "<class 'list'>\n",
      "Confidence score:  [[0.11919903667431841, 0.5478505411198895, 0.332950422205792], [0.08291087340475843, 0.3604655547896105, 0.556623571805631], [0.15789945591123278, 0.6881283787397714, 0.15397216534899588], [0.3396833575836264, 0.5088599901786752, 0.15145665223769833], [0.29465053768497257, 0.31774903242396585, 0.3876004298910615], [0.07862790547950117, 0.681829973377229, 0.23954212114326998], [0.023159507879248344, 0.8742964279485078, 0.10254406417224375], [0.019992210646615945, 0.8924372710015903, 0.08757051835179373], [0.374420099596231, 0.04993111397482286, 0.5756487864289461], [0.2190665083568173, 0.5564009347239501, 0.22453255691923266], [0.2054323085567133, 0.5829663780478693, 0.2116013133954174], [0.11492858483379974, 0.6654827062047605, 0.21958870896143978], [0.33796248077378754, 0.34825069793323155, 0.3137868212929809], [0.5368188793695075, 0.20762537929039854, 0.25555574134009396], [0.4740600941380253, 0.16282979039980502, 0.36311011546216976], [0.5469022334165972, 0.19349906633174124, 0.2595987002516616], [0.4528727445778421, 0.2628909684844205, 0.2842362869377374], [0.08669738298222937, 0.8291369609678302, 0.0841656560499405], [0.07157510898608138, 0.8373502320688514, 0.09107465894506717], [0.05771141303161162, 0.8643103157089436, 0.07797827125944488], [0.10403817540827848, 0.37587900777203714, 0.5200828168196845], [0.33146255494906357, 0.13024944274146164, 0.5382880023094747], [0.4641615350252672, 0.3943738777935869, 0.14146458718114596], [0.6605422210969362, 0.046516570074203484, 0.2929412088288603], [0.7113835397668784, 0.05436293501714098, 0.23425352521598067], [0.5590929662742786, 0.13184448492056117, 0.30906254880516026], [0.17501157614748594, 0.24581038610999897, 0.5791780377425151], [0.19849769069834372, 0.0908834377487693, 0.7106188715528869], [0.6659442036708211, 0.20339073927486168, 0.13066505705431725], [0.8542380614884545, 0.12164356924786326, 0.024118369263682195], [0.8759177483994252, 0.09892632047213717, 0.02515593112843765], [0.4229215255234064, 0.22756482981957263, 0.3495136446570209], [0.7747739412527961, 0.17513757522246584, 0.05008848352473819], [0.15415988450694246, 0.569361263589178, 0.2764788519038795], [0.8775728179002596, 0.06599850848654785, 0.05642867361319249], [0.4808208825462536, 0.3564683012345374, 0.16271081621920902], [0.09091531940643593, 0.399854246222078, 0.5092304343714861], [0.16462254853471472, 0.3987102313949037, 0.43666722007038167], [0.14042484095958555, 0.4207190610664772, 0.43885609797393726], [0.090951158354399, 0.38138913278062714, 0.5276597088649738], [0.6074833360320232, 0.07630806791108051, 0.3162085960568962], [0.052986369506810835, 0.9266860655371444, 0.02032756495604485], [0.7976584505270301, 0.02498943333271742, 0.17735211614025245], [0.7097385318651878, 0.03237451462956925, 0.2578869535052429], [0.15299732357071172, 0.025119884502755097, 0.8218827919265331], [0.4152048561666949, 0.3661714487527596, 0.2186236950805455], [0.6133672203073232, 0.2575872286254635, 0.12904555106721327], [0.37092030611299387, 0.5269047640643304, 0.1021749298226757], [0.6665230547044921, 0.19190844554329675, 0.14156849975221117], [0.6926290499741451, 0.1678926053612786, 0.13947834466457626], [0.8132930284313007, 0.07279541239533774, 0.11391155917336145], [0.9712820202336458, 0.01521261642389119, 0.013505363342462872], [0.8399154095317899, 0.06115900353940603, 0.09892558692880393], [0.8352678511850857, 0.06808035766374063, 0.09665179115117364], [0.4046161804341725, 0.23041525154998507, 0.3649685680158425], [0.6535318303034713, 0.11559998360864882, 0.23086818608787993], [0.870838141976461, 0.039923478031618095, 0.08923837999192076], [0.6304596300086724, 0.2075685405362897, 0.16197182945503785], [0.13739470708913307, 0.7880258474175311, 0.0745794454933357], [0.35980478188993686, 0.5503409130928323, 0.08985430501723084], [0.3289876858523079, 0.26882283226480536, 0.4021894818828867], [0.3441691112190676, 0.25185313381727564, 0.40397775496365673], [0.7080816413930198, 0.19017438304490525, 0.10174397556207508], [0.8263297825682637, 0.06595145477076364, 0.10771876266097258], [0.21174710877274533, 0.6599322619849783, 0.1283206292422764], [0.07108543357050276, 0.9031452511233032, 0.025769315306193998], [0.782171247557966, 0.10776334776659949, 0.11006540467543453], [0.9214150484087836, 0.060267002384861657, 0.0183179492063549], [0.9069160547989511, 0.03794567589034218, 0.055138269310706714], [0.2579304898806033, 0.06823907949318037, 0.6738304306262163], [0.7625197159649434, 0.1626371191962213, 0.07484316483883524], [0.2321136052738458, 0.05499712621075271, 0.7128892685154015], [0.7189989244641093, 0.020444496113296858, 0.2605565794225939], [0.934602660243257, 0.044286977289223935, 0.021110362467519017], [0.4809672294795533, 0.03382974917680252, 0.4852030213436442], [0.2761842993474791, 0.5824109856533225, 0.14140471499919843], [0.8611802146711051, 0.08400694312965647, 0.054812842199238425], [0.44026997242082233, 0.2666437629870835, 0.2930862645920942], [0.6786358224734917, 0.29088644779008194, 0.030477729736426182], [0.7766522277967383, 0.14175631335603395, 0.08159145884722764], [0.1622886450362368, 0.7059132036385855, 0.13179815132517786]]\n",
      "accuracy :  0.3333333333333333\n",
      "Macro F:  0.300335770653304\n",
      "xxx  <map object at 0x7ff6a674a048>\n",
      "xxx  <map object at 0x7ff6a674a0b8>\n",
      "xxx  <map object at 0x7ff6a674a048>\n",
      "xxx  <map object at 0x7ff6a674a080>\n",
      "xxx  <map object at 0x7ff6a674a048>\n",
      "xxx  <map object at 0x7ff6a674a0b8>\n",
      "xxx  <map object at 0x7ff6a674a048>\n",
      "xxx  <map object at 0x7ff6a674a080>\n",
      "xxx  <map object at 0x7ff6a674a048>\n",
      "xxx  <map object at 0x7ff6a674a0b8>\n",
      "xxx  <map object at 0x7ff6a674a048>\n",
      "xxx  <map object at 0x7ff6a674a080>\n",
      "xxx  <map object at 0x7ff6a674a048>\n",
      "xxx  <map object at 0x7ff6a674a0b8>\n",
      "xxx  <map object at 0x7ff6a674a048>\n",
      "xxx  <map object at 0x7ff6a674a080>\n",
      "xxx  <map object at 0x7ff6a674a048>\n",
      "xxx  <map object at 0x7ff6a674a0b8>\n",
      "xxx  <map object at 0x7ff6a674a048>\n",
      "xxx  <map object at 0x7ff6a674a080>\n",
      "xxx  <map object at 0x7ff6a674a048>\n",
      "xxx  <map object at 0x7ff6a674a0b8>\n",
      "xxx  <map object at 0x7ff6a674a048>\n",
      "xxx  <map object at 0x7ff6a674a080>\n",
      "xxx  <map object at 0x7ff6a674a048>\n",
      "xxx  <map object at 0x7ff6a674a0b8>\n",
      "xxx  <map object at 0x7ff6a674a048>\n",
      "xxx  <map object at 0x7ff6a674a080>\n",
      "xxx  <map object at 0x7ff6a674a048>\n",
      "xxx  <map object at 0x7ff6a674a0b8>\n",
      "xxx  <map object at 0x7ff6a674a048>\n",
      "xxx  <map object at 0x7ff6a674a080>\n",
      "xxx  <map object at 0x7ff6a674a048>\n",
      "xxx  <map object at 0x7ff6a674a0b8>\n",
      "xxx  <map object at 0x7ff6a674a048>\n",
      "xxx  <map object at 0x7ff6a674a080>\n",
      "xxx  <map object at 0x7ff6a674a048>\n",
      "xxx  <map object at 0x7ff6aa30f390>\n",
      "xxx  <map object at 0x7ff6a9cfbf98>\n",
      "xxx  <map object at 0x7ff6aa06acc0>\n",
      "xxx  <map object at 0x7ff6a9cfbf98>\n",
      "xxx  <map object at 0x7ff6aa30f390>\n",
      "xxx  <map object at 0x7ff6a9cfbf98>\n",
      "xxx  <map object at 0x7ff6aa06acc0>\n",
      "xxx  <map object at 0x7ff6a9cfbf98>\n",
      "xxx  <map object at 0x7ff6aa30f390>\n",
      "xxx  <map object at 0x7ff6a9cfbf98>\n",
      "xxx  <map object at 0x7ff6aa06acc0>\n",
      "xxx  <map object at 0x7ff6a9cfbf98>\n",
      "xxx  <map object at 0x7ff6aa30f390>\n",
      "xxx  <map object at 0x7ff6a9cfbf98>\n",
      "xxx  <map object at 0x7ff6aa06acc0>\n",
      "xxx  <map object at 0x7ff6a9cfbf98>\n",
      "xxx  <map object at 0x7ff6aa30f390>\n",
      "xxx  <map object at 0x7ff6a9cfbf98>\n",
      "xxx  <map object at 0x7ff6aa06acc0>\n",
      "xxx  <map object at 0x7ff6a9cfbf98>\n",
      "xxx  <map object at 0x7ff6a7eec0f0>\n",
      "xxx  <map object at 0x7ff6a9cfbf98>\n",
      "xxx  <map object at 0x7ff6aa06acc0>\n",
      "xxx  <map object at 0x7ff6a9cfbf98>\n",
      "xxx  <map object at 0x7ff6a7eec0f0>\n",
      "xxx  <map object at 0x7ff6a9cfbf98>\n",
      "xxx  <map object at 0x7ff6aa06acc0>\n",
      "xxx  <map object at 0x7ff6a9cfbf98>\n",
      "xxx  <map object at 0x7ff6a7eec0f0>\n",
      "xxx  <map object at 0x7ff6a9cfbf98>\n",
      "xxx  <map object at 0x7ff6aa06acc0>\n",
      "xxx  <map object at 0x7ff6a9cfbf98>\n",
      "xxx  <map object at 0x7ff6a7eec0f0>\n",
      "xxx  <map object at 0x7ff6a9cfbf98>\n",
      "xxx  <map object at 0x7ff6aa06acc0>\n",
      "xxx  <map object at 0x7ff6a9cfbf98>\n",
      "xxx  <map object at 0x7ff6a7eec0f0>\n",
      "xxx  <map object at 0x7ff6a9cfbf98>\n",
      "xxx  <map object at 0x7ff6aa06acc0>\n",
      "xxx  <map object at 0x7ff6a9cfbf98>\n",
      "xxx  <map object at 0x7ff6a7eec0f0>\n",
      "xxx  <map object at 0x7ff6a9cfbf98>\n",
      "xxx  <map object at 0x7ff6aa06acc0>\n",
      "xxx  <map object at 0x7ff6a9cfbf98>\n",
      "right  27\n",
      "left  54\n",
      "Confidence_wrong  0.6532151768737747\n",
      "Confidence_right  0.6775716236636105\n"
     ]
    },
    {
     "name": "stdout",
     "output_type": "stream",
     "text": [
      "--------\n",
      "<class 'sklearn.linear_model.logistic.LogisticRegression'>\n",
      "Without the context of the tweet in context\n",
      "Analysis for model Logistic Regression\n",
      "<class 'list'>\n",
      "Confidence score:  [[-0.31203445309641403, 0.13801503332167375, 0.17401941977475266], [0.22654078362542937, 0.12803514531567567, -0.354575928941097], [-0.08659918427984353, 0.2376152065610932, -0.15101602228124322], [0.2720453926683655, 0.12989078640849994, -0.40193617907685736], [0.11683985873887981, 0.02770008778405617, -0.14453994652292923], [-0.06674337432805344, 0.28602302830832693, -0.219279653980267], [-0.4059657735090339, 0.6688407962027393, -0.26287502269369867], [-0.08604877482790524, 0.31167916855046285, -0.2256303937225511], [-0.01847987307842386, 0.22188267770298717, -0.20340280462455682], [0.47242036071686083, -0.20470809897858736, -0.2677122617382661], [0.37539845639739666, -0.10300637804742611, -0.2723920783499633], [-0.3538916465950969, 0.06746495191562105, 0.2864266946794869], [-0.17602310676133098, 0.019706306883491353, 0.15631679987785263], [0.01960441699855653, 0.17127011013440996, -0.19087452713296005], [-0.024622500510194878, 0.2300459950527577, -0.2054234945425563], [0.11156539511028102, 0.08250741936744624, -0.19407281447772062], [0.036532840929700494, 0.18029037418597443, -0.21682321511566832], [0.07968282195827114, 0.26087424049406494, -0.34055706245232803], [0.06337153245490124, 0.17068332080661053, -0.23405485326150471], [-0.221186578326868, 0.49127215024541426, -0.2700855719185396], [0.4828281209776435, -0.017857941108710883, -0.46497017986892397], [-0.02866936906677975, 0.2939218089029575, -0.26525243983617086], [0.008547687621368705, 0.1859640813639969, -0.1945117689853591], [-0.8249255285587829, 0.6086286355121305, 0.21629689304666333], [-0.86187962524507, 0.5330801606485014, 0.3287994645965794], [0.5395425199249805, -0.12258736491642201, -0.41695515500855035], [-0.8811822877661211, 0.38420998023263225, 0.4969723075334993], [0.0013933333184824037, 0.19547194510078844, -0.19686527841926438], [0.44818569470283487, -0.19684493416058213, -0.2513407605422454], [0.01612903584999542, 0.2586221785979767, -0.27475121444796524], [0.21723857626496565, -0.04474067887518416, -0.17249789738977445], [-0.1825757773271644, 0.43995986976114243, -0.2573840924339714], [-0.05662971788584492, 0.18947632596339625, -0.13284660807754492], [-0.6012974024473234, 0.26869514470942824, 0.33260225773790597], [0.17971437963559259, 0.13344641409613492, -0.3131607937317192], [0.11683985873887981, 0.02770008778405617, -0.14453994652292923], [-0.06839734066266911, 0.23835746299822289, -0.16996012233554736], [0.2612440355451888, 0.1140249998283089, -0.37526903537348966], [-0.03201466520430074, 0.5339749952221406, -0.5019603300178316], [0.21192768645449064, 0.18565736313146397, -0.39758504958594654], [-0.1711979138296798, 0.3313448296230954, -0.16014691579340912], [-0.39148485633041713, 0.5306034723906794, -0.13911861606025566], [-0.07425689494196902, 0.26085275041910555, -0.18659585547713006], [-0.612274946399167, 0.284430827477671, 0.32784411892150667], [-0.5702563857583103, 0.7414713546342331, -0.17121496887591628], [-0.3209099731827672, 0.08532255827386656, 0.23558741490891222], [0.18376051316789888, -0.20417126627244261, 0.020410753104557033], [-0.848092009158605, 0.6394160038026936, 0.20867600535592246], [0.14123501276764727, -0.16063429104559152, 0.019399278277957566], [0.5929380748816229, -0.25973475464938456, -0.33320332023223054], [-0.3033700793301222, 0.45090001528364576, -0.14752993595351704], [-0.35632438182583076, 0.6708651319403657, -0.31454075011452814], [0.012332497708617274, 0.1731081228319639, -0.1854406205405745], [-0.05226432395316455, 0.266780923126725, -0.21451659917355395], [-0.10472684323773573, 0.3025036833318791, -0.19777684009413685], [-0.2549710292016087, 0.5361703956691521, -0.28119936646753674], [0.31742999711540393, 0.025579064959107726, -0.34300906207450366], [0.31890237143206873, -0.015784484108490506, -0.3031178873235701], [0.049068016895076894, 0.4262192062051698, -0.4752872231002384], [0.3441009738960879, 0.10767248724169996, -0.45177346113777944], [0.18310500149016312, 0.09849830053147898, -0.2816033020216342], [0.1971691912919977, 0.15460296435135354, -0.3517721556433432], [0.3233214442919496, 0.022380852872600214, -0.3457022971645418], [0.24653624942430463, 0.06406421706674811, -0.3106004664910448], [0.12164223957745918, 0.22292021330023945, -0.3445624528776906], [0.3233214442919496, 0.022380852872600214, -0.3457022971645418], [0.24249756750579676, 0.08902075178309343, -0.3315183192888822], [0.4793600629406113, -0.0816468999359045, -0.3977131630046982], [0.4024348153216543, -0.04954084946476589, -0.35289396585688027], [0.33478794429288394, 0.04650833062155821, -0.3812962749144341], [0.35127156578067775, 0.007207939718006443, -0.3584795054986762], [0.36683116170980473, 0.0004908032844987472, -0.3673219649942954], [0.3445186138220988, 0.027427571261641855, -0.37194618508373245], [0.23747464257657014, 0.06898337184742395, -0.3064580144239861], [0.26767999873568515, 0.05258618924517115, -0.3202661879808483], [0.31584365076884485, 0.01083858511856308, -0.3266822358873999], [0.27825187339137536, 0.04684717533438268, -0.3250990487257501], [0.35098848580918723, 0.020025089359008815, -0.37101357516818806], [0.23747464257657014, 0.06898337184742395, -0.3064580144239861], [0.2941096853749108, 0.03823865446819996, -0.33234833984310275], [0.31393195035432997, 0.027478003385471562, -0.34140995373979355]]\n",
      "accuracy :  0.4691358024691358\n",
      "Macro F:  0.3493589743589744\n",
      "xxx  <map object at 0x7ff6aa39efd0>\n",
      "xxx  <map object at 0x7ff6aa39ed68>\n",
      "xxx  <map object at 0x7ff6aa39efd0>\n",
      "xxx  <map object at 0x7ff6aa39eeb8>\n",
      "xxx  <map object at 0x7ff6aa39efd0>\n",
      "xxx  <map object at 0x7ff6aa39ed68>\n",
      "xxx  <map object at 0x7ff6aa39efd0>\n",
      "xxx  <map object at 0x7ff6aa39eeb8>\n",
      "xxx  <map object at 0x7ff6aa39efd0>\n",
      "xxx  <map object at 0x7ff6aa39ed68>\n",
      "xxx  <map object at 0x7ff6aa39efd0>\n",
      "xxx  <map object at 0x7ff6aa39eeb8>\n",
      "xxx  <map object at 0x7ff6aa39efd0>\n",
      "xxx  <map object at 0x7ff6aa39ed68>\n",
      "xxx  <map object at 0x7ff6aa39efd0>\n",
      "xxx  <map object at 0x7ff6aa39eeb8>\n",
      "xxx  <map object at 0x7ff6aa39efd0>\n",
      "xxx  <map object at 0x7ff6aa39ed68>\n",
      "xxx  <map object at 0x7ff6aa39efd0>\n",
      "xxx  <map object at 0x7ff6aa39eeb8>\n",
      "xxx  <map object at 0x7ff6aa39efd0>\n",
      "xxx  <map object at 0x7ff6aa39ed68>\n",
      "xxx  <map object at 0x7ff6aa39efd0>\n",
      "xxx  <map object at 0x7ff6aa39eeb8>\n",
      "xxx  <map object at 0x7ff6aa39efd0>\n",
      "xxx  <map object at 0x7ff6aa39ed68>\n",
      "xxx  <map object at 0x7ff6aa39efd0>\n",
      "xxx  <map object at 0x7ff6aa39eeb8>\n",
      "xxx  <map object at 0x7ff6aa39efd0>\n",
      "xxx  <map object at 0x7ff6aa39ed68>\n",
      "xxx  <map object at 0x7ff6aa39efd0>\n",
      "xxx  <map object at 0x7ff6aa39eeb8>\n",
      "xxx  <map object at 0x7ff6aa39efd0>\n",
      "xxx  <map object at 0x7ff6aa39ed68>\n",
      "xxx  <map object at 0x7ff6aa39efd0>\n",
      "xxx  <map object at 0x7ff6aa39eeb8>\n",
      "xxx  <map object at 0x7ff6aa39efd0>\n",
      "xxx  <map object at 0x7ff6aa39ed68>\n",
      "xxx  <map object at 0x7ff6aa39efd0>\n",
      "xxx  <map object at 0x7ff6aa39eeb8>\n",
      "xxx  <map object at 0x7ff6aa39efd0>\n",
      "xxx  <map object at 0x7ff6aa39ed68>\n",
      "xxx  <map object at 0x7ff6aa39efd0>\n",
      "xxx  <map object at 0x7ff6aa39eeb8>\n",
      "xxx  <map object at 0x7ff6aa39efd0>\n",
      "xxx  <map object at 0x7ff6aa39ed68>\n",
      "xxx  <map object at 0x7ff6aa39efd0>\n",
      "xxx  <map object at 0x7ff6aa39eeb8>\n",
      "xxx  <map object at 0x7ff6aa39efd0>\n",
      "xxx  <map object at 0x7ff6aa39ed68>\n",
      "xxx  <map object at 0x7ff6aa39efd0>\n",
      "xxx  <map object at 0x7ff6aa39eeb8>\n",
      "xxx  <map object at 0x7ff6aa39efd0>\n",
      "xxx  <map object at 0x7ff6aa39ed68>\n",
      "xxx  <map object at 0x7ff6aa39efd0>\n",
      "xxx  <map object at 0x7ff6aa39eeb8>\n",
      "xxx  <map object at 0x7ff6aa39efd0>\n",
      "xxx  <map object at 0x7ff6aa39ed68>\n",
      "xxx  <map object at 0x7ff6aa39efd0>\n",
      "xxx  <map object at 0x7ff6aa39eeb8>\n",
      "xxx  <map object at 0x7ff6aa39efd0>\n",
      "xxx  <map object at 0x7ff6aa39ed68>\n",
      "xxx  <map object at 0x7ff6aa39efd0>\n",
      "xxx  <map object at 0x7ff6aa39eeb8>\n",
      "xxx  <map object at 0x7ff6aa39efd0>\n",
      "xxx  <map object at 0x7ff6aa39ed68>\n",
      "xxx  <map object at 0x7ff6aa39efd0>\n",
      "xxx  <map object at 0x7ff6aa39eeb8>\n",
      "xxx  <map object at 0x7ff6aa39efd0>\n",
      "xxx  <map object at 0x7ff6aa39ed68>\n",
      "xxx  <map object at 0x7ff6aa39efd0>\n",
      "xxx  <map object at 0x7ff6aa39eeb8>\n",
      "xxx  <map object at 0x7ff6aa39efd0>\n",
      "xxx  <map object at 0x7ff6aa39ed68>\n",
      "xxx  <map object at 0x7ff6aa39efd0>\n",
      "xxx  <map object at 0x7ff6aa39eeb8>\n",
      "xxx  <map object at 0x7ff6aa39efd0>\n",
      "xxx  <map object at 0x7ff6aa39ed68>\n",
      "xxx  <map object at 0x7ff6aa39efd0>\n",
      "xxx  <map object at 0x7ff6aa39eeb8>\n",
      "xxx  <map object at 0x7ff6aa39efd0>\n",
      "right  38\n",
      "left  43\n",
      "Confidence_wrong  0.41003458183130953\n",
      "Confidence_right  0.3405128733018492\n"
     ]
    },
    {
     "name": "stdout",
     "output_type": "stream",
     "text": [
      "\n",
      "With the context of the tweet in context\n",
      "Analysis for model Logistic Regression\n",
      "<class 'list'>\n",
      "Confidence score:  [[-0.14516825660079485, 0.38117016550439087, -0.23600190890359835], [-0.08935154834886189, 0.06411456450626726, 0.025236983842590988], [0.34467723414723345, 0.025916569084575597, -0.37059380323181124], [0.24273181739830835, 0.07643830688891023, -0.3191701242872226], [0.3046765549980365, -0.29237909440457965, -0.012297460593459708], [-0.30399217867026246, 0.5286221394631752, -0.2246299607929153], [-0.6742999566482917, 1.0125428834481558, -0.33824292679986667], [-0.5107815912083058, 0.7435281911024257, -0.23274659989412227], [0.3847208652683892, -0.3609090796180482, -0.02381178565034378], [0.4865246199163691, -0.24979733792309597, -0.23672728199327592], [0.4396952663412956, -0.20093222786358242, -0.23876303847771602], [0.15713602300313345, 0.021140882380675186, -0.17827690538381102], [0.4108529375703246, 0.057731920696265815, -0.4685848582665938], [0.505133831066177, -0.30177782819763443, -0.203356002868545], [0.40583775195631167, -0.22535909631254292, -0.18047865564377147], [0.5471873226121688, -0.3430436206347257, -0.20414370197744558], [0.35456032259124465, -0.2619178985510511, -0.09264242404019649], [0.6471502064567294, 0.11061845672988274, -0.757768663186617], [0.6052384518067089, -0.0054468066106986845, -0.5997916451960141], [0.46147211402237087, 0.14604689992173192, -0.6075190139441067], [0.007431226104890554, -0.1420682639297774, 0.1346370378248829], [0.25005812819614726, -0.22776447044973086, -0.02229365774641945], [0.4986340345974014, -0.11935710338997425, -0.3792769312074294], [0.03935047726945995, -0.06192804469679483, 0.022577567427332412], [-0.013342104617571349, -0.07028383300979513, 0.08362593762736398], [0.48729741769752555, -0.3466580457434817, -0.14063937195404713], [0.13707071532626153, -0.21556382056050916, 0.07849310523424496], [0.2938513700118807, -0.6280800837248026, 0.33422871371292], [1.2420591453063103, -0.5817594179178678, -0.6602997273884454], [0.7784159394707847, -0.13595834191270914, -0.6424575975580785], [0.903736215528909, -0.297897386647692, -0.6058388288812201], [0.30141893026014466, -0.2144633530654818, -0.08695557719466515], [1.4264834190179667, -0.4517468446918308, -0.97473657432614], [-0.17190312457605011, 0.5281028490647107, -0.3561997244886626], [0.9790153722181443, -0.3869122915672596, -0.592103080650888], [0.49790834107224125, -0.24958281426024986, -0.24832552681199455], [-0.03883902787117899, -0.10870276583932668, 0.1475417937105032], [0.2695611714240756, -0.09758996306476456, -0.17197120835931387], [0.09573532867061618, 0.08953058843982398, -0.18526591711044305], [0.048852565772146195, -0.06115161232760759, 0.012299046555458687], [0.5069542289847109, -0.4398154121942333, -0.06713881679048084], [0.1342216025924347, 0.4443389840367188, -0.578560586629157], [0.767902370340008, -0.5763894591772987, -0.19151291116271235], [0.5609359492752597, -0.40947426018332816, -0.15146168909193392], [0.15955208817675542, -0.44157049729070375, 0.28201840911394543], [0.2400346594011349, -0.13809320788454504, -0.10194145151659237], [0.6266697327081401, -0.19226367419754214, -0.4344060585106011], [-0.02735706856770831, 0.3067414561789512, -0.279384387611245], [0.7804126883986588, -0.29226320930276717, -0.4881494790958948], [0.6905434621042411, -0.286194072362889, -0.404349389741355], [0.7862188689554548, -0.585189382133158, -0.20102948682229999], [1.434428609147344, -0.7544837937394686, -0.679944815407879], [0.9206964311930192, -0.6815422338207319, -0.23915419737229054], [0.8812560565274825, -0.6264131993538382, -0.25484285717364746], [0.7526788471258677, -0.5050687154998155, -0.24761013162605588], [0.7360216301405937, -0.6040742775412814, -0.13194735259931556], [1.0494338003853516, -0.42620411551345305, -0.6232296848719029], [0.8480933575394335, -0.43059462224451894, -0.41749873529491854], [-0.00299304413778273, 0.5003706456645285, -0.4973776015267493], [0.37615785643293603, 0.15260218987298346, -0.5287600463059237], [0.5921045625028474, -0.5383561933618174, -0.05374836914103373], [0.5924402828343844, -0.7497885142248233, 0.15734823139043402], [0.8610315625059393, -0.27785463817423145, -0.5831769243317118], [0.6927477866883143, -0.31206033646398335, -0.3806874502243351], [0.17884013070306443, 0.253104954153316, -0.4319450848563844], [0.36727481893457387, 0.7355990732325193, -1.102873892167098], [0.8385054269638947, -0.2114034987963183, -0.6271019281675807], [1.3407957296387074, -0.3419251673372016, -0.9988705623015106], [1.1533007907116695, -0.2981513332503449, -0.8551494574613292], [0.36358462495079075, -0.5575429082703403, 0.19395828331954584], [1.073976610089149, -0.09982331207935652, -0.9741532980097976], [0.5723021507340779, -0.2751355502357223, -0.29716660049835997], [1.2073621400809047, -0.7679499465446933, -0.43941219353621547], [1.147702724452639, -0.22591805040371488, -0.9217846740489286], [0.98763303722136, -0.4595553798337729, -0.5280776573875913], [0.5966238576965337, 0.13849074280108964, -0.735114600497627], [0.6273863923202947, -0.2000524085262234, -0.4273339837940755], [0.4873198201891495, -0.27176114969933807, -0.21555867048981514], [0.7632851059953818, 0.10428189418003209, -0.8675670001754183], [0.9003729016913437, -0.2674609562530504, -0.6329119454382975], [-0.09901997055436657, 0.43785484339659764, -0.3388348728422347]]\n",
      "accuracy :  0.4691358024691358\n",
      "Macro F:  0.36512621745179885\n",
      "xxx  <map object at 0x7ff6a667efd0>\n",
      "xxx  <map object at 0x7ff6a8fa17f0>\n",
      "xxx  <map object at 0x7ff6aa39eef0>\n",
      "xxx  <map object at 0x7ff6a8fa1748>\n",
      "xxx  <map object at 0x7ff6a667efd0>\n",
      "xxx  <map object at 0x7ff6a8fa17f0>\n",
      "xxx  <map object at 0x7ff6aa39eef0>\n",
      "xxx  <map object at 0x7ff6a8fa1748>\n",
      "xxx  <map object at 0x7ff6a667efd0>\n",
      "xxx  <map object at 0x7ff6a8fa17f0>\n",
      "xxx  <map object at 0x7ff6aa39eef0>\n",
      "xxx  <map object at 0x7ff6a8fa1748>\n",
      "xxx  <map object at 0x7ff6a667efd0>\n",
      "xxx  <map object at 0x7ff6a8fa17f0>\n",
      "xxx  <map object at 0x7ff6aa39eef0>\n",
      "xxx  <map object at 0x7ff6a8fa1748>\n",
      "xxx  <map object at 0x7ff6a667efd0>\n",
      "xxx  <map object at 0x7ff6a8fa17f0>\n",
      "xxx  <map object at 0x7ff6aa39eef0>\n",
      "xxx  <map object at 0x7ff6a8fa1748>\n",
      "xxx  <map object at 0x7ff6a667efd0>\n",
      "xxx  <map object at 0x7ff6a8fa17f0>\n",
      "xxx  <map object at 0x7ff6aa39eef0>\n",
      "xxx  <map object at 0x7ff6a8fa1748>\n",
      "xxx  <map object at 0x7ff6a667efd0>\n",
      "xxx  <map object at 0x7ff6a8fa17f0>\n",
      "xxx  <map object at 0x7ff6aa39eef0>\n",
      "xxx  <map object at 0x7ff6a8fa1748>\n",
      "xxx  <map object at 0x7ff6a667efd0>\n",
      "xxx  <map object at 0x7ff6a8fa17f0>\n",
      "xxx  <map object at 0x7ff6aa39eef0>\n",
      "xxx  <map object at 0x7ff6a8fa1748>\n",
      "xxx  <map object at 0x7ff6a667efd0>\n",
      "xxx  <map object at 0x7ff6a8fa17f0>\n",
      "xxx  <map object at 0x7ff6aa39eef0>\n",
      "xxx  <map object at 0x7ff6a8fa1748>\n",
      "xxx  <map object at 0x7ff6a667efd0>\n",
      "xxx  <map object at 0x7ff6a8fa17f0>\n",
      "xxx  <map object at 0x7ff6aa39eef0>\n",
      "xxx  <map object at 0x7ff6a8fa1748>\n",
      "xxx  <map object at 0x7ff6a667efd0>\n",
      "xxx  <map object at 0x7ff6a8fa17f0>\n",
      "xxx  <map object at 0x7ff6aa39eef0>\n",
      "xxx  <map object at 0x7ff6a8fa1748>\n",
      "xxx  <map object at 0x7ff6a667efd0>\n",
      "xxx  <map object at 0x7ff6a8fa17f0>\n",
      "xxx  <map object at 0x7ff6aa39eef0>\n",
      "xxx  <map object at 0x7ff6a8fa1748>\n",
      "xxx  <map object at 0x7ff6a667efd0>\n",
      "xxx  <map object at 0x7ff6a8fa17f0>\n",
      "xxx  <map object at 0x7ff6aa39eef0>\n",
      "xxx  <map object at 0x7ff6a8fa1748>\n",
      "xxx  <map object at 0x7ff6a667efd0>\n",
      "xxx  <map object at 0x7ff6a8fa17f0>\n",
      "xxx  <map object at 0x7ff6aa39eef0>\n",
      "xxx  <map object at 0x7ff6a8fa1748>\n",
      "xxx  <map object at 0x7ff6a667efd0>\n",
      "xxx  <map object at 0x7ff6a8fa17f0>\n",
      "xxx  <map object at 0x7ff6aa39eef0>\n",
      "xxx  <map object at 0x7ff6a8fa1748>\n",
      "xxx  <map object at 0x7ff6a667efd0>\n",
      "xxx  <map object at 0x7ff6a8fa17f0>\n",
      "xxx  <map object at 0x7ff6aa39eef0>\n",
      "xxx  <map object at 0x7ff6a8fa1748>\n",
      "xxx  <map object at 0x7ff6a667efd0>\n",
      "xxx  <map object at 0x7ff6a8fa17f0>\n",
      "xxx  <map object at 0x7ff6aa39eef0>\n",
      "xxx  <map object at 0x7ff6a8fa1748>\n",
      "xxx  <map object at 0x7ff6a667efd0>\n",
      "xxx  <map object at 0x7ff6a8fa17f0>\n",
      "xxx  <map object at 0x7ff6aa39eef0>\n",
      "xxx  <map object at 0x7ff6a8fa1748>\n",
      "xxx  <map object at 0x7ff6a667efd0>\n",
      "xxx  <map object at 0x7ff6a8fa17f0>\n",
      "xxx  <map object at 0x7ff6aa39eef0>\n",
      "xxx  <map object at 0x7ff6a8fa1748>\n",
      "xxx  <map object at 0x7ff6a667efd0>\n",
      "xxx  <map object at 0x7ff6a8fa17f0>\n",
      "xxx  <map object at 0x7ff6aa39eef0>\n",
      "xxx  <map object at 0x7ff6a8fa1748>\n",
      "xxx  <map object at 0x7ff6a667efd0>\n",
      "right  38\n",
      "left  43\n",
      "Confidence_wrong  0.6404863134359076\n",
      "Confidence_right  0.6037163327946462\n"
     ]
    },
    {
     "name": "stdout",
     "output_type": "stream",
     "text": [
      "--------\n",
      "<class 'sklearn.tree.tree.DecisionTreeClassifier'>\n",
      "Without the context of the tweet in context\n",
      "Analysis for model Decision Tree\n",
      "<class 'list'>\n",
      "Confidence score:  [[0.0, 0.0, 1.0], [0.0, 1.0, 0.0], [0.0, 1.0, 0.0], [0.0, 0.0, 1.0], [1.0, 0.0, 0.0], [0.5, 0.5, 0.0], [0.0, 1.0, 0.0], [0.0, 1.0, 0.0], [0.0, 1.0, 0.0], [1.0, 0.0, 0.0], [1.0, 0.0, 0.0], [1.0, 0.0, 0.0], [1.0, 0.0, 0.0], [0.0, 1.0, 0.0], [1.0, 0.0, 0.0], [0.0, 0.0, 1.0], [0.0, 1.0, 0.0], [0.0, 0.0, 1.0], [0.0, 0.0, 1.0], [0.5, 0.25, 0.25], [0.0, 0.0, 1.0], [0.0, 0.0, 1.0], [0.0, 1.0, 0.0], [0.0, 1.0, 0.0], [0.0, 0.0, 1.0], [1.0, 0.0, 0.0], [0.5, 0.25, 0.25], [0.0, 1.0, 0.0], [1.0, 0.0, 0.0], [0.0, 0.0, 1.0], [1.0, 0.0, 0.0], [0.5, 0.25, 0.25], [0.0, 1.0, 0.0], [0.0, 0.0, 1.0], [0.0, 0.0, 1.0], [1.0, 0.0, 0.0], [0.0, 1.0, 0.0], [0.0, 1.0, 0.0], [1.0, 0.0, 0.0], [1.0, 0.0, 0.0], [0.0, 0.0, 1.0], [0.0, 1.0, 0.0], [0.0, 1.0, 0.0], [0.0, 0.0, 1.0], [0.0, 0.0, 1.0], [0.0, 0.0, 1.0], [1.0, 0.0, 0.0], [0.0, 1.0, 0.0], [0.0, 1.0, 0.0], [1.0, 0.0, 0.0], [1.0, 0.0, 0.0], [1.0, 0.0, 0.0], [0.0, 0.0, 1.0], [0.0, 0.0, 1.0], [0.0, 1.0, 0.0], [0.0, 1.0, 0.0], [0.0, 1.0, 0.0], [0.5, 0.0, 0.5], [0.0, 1.0, 0.0], [0.0, 0.0, 1.0], [0.5, 0.25, 0.25], [0.0, 1.0, 0.0], [0.0, 1.0, 0.0], [0.0, 1.0, 0.0], [1.0, 0.0, 0.0], [0.0, 1.0, 0.0], [1.0, 0.0, 0.0], [0.0, 1.0, 0.0], [1.0, 0.0, 0.0], [0.0, 1.0, 0.0], [0.0, 1.0, 0.0], [1.0, 0.0, 0.0], [0.0, 0.0, 1.0], [0.5, 0.0, 0.5], [0.0, 1.0, 0.0], [0.0, 1.0, 0.0], [0.0, 1.0, 0.0], [1.0, 0.0, 0.0], [0.5, 0.0, 0.5], [1.0, 0.0, 0.0], [0.0, 1.0, 0.0]]\n",
      "accuracy :  0.4444444444444444\n",
      "Macro F:  0.4125889436234263\n",
      "xxx  <map object at 0x7ff6aa151d68>\n",
      "xxx  <map object at 0x7ff6aa151f28>\n",
      "xxx  <map object at 0x7ff6aa151d68>\n",
      "xxx  <map object at 0x7ff6aa151fd0>\n",
      "xxx  <map object at 0x7ff6aa151d68>\n",
      "xxx  <map object at 0x7ff6aa151f28>\n",
      "xxx  <map object at 0x7ff6aa151d68>\n",
      "xxx  <map object at 0x7ff6aa151fd0>\n",
      "xxx  <map object at 0x7ff6aa151d68>\n",
      "xxx  <map object at 0x7ff6aa151f28>\n",
      "xxx  <map object at 0x7ff6aa151d68>\n",
      "xxx  <map object at 0x7ff6aa151fd0>\n",
      "xxx  <map object at 0x7ff6aa151d68>\n",
      "xxx  <map object at 0x7ff6aa151f28>\n",
      "xxx  <map object at 0x7ff6aa151d68>\n",
      "xxx  <map object at 0x7ff6aa151fd0>\n",
      "xxx  <map object at 0x7ff6aa151d68>\n",
      "xxx  <map object at 0x7ff6aa151f28>\n",
      "xxx  <map object at 0x7ff6aa151d68>\n",
      "xxx  <map object at 0x7ff6aa151fd0>\n",
      "xxx  <map object at 0x7ff6aa151d68>\n",
      "xxx  <map object at 0x7ff6aa151f28>\n",
      "xxx  <map object at 0x7ff6aa151d68>\n",
      "xxx  <map object at 0x7ff6aa151fd0>\n",
      "xxx  <map object at 0x7ff6aa151d68>\n",
      "xxx  <map object at 0x7ff6aa151f28>\n",
      "xxx  <map object at 0x7ff6aa151d68>\n",
      "xxx  <map object at 0x7ff6aa151fd0>\n",
      "xxx  <map object at 0x7ff6aa151d68>\n",
      "xxx  <map object at 0x7ff6aa151f28>\n",
      "xxx  <map object at 0x7ff6aa151d68>\n",
      "xxx  <map object at 0x7ff6aa151fd0>\n",
      "xxx  <map object at 0x7ff6aa151d68>\n",
      "xxx  <map object at 0x7ff6aa151f28>\n",
      "xxx  <map object at 0x7ff6aa151d68>\n",
      "xxx  <map object at 0x7ff6aa151fd0>\n",
      "xxx  <map object at 0x7ff6aa151d68>\n",
      "xxx  <map object at 0x7ff6aa151f28>\n",
      "xxx  <map object at 0x7ff6aa151d68>\n",
      "xxx  <map object at 0x7ff6aa151fd0>\n",
      "xxx  <map object at 0x7ff6aa151d68>\n",
      "xxx  <map object at 0x7ff6aa151f28>\n",
      "xxx  <map object at 0x7ff6aa151d68>\n",
      "xxx  <map object at 0x7ff6aa151fd0>\n",
      "xxx  <map object at 0x7ff6aa151d68>\n",
      "xxx  <map object at 0x7ff6aa151f28>\n",
      "xxx  <map object at 0x7ff6aa151d68>\n",
      "xxx  <map object at 0x7ff6aa151fd0>\n",
      "xxx  <map object at 0x7ff6aa151d68>\n",
      "xxx  <map object at 0x7ff6aa151f28>\n",
      "xxx  <map object at 0x7ff6aa151d68>\n",
      "xxx  <map object at 0x7ff6aa151fd0>\n",
      "xxx  <map object at 0x7ff6aa151d68>\n",
      "xxx  <map object at 0x7ff6aa151f28>\n",
      "xxx  <map object at 0x7ff6aa151d68>\n",
      "xxx  <map object at 0x7ff6aa151fd0>\n",
      "xxx  <map object at 0x7ff6aa151d68>\n",
      "xxx  <map object at 0x7ff6aa151f28>\n",
      "xxx  <map object at 0x7ff6aa151d68>\n",
      "xxx  <map object at 0x7ff6aa151fd0>\n",
      "xxx  <map object at 0x7ff6aa151d68>\n",
      "xxx  <map object at 0x7ff6aa151f28>\n",
      "xxx  <map object at 0x7ff6aa151d68>\n",
      "xxx  <map object at 0x7ff6aa151fd0>\n",
      "xxx  <map object at 0x7ff6aa151d68>\n",
      "xxx  <map object at 0x7ff6aa151f28>\n",
      "xxx  <map object at 0x7ff6aa151d68>\n",
      "xxx  <map object at 0x7ff6aa151fd0>\n",
      "xxx  <map object at 0x7ff6aa151d68>\n",
      "xxx  <map object at 0x7ff6aa151f28>\n",
      "xxx  <map object at 0x7ff6aa151d68>\n",
      "xxx  <map object at 0x7ff6aa151fd0>\n",
      "xxx  <map object at 0x7ff6aa151d68>\n",
      "xxx  <map object at 0x7ff6aa151f28>\n",
      "xxx  <map object at 0x7ff6aa151d68>\n",
      "xxx  <map object at 0x7ff6aa151fd0>\n",
      "xxx  <map object at 0x7ff6aa151d68>\n",
      "xxx  <map object at 0x7ff6aa151f28>\n",
      "xxx  <map object at 0x7ff6aa151d68>\n",
      "xxx  <map object at 0x7ff6aa151fd0>\n",
      "xxx  <map object at 0x7ff6aa151d68>\n",
      "right  36\n",
      "left  45\n",
      "Confidence_wrong  0.9444444444444444\n",
      "Confidence_right  0.9583333333333334\n",
      "\n",
      "With the context of the tweet in context\n",
      "Analysis for model Decision Tree\n",
      "<class 'list'>\n",
      "Confidence score:  [[0.0, 1.0, 0.0], [0.0, 1.0, 0.0], [1.0, 0.0, 0.0], [0.0, 1.0, 0.0], [1.0, 0.0, 0.0], [0.0, 1.0, 0.0], [0.0, 1.0, 0.0], [0.0, 1.0, 0.0], [0.0, 1.0, 0.0], [1.0, 0.0, 0.0], [1.0, 0.0, 0.0], [1.0, 0.0, 0.0], [1.0, 0.0, 0.0], [1.0, 0.0, 0.0], [0.0, 1.0, 0.0], [1.0, 0.0, 0.0], [0.0, 1.0, 0.0], [1.0, 0.0, 0.0], [1.0, 0.0, 0.0], [1.0, 0.0, 0.0], [1.0, 0.0, 0.0], [0.0, 1.0, 0.0], [0.0, 1.0, 0.0], [0.0, 1.0, 0.0], [0.0, 1.0, 0.0], [0.0, 1.0, 0.0], [1.0, 0.0, 0.0], [0.0, 0.0, 1.0], [1.0, 0.0, 0.0], [0.0, 1.0, 0.0], [1.0, 0.0, 0.0], [0.0, 1.0, 0.0], [0.0, 1.0, 0.0], [0.0, 1.0, 0.0], [1.0, 0.0, 0.0], [1.0, 0.0, 0.0], [0.0, 1.0, 0.0], [0.0, 1.0, 0.0], [0.0, 1.0, 0.0], [0.0, 1.0, 0.0], [0.0, 1.0, 0.0], [1.0, 0.0, 0.0], [1.0, 0.0, 0.0], [1.0, 0.0, 0.0], [0.0, 1.0, 0.0], [1.0, 0.0, 0.0], [1.0, 0.0, 0.0], [0.0, 1.0, 0.0], [1.0, 0.0, 0.0], [1.0, 0.0, 0.0], [1.0, 0.0, 0.0], [1.0, 0.0, 0.0], [1.0, 0.0, 0.0], [1.0, 0.0, 0.0], [0.0, 1.0, 0.0], [0.0, 1.0, 0.0], [0.0, 1.0, 0.0], [1.0, 0.0, 0.0], [0.0, 1.0, 0.0], [1.0, 0.0, 0.0], [1.0, 0.0, 0.0], [0.0, 1.0, 0.0], [0.0, 1.0, 0.0], [0.0, 1.0, 0.0], [0.0, 1.0, 0.0], [0.0, 1.0, 0.0], [0.0, 1.0, 0.0], [1.0, 0.0, 0.0], [1.0, 0.0, 0.0], [0.0, 1.0, 0.0], [1.0, 0.0, 0.0], [0.0, 1.0, 0.0], [1.0, 0.0, 0.0], [1.0, 0.0, 0.0], [0.0, 1.0, 0.0], [0.0, 1.0, 0.0], [0.0, 1.0, 0.0], [1.0, 0.0, 0.0], [1.0, 0.0, 0.0], [0.0, 1.0, 0.0], [0.0, 1.0, 0.0]]\n",
      "accuracy :  0.5432098765432098\n",
      "Macro F:  0.38777660695468913\n",
      "xxx  <map object at 0x7ff6a948c5f8>\n",
      "xxx  <map object at 0x7ff6a948c470>\n",
      "xxx  <map object at 0x7ff6a948c1d0>\n",
      "xxx  <map object at 0x7ff6a948c438>\n",
      "xxx  <map object at 0x7ff6a948c5f8>\n",
      "xxx  <map object at 0x7ff6a948c470>\n",
      "xxx  <map object at 0x7ff6a948c1d0>\n",
      "xxx  <map object at 0x7ff6a948c438>\n",
      "xxx  <map object at 0x7ff6a948c5f8>\n",
      "xxx  <map object at 0x7ff6a948c470>\n",
      "xxx  <map object at 0x7ff6a948c1d0>\n",
      "xxx  <map object at 0x7ff6a948c438>\n",
      "xxx  <map object at 0x7ff6a948c5f8>\n",
      "xxx  <map object at 0x7ff6a948c470>\n",
      "xxx  <map object at 0x7ff6a948c1d0>\n",
      "xxx  <map object at 0x7ff6a948c438>\n",
      "xxx  <map object at 0x7ff6a948c5f8>\n",
      "xxx  <map object at 0x7ff6a948c470>\n",
      "xxx  <map object at 0x7ff6a948c1d0>\n",
      "xxx  <map object at 0x7ff6a948c438>\n",
      "xxx  <map object at 0x7ff6a948c5f8>\n",
      "xxx  <map object at 0x7ff6a948c470>\n",
      "xxx  <map object at 0x7ff6a948c1d0>\n",
      "xxx  <map object at 0x7ff6a948c438>\n",
      "xxx  <map object at 0x7ff6a948c5f8>\n",
      "xxx  <map object at 0x7ff6a948c438>\n",
      "xxx  <map object at 0x7ff6a948c1d0>\n",
      "xxx  <map object at 0x7ff6a948c438>\n",
      "xxx  <map object at 0x7ff6a948c5f8>\n",
      "xxx  <map object at 0x7ff6a948c438>\n",
      "xxx  <map object at 0x7ff6a948c1d0>\n",
      "xxx  <map object at 0x7ff6a948c438>\n",
      "xxx  <map object at 0x7ff6a948c5f8>\n",
      "xxx  <map object at 0x7ff6a948c438>\n",
      "xxx  <map object at 0x7ff6a948c1d0>\n",
      "xxx  <map object at 0x7ff6a948c438>\n",
      "xxx  <map object at 0x7ff6a948c5f8>\n",
      "xxx  <map object at 0x7ff6a948c438>\n",
      "xxx  <map object at 0x7ff6a948c470>\n",
      "xxx  <map object at 0x7ff6a948c438>\n",
      "xxx  <map object at 0x7ff6a948c5f8>\n",
      "xxx  <map object at 0x7ff6a948c438>\n",
      "xxx  <map object at 0x7ff6a948c470>\n",
      "xxx  <map object at 0x7ff6a948c438>\n",
      "xxx  <map object at 0x7ff6a948c5f8>\n",
      "xxx  <map object at 0x7ff6a948c438>\n",
      "xxx  <map object at 0x7ff6a948c470>\n",
      "xxx  <map object at 0x7ff6a948c438>\n",
      "xxx  <map object at 0x7ff6a948c5f8>\n",
      "xxx  <map object at 0x7ff6a948c438>\n",
      "xxx  <map object at 0x7ff6a948c470>\n",
      "xxx  <map object at 0x7ff6a948c438>\n",
      "xxx  <map object at 0x7ff6a948c5f8>\n",
      "xxx  <map object at 0x7ff6a948c438>\n",
      "xxx  <map object at 0x7ff6a948c470>\n",
      "xxx  <map object at 0x7ff6a948c438>\n",
      "xxx  <map object at 0x7ff6a948c5f8>\n",
      "xxx  <map object at 0x7ff6a948c438>\n",
      "xxx  <map object at 0x7ff6a948c470>\n",
      "xxx  <map object at 0x7ff6a948c438>\n",
      "xxx  <map object at 0x7ff6a948c5f8>\n",
      "xxx  <map object at 0x7ff6a948c438>\n",
      "xxx  <map object at 0x7ff6a948c470>\n",
      "xxx  <map object at 0x7ff6a948c438>\n",
      "xxx  <map object at 0x7ff6a948c5f8>\n",
      "xxx  <map object at 0x7ff6a948c438>\n",
      "xxx  <map object at 0x7ff6a948c470>\n",
      "xxx  <map object at 0x7ff6a948c438>\n",
      "xxx  <map object at 0x7ff6a948c5f8>\n",
      "xxx  <map object at 0x7ff6a948c438>\n",
      "xxx  <map object at 0x7ff6a948c470>\n",
      "xxx  <map object at 0x7ff6a948c438>\n",
      "xxx  <map object at 0x7ff6a948c5f8>\n",
      "xxx  <map object at 0x7ff6a948c438>\n",
      "xxx  <map object at 0x7ff6a948c470>\n",
      "xxx  <map object at 0x7ff6a948c438>\n",
      "xxx  <map object at 0x7ff6a948c5f8>\n",
      "xxx  <map object at 0x7ff6a948c438>\n",
      "xxx  <map object at 0x7ff6a948c470>\n",
      "xxx  <map object at 0x7ff6a948c438>\n",
      "xxx  <map object at 0x7ff6a948c5f8>\n",
      "right  44\n",
      "left  37\n"
     ]
    },
    {
     "name": "stdout",
     "output_type": "stream",
     "text": [
      "Confidence_wrong  1.0\n",
      "Confidence_right  1.0\n",
      "--------\n",
      "<class 'sklearn.ensemble.forest.RandomForestClassifier'>\n",
      "Without the context of the tweet in context\n",
      "Analysis for model Random Forest\n",
      "<class 'list'>\n",
      "Confidence score:  [[0.1, 0.6, 0.3], [0.0, 0.9, 0.1], [0.2, 0.7, 0.1], [0.4, 0.36, 0.24], [0.5, 0.1, 0.4], [0.13999999999999999, 0.86, 0.0], [0.0, 0.6, 0.4], [0.0, 0.8666666666666666, 0.13333333333333333], [0.1, 0.6, 0.3], [0.6, 0.2, 0.2], [0.6, 0.1, 0.3], [0.3, 0.3, 0.4], [0.1, 0.4333333333333333, 0.4666666666666666], [0.2, 0.6, 0.2], [0.3, 0.3, 0.4], [0.1, 0.4, 0.5], [0.1, 0.8, 0.1], [0.2, 0.1, 0.7], [0.7, 0.2, 0.1], [0.5054978354978353, 0.28008658008658005, 0.21441558441558445], [0.7, 0.1, 0.2], [0.4, 0.1, 0.5], [0.1, 0.9, 0.0], [0.0, 1.0, 0.0], [0.1, 0.4, 0.5], [0.6, 0.4, 0.0], [0.06666666666666667, 0.5733333333333334, 0.36], [0.2, 0.8, 0.0], [0.8, 0.1, 0.1], [0.3, 0.2, 0.5], [0.3, 0.2, 0.5], [0.41, 0.38, 0.21000000000000002], [0.3, 0.6, 0.1], [0.05, 0.25, 0.7], [0.2, 0.3, 0.5], [0.5, 0.1, 0.4], [0.0, 1.0, 0.0], [0.2, 0.7, 0.1], [0.8, 0.1, 0.1], [0.24, 0.6599999999999999, 0.1], [0.1, 0.0, 0.9], [0.0, 0.8, 0.2], [0.0, 0.9, 0.1], [0.0, 0.4, 0.6], [0.1, 0.8, 0.1], [0.5, 0.2, 0.3], [0.6, 0.2, 0.2], [0.0, 1.0, 0.0], [0.3, 0.5, 0.2], [0.6, 0.1, 0.3], [0.1, 0.8, 0.1], [0.21333333333333332, 0.6533333333333333, 0.13333333333333333], [0.4, 0.0, 0.6], [0.0, 0.8, 0.2], [0.2, 0.8, 0.0], [0.2876190476190476, 0.6119047619047618, 0.10047619047619047], [0.2, 0.8, 0.0], [0.49444444444444446, 0.03611111111111111, 0.46944444444444444], [0.25, 0.6, 0.15], [0.5, 0.3, 0.2], [0.6063492063492063, 0.1706349206349206, 0.22301587301587303], [0.0, 0.9, 0.1], [0.2, 0.8, 0.0], [0.35, 0.45, 0.2], [0.9, 0.0, 0.1], [0.2, 0.8, 0.0], [0.3, 0.6, 0.1], [0.3, 0.6, 0.1], [0.7666666666666666, 0.1, 0.13333333333333333], [0.5, 0.5, 0.0], [0.6, 0.3, 0.1], [0.8, 0.1, 0.1], [0.3, 0.3, 0.4], [0.65, 0.0, 0.35], [0.4, 0.5, 0.1], [0.5, 0.5, 0.0], [0.4, 0.5, 0.1], [0.5, 0.2, 0.3], [0.65, 0.0, 0.35], [0.7, 0.3, 0.0], [0.2, 0.8, 0.0]]\n",
      "accuracy :  0.5061728395061729\n",
      "Macro F:  0.44970730321113955\n",
      "xxx  <map object at 0x7ff6a83757b8>\n",
      "xxx  <map object at 0x7ff6a8375668>\n",
      "xxx  <map object at 0x7ff6a8375710>\n",
      "xxx  <map object at 0x7ff6a8375828>\n",
      "xxx  <map object at 0x7ff6a83757b8>\n",
      "xxx  <map object at 0x7ff6a8375668>\n",
      "xxx  <map object at 0x7ff6a8375710>\n",
      "xxx  <map object at 0x7ff6a8375828>\n",
      "xxx  <map object at 0x7ff6a83757b8>\n",
      "xxx  <map object at 0x7ff6a8375668>\n",
      "xxx  <map object at 0x7ff6a8375710>\n",
      "xxx  <map object at 0x7ff6a8375828>\n",
      "xxx  <map object at 0x7ff6a83757b8>\n",
      "xxx  <map object at 0x7ff6a8375668>\n",
      "xxx  <map object at 0x7ff6a8375710>\n",
      "xxx  <map object at 0x7ff6a8375828>\n",
      "xxx  <map object at 0x7ff6a83757b8>\n",
      "xxx  <map object at 0x7ff6a8375668>\n",
      "xxx  <map object at 0x7ff6a8375710>\n",
      "xxx  <map object at 0x7ff6a8375828>\n",
      "xxx  <map object at 0x7ff6a83757b8>\n",
      "xxx  <map object at 0x7ff6a8375668>\n",
      "xxx  <map object at 0x7ff6a8375710>\n",
      "xxx  <map object at 0x7ff6a8375828>\n",
      "xxx  <map object at 0x7ff6a83757b8>\n",
      "xxx  <map object at 0x7ff6a8375668>\n",
      "xxx  <map object at 0x7ff6a8375710>\n",
      "xxx  <map object at 0x7ff6a8375828>\n",
      "xxx  <map object at 0x7ff6a83757b8>\n",
      "xxx  <map object at 0x7ff6a8375668>\n",
      "xxx  <map object at 0x7ff6a8375710>\n",
      "xxx  <map object at 0x7ff6a8375828>\n",
      "xxx  <map object at 0x7ff6a83757b8>\n",
      "xxx  <map object at 0x7ff6a8375668>\n",
      "xxx  <map object at 0x7ff6a8375710>\n",
      "xxx  <map object at 0x7ff6a8375828>\n",
      "xxx  <map object at 0x7ff6a83757b8>\n",
      "xxx  <map object at 0x7ff6a8375668>\n",
      "xxx  <map object at 0x7ff6a8375710>\n",
      "xxx  <map object at 0x7ff6a8375828>\n",
      "xxx  <map object at 0x7ff6a83757b8>\n",
      "xxx  <map object at 0x7ff6a8375668>\n",
      "xxx  <map object at 0x7ff6a8375710>\n",
      "xxx  <map object at 0x7ff6a8375828>\n",
      "xxx  <map object at 0x7ff6a83757b8>\n",
      "xxx  <map object at 0x7ff6a8375668>\n",
      "xxx  <map object at 0x7ff6a8375710>\n",
      "xxx  <map object at 0x7ff6a8375828>\n",
      "xxx  <map object at 0x7ff6a83757b8>\n",
      "xxx  <map object at 0x7ff6a8375668>\n",
      "xxx  <map object at 0x7ff6a8375710>\n",
      "xxx  <map object at 0x7ff6a8375828>\n",
      "xxx  <map object at 0x7ff6a83757b8>\n",
      "xxx  <map object at 0x7ff6a8375668>\n",
      "xxx  <map object at 0x7ff6a8375710>\n",
      "xxx  <map object at 0x7ff6a8375828>\n",
      "xxx  <map object at 0x7ff6a83757b8>\n",
      "xxx  <map object at 0x7ff6a8375668>\n",
      "xxx  <map object at 0x7ff6a8375710>\n",
      "xxx  <map object at 0x7ff6a8375828>\n",
      "xxx  <map object at 0x7ff6a83757b8>\n",
      "xxx  <map object at 0x7ff6a8375668>\n",
      "xxx  <map object at 0x7ff6a8375710>\n",
      "xxx  <map object at 0x7ff6a8375828>\n",
      "xxx  <map object at 0x7ff6a83757b8>\n",
      "xxx  <map object at 0x7ff6a8375668>\n",
      "xxx  <map object at 0x7ff6a8375710>\n",
      "xxx  <map object at 0x7ff6a8375828>\n",
      "xxx  <map object at 0x7ff6a83757b8>\n",
      "xxx  <map object at 0x7ff6a8375668>\n",
      "xxx  <map object at 0x7ff6a8375710>\n",
      "xxx  <map object at 0x7ff6a8375828>\n",
      "xxx  <map object at 0x7ff6a83757b8>\n",
      "xxx  <map object at 0x7ff6a8375668>\n",
      "xxx  <map object at 0x7ff6a8375710>\n",
      "xxx  <map object at 0x7ff6a8375828>\n",
      "xxx  <map object at 0x7ff6a83757b8>\n",
      "xxx  <map object at 0x7ff6a8375668>\n",
      "xxx  <map object at 0x7ff6a8375710>\n",
      "xxx  <map object at 0x7ff6a8375828>\n",
      "xxx  <map object at 0x7ff6a83757b8>\n",
      "right  41\n",
      "left  40\n",
      "Confidence_wrong  0.6536944444444445\n",
      "Confidence_right  0.6530996374898814\n",
      "\n",
      "With the context of the tweet in context\n"
     ]
    },
    {
     "name": "stderr",
     "output_type": "stream",
     "text": [
      "/home/dhawal/.local/lib/python3.6/site-packages/sklearn/ensemble/forest.py:245: FutureWarning: The default value of n_estimators will change from 10 in version 0.20 to 100 in 0.22.\n",
      "  \"10 in version 0.20 to 100 in 0.22.\", FutureWarning)\n"
     ]
    },
    {
     "name": "stdout",
     "output_type": "stream",
     "text": [
      "Analysis for model Random Forest\n",
      "<class 'list'>\n",
      "Confidence score:  [[0.2, 0.6, 0.2], [0.3, 0.6, 0.1], [0.4, 0.5, 0.1], [0.6, 0.3, 0.1], [0.7, 0.3, 0.0], [0.5, 0.5, 0.0], [0.3, 0.7, 0.0], [0.5, 0.5, 0.0], [0.4, 0.5, 0.1], [0.5, 0.3, 0.2], [0.5, 0.3, 0.2], [0.3, 0.2, 0.5], [0.3, 0.4, 0.3], [0.3, 0.6, 0.1], [0.4, 0.5, 0.1], [0.5, 0.4, 0.1], [0.5, 0.3, 0.2], [0.6, 0.4, 0.0], [0.8, 0.2, 0.0], [0.5, 0.5, 0.0], [0.5, 0.3, 0.2], [0.4, 0.5, 0.1], [0.4, 0.5, 0.1], [0.2, 0.7, 0.1], [0.2, 0.7, 0.1], [0.5, 0.4, 0.1], [0.2, 0.7, 0.1], [0.4, 0.4, 0.2], [0.7, 0.2, 0.1], [0.4, 0.5, 0.1], [0.5, 0.4, 0.1], [0.3, 0.7, 0.0], [0.4, 0.6, 0.0], [0.2, 0.6, 0.2], [0.4, 0.4, 0.2], [0.7, 0.3, 0.0], [0.3, 0.5, 0.2], [0.3, 0.5, 0.2], [0.2, 0.7, 0.1], [0.4, 0.4, 0.2], [0.4, 0.4, 0.2], [0.2, 0.6, 0.2], [0.4, 0.4, 0.2], [0.3, 0.4, 0.3], [0.3, 0.6, 0.1], [0.3, 0.4, 0.3], [0.4, 0.2, 0.4], [0.1, 0.9, 0.0], [0.4, 0.2, 0.4], [0.6, 0.2, 0.2], [0.3, 0.6, 0.1], [0.4, 0.5, 0.1], [0.5, 0.3, 0.2], [0.5, 0.4, 0.1], [0.3, 0.6, 0.1], [0.3, 0.6, 0.1], [0.8, 0.2, 0.0], [0.9, 0.1, 0.0], [0.2, 0.8, 0.0], [0.4, 0.4, 0.2], [0.5, 0.5, 0.0], [0.6, 0.2, 0.2], [0.8, 0.2, 0.0], [0.6, 0.4, 0.0], [0.5, 0.5, 0.0], [0.8, 0.2, 0.0], [0.3, 0.6, 0.1], [0.6, 0.2, 0.2], [0.7, 0.3, 0.0], [0.3, 0.4, 0.3], [0.5, 0.5, 0.0], [0.5, 0.5, 0.0], [0.6, 0.2, 0.2], [0.6, 0.4, 0.0], [0.6, 0.4, 0.0], [0.8, 0.1, 0.1], [0.6, 0.3, 0.1], [0.5, 0.5, 0.0], [0.5, 0.5, 0.0], [0.5, 0.5, 0.0], [0.4, 0.4, 0.2]]\n",
      "accuracy :  0.49382716049382713\n",
      "Macro F:  0.34812409812409806\n",
      "xxx  <map object at 0x7ff6a7af06d8>\n",
      "xxx  <map object at 0x7ff6a7af0668>\n",
      "xxx  <map object at 0x7ff6a7af0550>\n",
      "xxx  <map object at 0x7ff6a7af06a0>\n",
      "xxx  <map object at 0x7ff6a7af06d8>\n",
      "xxx  <map object at 0x7ff6a7af0668>\n",
      "xxx  <map object at 0x7ff6a7af0550>\n",
      "xxx  <map object at 0x7ff6a7af06a0>\n",
      "xxx  <map object at 0x7ff6a7af06d8>\n",
      "xxx  <map object at 0x7ff6a7af0668>\n",
      "xxx  <map object at 0x7ff6a7af0550>\n",
      "xxx  <map object at 0x7ff6a7af06a0>\n",
      "xxx  <map object at 0x7ff6a7af06d8>\n",
      "xxx  <map object at 0x7ff6a7af0668>\n",
      "xxx  <map object at 0x7ff6a7af0550>\n",
      "xxx  <map object at 0x7ff6a7af06a0>\n",
      "xxx  <map object at 0x7ff6a7af06d8>\n",
      "xxx  <map object at 0x7ff6a7af0668>\n",
      "xxx  <map object at 0x7ff6a7af0550>\n",
      "xxx  <map object at 0x7ff6a7af06a0>\n",
      "xxx  <map object at 0x7ff6a7af06d8>\n",
      "xxx  <map object at 0x7ff6a7af0668>\n",
      "xxx  <map object at 0x7ff6a7af0550>\n",
      "xxx  <map object at 0x7ff6a7af06a0>\n",
      "xxx  <map object at 0x7ff6a7af06d8>\n",
      "xxx  <map object at 0x7ff6a7af0668>\n",
      "xxx  <map object at 0x7ff6a7af0550>\n",
      "xxx  <map object at 0x7ff6a7af06a0>\n",
      "xxx  <map object at 0x7ff6a7af06d8>\n",
      "xxx  <map object at 0x7ff6a7af0668>\n",
      "xxx  <map object at 0x7ff6a7af0550>\n",
      "xxx  <map object at 0x7ff6a7af06a0>\n",
      "xxx  <map object at 0x7ff6a7af06d8>\n",
      "xxx  <map object at 0x7ff6a7af0668>\n",
      "xxx  <map object at 0x7ff6a7af0550>\n",
      "xxx  <map object at 0x7ff6a7af06a0>\n",
      "xxx  <map object at 0x7ff6a7af06d8>\n",
      "xxx  <map object at 0x7ff6a7af0668>\n",
      "xxx  <map object at 0x7ff6a7af0550>\n",
      "xxx  <map object at 0x7ff6a7af06a0>\n",
      "xxx  <map object at 0x7ff6a7af06d8>\n",
      "xxx  <map object at 0x7ff6a7af0668>\n",
      "xxx  <map object at 0x7ff6a7af0550>\n",
      "xxx  <map object at 0x7ff6a7af06a0>\n",
      "xxx  <map object at 0x7ff6a8375da0>\n",
      "xxx  <map object at 0x7ff6a8375668>\n",
      "xxx  <map object at 0x7ff6a8375e48>\n",
      "xxx  <map object at 0x7ff6a8375828>\n",
      "xxx  <map object at 0x7ff6a8375da0>\n",
      "xxx  <map object at 0x7ff6a8375668>\n",
      "xxx  <map object at 0x7ff6a8375e48>\n",
      "xxx  <map object at 0x7ff6a8375828>\n",
      "xxx  <map object at 0x7ff6a8375da0>\n",
      "xxx  <map object at 0x7ff6a8375668>\n",
      "xxx  <map object at 0x7ff6a8375e48>\n",
      "xxx  <map object at 0x7ff6a8375828>\n",
      "xxx  <map object at 0x7ff6a8375da0>\n",
      "xxx  <map object at 0x7ff6a8375668>\n",
      "xxx  <map object at 0x7ff6a8375e48>\n",
      "xxx  <map object at 0x7ff6a8375828>\n",
      "xxx  <map object at 0x7ff6a8375da0>\n",
      "xxx  <map object at 0x7ff6a8375668>\n",
      "xxx  <map object at 0x7ff6a8375e48>\n",
      "xxx  <map object at 0x7ff6a8375828>\n",
      "xxx  <map object at 0x7ff6a8375da0>\n",
      "xxx  <map object at 0x7ff6a8375668>\n",
      "xxx  <map object at 0x7ff6a8375e48>\n",
      "xxx  <map object at 0x7ff6a8375828>\n",
      "xxx  <map object at 0x7ff6a8375da0>\n",
      "xxx  <map object at 0x7ff6a8375668>\n",
      "xxx  <map object at 0x7ff6a8375e48>\n",
      "xxx  <map object at 0x7ff6a8375828>\n",
      "xxx  <map object at 0x7ff6a8375da0>\n",
      "xxx  <map object at 0x7ff6a8375668>\n",
      "xxx  <map object at 0x7ff6a8375e48>\n",
      "xxx  <map object at 0x7ff6a8375828>\n",
      "xxx  <map object at 0x7ff6a8375da0>\n",
      "xxx  <map object at 0x7ff6a8375668>\n",
      "xxx  <map object at 0x7ff6a8375e48>\n",
      "xxx  <map object at 0x7ff6a8375828>\n",
      "xxx  <map object at 0x7ff6a8375da0>\n",
      "right  40\n",
      "left  41\n",
      "Confidence_wrong  0.5829268292682926\n",
      "Confidence_right  0.55\n",
      "--------\n"
     ]
    },
    {
     "data": {
      "image/png": "[encoded data removed]",
      "text/plain": [
       "<Figure size 432x288 with 2 Axes>"
      ]
     },
     "metadata": {
      "needs_background": "light"
     },
     "output_type": "display_data"
    },
    {
     "data": {
      "image/png": "[encoded data removed]",
      "text/plain": [
       "<Figure size 432x288 with 2 Axes>"
      ]
     },
     "metadata": {
      "needs_background": "light"
     },
     "output_type": "display_data"
    },
    {
     "data": {
      "image/png": "[encoded data removed]",
      "text/plain": [
       "<Figure size 432x288 with 2 Axes>"
      ]
     },
     "metadata": {
      "needs_background": "light"
     },
     "output_type": "display_data"
    },
    {
     "data": {
      "image/png": "[encoded data removed]",
      "text/plain": [
       "<Figure size 432x288 with 2 Axes>"
      ]
     },
     "metadata": {
      "needs_background": "light"
     },
     "output_type": "display_data"
    },
    {
     "data": {
      "image/png": "[encoded data removed]",
      "text/plain": [
       "<Figure size 432x288 with 2 Axes>"
      ]
     },
     "metadata": {
      "needs_background": "light"
     },
     "output_type": "display_data"
    },
    {
     "data": {
      "image/png": "[encoded data removed]",
      "text/plain": [
       "<Figure size 432x288 with 2 Axes>"
      ]
     },
     "metadata": {
      "needs_background": "light"
     },
     "output_type": "display_data"
    },
    {
     "data": {
      "image/png": "[encoded data removed]",
      "text/plain": [
       "<Figure size 432x288 with 2 Axes>"
      ]
     },
     "metadata": {
      "needs_background": "light"
     },
     "output_type": "display_data"
    },
    {
     "data": {
      "image/png": "[encoded data removed]",
      "text/plain": [
       "<Figure size 432x288 with 2 Axes>"
      ]
     },
     "metadata": {
      "needs_background": "light"
     },
     "output_type": "display_data"
    },
    {
     "data": {
      "image/png": "[encoded data removed]",
      "text/plain": [
       "<Figure size 432x288 with 2 Axes>"
      ]
     },
     "metadata": {
      "needs_background": "light"
     },
     "output_type": "display_data"
    },
    {
     "data": {
      "image/png": "[encoded data removed]",
      "text/plain": [
       "<Figure size 432x288 with 2 Axes>"
      ]
     },
     "metadata": {
      "needs_background": "light"
     },
     "output_type": "display_data"
    }
   ],
   "source": [
    "# def main(all_data):\n",
    "    # Get Bag Of Words\n",
    "BOW_sents, all_extra_feats, Y, ids = get_features(all_data, whichset=\"training+development\")\n",
    "\n",
    "test_BOW_sents, test_all_extra_feats, Y_test, ids_test = get_features(all_data, whichset=\"testing\")\n",
    "\n",
    "with open('rumoureval2019_data/final-eval-key.json') as fil:\n",
    "    test = json.load(fil)\n",
    "for ids in ids_test:\n",
    "    Y_test.append(test['subtaskbenglish'][ids])\n",
    "\n",
    "models = []\n",
    "# models.append(CalibratedClassifierCV(LinearSVC(random_state=364)))\n",
    "models.append(LinearSVC(random_state=364))\n",
    "models.append(MLPClassifier(hidden_layer_sizes=(100,50),max_iter=1000))\n",
    "models.append(LogisticRegression(multi_class='multinomial',solver='lbfgs'))\n",
    "models.append(tree.DecisionTreeClassifier())\n",
    "models.append(RandomForestClassifier())\n",
    "\n",
    "\n",
    "count = 1\n",
    "for model in models:\n",
    "    print(type(model))\n",
    "    print(\"Without the context of the tweet in context\")\n",
    "    Y_pred = without_tweet_context(all_extra_feats, Y, model, test_all_extra_feats, Y_test,count,\"model_without_\"+str(count)+\".png\",model_name[count-1])\n",
    "    path = \"answer_without_\"+str(count)+\".json\"\n",
    "    write_to_json(ids_test, Y_pred, path)\n",
    "    print()\n",
    "    print(\"With the context of the tweet in context\")\n",
    "    Y_pred = with_tweet_context(BOW_sents, all_extra_feats, Y, model, test_BOW_sents, test_all_extra_feats, Y_test,count,\"model_with_\"+str(count)+\".png\",model_name[count-1])\n",
    "    path = \"answer_without_\"+str(count)+\".json\"\n",
    "    write_to_json(ids_test, Y_pred, path)\n",
    "    print(\"--------\")\n",
    "    count += 1\n"
   ]
  },
  {
   "cell_type": "code",
   "execution_count": null,
   "metadata": {},
   "outputs": [],
   "source": []
  },
  {
   "cell_type": "code",
   "execution_count": 208,
   "metadata": {},
   "outputs": [],
   "source": [
    "# Y_pred = without_tweet_context(all_extra_feats, Y, models[0], test_all_extra_feats, Y_test, 'model0_without')"
   ]
  },
  {
   "cell_type": "code",
   "execution_count": null,
   "metadata": {},
   "outputs": [],
   "source": [
    "# Y_pred = without_tweet_context(all_extra_feats, Y, model[4], test_all_extra_feats, Y_test)"
   ]
  },
  {
   "cell_type": "code",
   "execution_count": null,
   "metadata": {},
   "outputs": [],
   "source": [
    "# !pip install seaborn"
   ]
  },
  {
   "cell_type": "code",
   "execution_count": null,
   "metadata": {},
   "outputs": [],
   "source": [
    "X_axis = []\n",
    "for model in models:\n",
    "#     print(type(model))\n",
    "#     print(\"Without the context of the tweet in context\")\n",
    "    pred = without_tweet_context(all_extra_feats, Y, model, test_all_extra_feats, Y_test)\n",
    "    X_axis.append(accuracy_score(Y_test, pred))\n",
    "#     path = \"answer_without_\"+str(count)+\".json\"\n",
    "#     write_to_json(ids_test, Y_pred, path)\n",
    "#     print()\n",
    "#     print(\"With the context of the tweet in context\")\n",
    "#     Y_pred = with_tweet_context(BOW_sents, all_extra_feats, Y, model, test_BOW_sents, test_all_extra_feats, Y_test)\n",
    "#     path = \"answer_without_\"+str(count)+\".json\"\n",
    "#     write_to_json(ids_test, Y_pred, path)\n",
    "#     print(\"--------\")\n",
    "\n",
    "#     count += 1"
   ]
  },
  {
   "cell_type": "code",
   "execution_count": null,
   "metadata": {},
   "outputs": [],
   "source": [
    "X_axis"
   ]
  },
  {
   "cell_type": "code",
   "execution_count": null,
   "metadata": {},
   "outputs": [],
   "source": [
    "X_axis = []\n",
    "for model in models:\n",
    "#     print(type(model))\n",
    "#     print(\"Without the context of the tweet in context\")\n",
    "    pred = with_tweet_context(BOW_sents, all_extra_feats, Y, model, test_BOW_sents, test_all_extra_feats, Y_test)\n",
    "    X_axis.append(accuracy_score(Y_test, pred))\n",
    "#     path = \"answer_without_\"+str(count)+\".json\"\n",
    "#     write_to_json(ids_test, Y_pred, path)\n",
    "#     print()\n",
    "#     print(\"With the context of the tweet in context\")\n",
    "#     Y_pred = with_tweet_context(BOW_sents, all_extra_feats, Y, model, test_BOW_sents, test_all_extra_feats, Y_test)\n",
    "#     path = \"answer_without_\"+str(count)+\".json\"\n",
    "#     write_to_json(ids_test, Y_pred, path)\n",
    "#     print(\"--------\")\n",
    "#     count += 1"
   ]
  },
  {
   "cell_type": "code",
   "execution_count": 232,
   "metadata": {
    "scrolled": true
   },
   "outputs": [
    {
     "name": "stdout",
     "output_type": "stream",
     "text": [
      "Without BOW Accuracy+ F1 score vs models\n"
     ]
    },
    {
     "name": "stderr",
     "output_type": "stream",
     "text": [
      "/home/dhawal/.local/lib/python3.6/site-packages/ipykernel_launcher.py:11: UserWarning: Legend does not support dict_values([0.4567901234567901, 0.5308641975308642, 0.4691358024691358, 0.4444444444444444, 0.5061728395061729]) instances.\n",
      "A proxy artist may be used instead.\n",
      "See: http://matplotlib.org/users/legend_guide.html#creating-artists-specifically-for-adding-to-the-legend-aka-proxy-artists\n",
      "  # This is added back by InteractiveShellApp.init_path()\n",
      "/home/dhawal/.local/lib/python3.6/site-packages/ipykernel_launcher.py:11: UserWarning: Legend does not support dict_values([0.3404935430251886, 0.42522831050228316, 0.3493589743589744, 0.4125889436234263, 0.44970730321113955]) instances.\n",
      "A proxy artist may be used instead.\n",
      "See: http://matplotlib.org/users/legend_guide.html#creating-artists-specifically-for-adding-to-the-legend-aka-proxy-artists\n",
      "  # This is added back by InteractiveShellApp.init_path()\n"
     ]
    },
    {
     "data": {
      "text/plain": [
       "<matplotlib.legend.Legend at 0x7ff6a74db4a8>"
      ]
     },
     "execution_count": 232,
     "metadata": {},
     "output_type": "execute_result"
    },
    {
     "data": {
      "image/png": "[encoded data removed]",
      "text/plain": [
       "<Figure size 720x360 with 1 Axes>"
      ]
     },
     "metadata": {
      "needs_background": "light"
     },
     "output_type": "display_data"
    }
   ],
   "source": [
    "X = np.arange(5)\n",
    "f, ax = plt.subplots(figsize=(10,5))\n",
    "ax.set_xticklabels(['z','SVC_Linear','MLP','Logistic','Decision Tree','Random Forest'])\n",
    "# ax.set_yticks(accuracy_without.values(), f_score_without.values())\n",
    "print(\"Without BOW Accuracy+ F1 score vs models\")\n",
    "plt.title('Without BOW Accuracy+ F1 score vs models')\n",
    "plt.xlabel('Models')\n",
    "plt.ylabel('Accuracy and F1-score')\n",
    "plt.bar(X + 0.00, accuracy_without.values(), color = 'b',label=\"Accuracy\", width = 0.25)\n",
    "plt.bar(X + 0.25, f_score_without.values(), color = 'g',label=\"F1-score\" ,width = 0.25)\n",
    "ax.legend((accuracy_without.values(), f_score_without.values()), ('Men', 'Women'))\n",
    "plt.legend()"
   ]
  },
  {
   "cell_type": "code",
   "execution_count": 233,
   "metadata": {},
   "outputs": [
    {
     "name": "stdout",
     "output_type": "stream",
     "text": [
      "With BOW Accuracy+ F1 score vs models\n"
     ]
    },
    {
     "data": {
      "text/plain": [
       "<matplotlib.legend.Legend at 0x7ff6a8a484a8>"
      ]
     },
     "execution_count": 233,
     "metadata": {},
     "output_type": "execute_result"
    },
    {
     "data": {
      "image/png": "[encoded data removed]",
      "text/plain": [
       "<Figure size 720x360 with 1 Axes>"
      ]
     },
     "metadata": {
      "needs_background": "light"
     },
     "output_type": "display_data"
    }
   ],
   "source": [
    "X = np.arange(5)\n",
    "f, ax = plt.subplots(figsize=(10,5))\n",
    "ax.set_xticklabels(['z','SVC_Linear','MLP','Logistic','Decision Tree','Random Forest'])\n",
    "print(\"With BOW Accuracy+ F1 score vs models\")\n",
    "plt.title('With BOW Accuracy+ F1 score vs models')\n",
    "plt.xlabel('Models')\n",
    "plt.ylabel('Accuracy and F1-score')\n",
    "plt.bar(X + 0.00, accuracy_with.values(), color = 'b',label=\"Accuracy\", width = 0.25)\n",
    "plt.bar(X + 0.25, f_score_with.values(), color = 'g',label=\"F1-score\" ,width = 0.25)\n",
    "plt.legend()"
   ]
  },
  {
   "cell_type": "code",
   "execution_count": 213,
   "metadata": {},
   "outputs": [],
   "source": [
    "X = np.arange(5)"
   ]
  },
  {
   "cell_type": "code",
   "execution_count": 219,
   "metadata": {},
   "outputs": [
    {
     "name": "stdout",
     "output_type": "stream",
     "text": [
      "With case Accuracy+ F1 score vs models\n"
     ]
    },
    {
     "data": {
      "image/png": "[encoded data removed]",
      "text/plain": [
       "<Figure size 432x288 with 1 Axes>"
      ]
     },
     "metadata": {
      "needs_background": "light"
     },
     "output_type": "display_data"
    }
   ],
   "source": [
    "print(\"With case Accuracy+ F1 score vs models\")\n",
    "plt.bar(X + 0.00, accuracy_with.values(), color = 'b', width = 0.25)\n",
    "plt.bar(X + 0.25, f_score_with.values(), color = 'g', width = 0.25)\n",
    "plt.show()"
   ]
  },
  {
   "cell_type": "code",
   "execution_count": 38,
   "metadata": {
    "scrolled": true
   },
   "outputs": [
    {
     "name": "stdout",
     "output_type": "stream",
     "text": [
      "without tweet context\n",
      "[0.41975308641975306, 0.3333333333333333, 0.4691358024691358, 0.5432098765432098, 0.5185185185185185]\n"
     ]
    },
    {
     "data": {
      "image/png": "[encoded data removed]",
      "text/plain": [
       "<Figure size 432x288 with 1 Axes>"
      ]
     },
     "metadata": {
      "needs_background": "light"
     },
     "output_type": "display_data"
    },
    {
     "name": "stdout",
     "output_type": "stream",
     "text": [
      "Graph Plotting the variation of accuracy for different models \n"
     ]
    }
   ],
   "source": [
    "print(\"without tweet context\")\n",
    "print(X_axis)\n",
    "plt.bar([1,2,3,4,5], X_axis, color = 'pink')\n",
    "plt.show()\n",
    "print(\"Graph Plotting the variation of accuracy for different models \")"
   ]
  },
  {
   "cell_type": "code",
   "execution_count": 193,
   "metadata": {},
   "outputs": [
    {
     "name": "stdout",
     "output_type": "stream",
     "text": [
      "Wrong_Confidence_With\n"
     ]
    },
    {
     "data": {
      "image/png": "[encoded data removed]",
      "text/plain": [
       "<Figure size 432x288 with 1 Axes>"
      ]
     },
     "metadata": {
      "needs_background": "light"
     },
     "output_type": "display_data"
    },
    {
     "name": "stdout",
     "output_type": "stream",
     "text": [
      "Graph Plotting the variation of wrong confidence for different models \n"
     ]
    }
   ],
   "source": [
    "print(\"Wrong_Confidence_With\")\n",
    "# print()\n",
    "plt.bar([1,2,3,4,5], Wrong_conf_with.values(), color = 'pink')\n",
    "plt.show()\n",
    "print(\"Graph Plotting the variation of wrong confidence for different models \")"
   ]
  },
  {
   "cell_type": "code",
   "execution_count": 194,
   "metadata": {},
   "outputs": [
    {
     "name": "stdout",
     "output_type": "stream",
     "text": [
      "Wrong_Confidence_Without\n"
     ]
    },
    {
     "data": {
      "image/png": "[encoded data removed]",
      "text/plain": [
       "<Figure size 432x288 with 1 Axes>"
      ]
     },
     "metadata": {
      "needs_background": "light"
     },
     "output_type": "display_data"
    },
    {
     "name": "stdout",
     "output_type": "stream",
     "text": [
      "Graph Plotting the variation of wrong confidence for different models \n"
     ]
    }
   ],
   "source": [
    "print(\"Wrong_Confidence_Without\")\n",
    "# print()\n",
    "plt.bar([1,2,3,4,5], Wrong_conf_without.values(), color = 'pink')\n",
    "plt.show()\n",
    "print(\"Graph Plotting the variation of wrong confidence for different models \")"
   ]
  },
  {
   "cell_type": "code",
   "execution_count": 195,
   "metadata": {},
   "outputs": [
    {
     "name": "stdout",
     "output_type": "stream",
     "text": [
      "right_Confidence_With\n"
     ]
    },
    {
     "data": {
      "image/png": "[encoded data removed]",
      "text/plain": [
       "<Figure size 432x288 with 1 Axes>"
      ]
     },
     "metadata": {
      "needs_background": "light"
     },
     "output_type": "display_data"
    },
    {
     "name": "stdout",
     "output_type": "stream",
     "text": [
      "Graph Plotting the variation of wrong confidence for different models \n"
     ]
    }
   ],
   "source": [
    "print(\"right_Confidence_With\")\n",
    "# print()\n",
    "plt.bar([1,2,3,4,5], right_conf_with.values(), color = 'pink')\n",
    "plt.show()\n",
    "print(\"Graph Plotting the variation of wrong confidence for different models \")"
   ]
  },
  {
   "cell_type": "code",
   "execution_count": 196,
   "metadata": {},
   "outputs": [
    {
     "name": "stdout",
     "output_type": "stream",
     "text": [
      "right_Confidence_With\n"
     ]
    },
    {
     "data": {
      "image/png": "[encoded data removed]",
      "text/plain": [
       "<Figure size 432x288 with 1 Axes>"
      ]
     },
     "metadata": {
      "needs_background": "light"
     },
     "output_type": "display_data"
    },
    {
     "name": "stdout",
     "output_type": "stream",
     "text": [
      "Graph Plotting the variation of wrong confidence for different models \n"
     ]
    }
   ],
   "source": [
    "print(\"right_Confidence_With\")\n",
    "# print()\n",
    "plt.bar([1,2,3,4,5], right_conf_without.values(), color = 'pink')\n",
    "plt.show()\n",
    "print(\"Graph Plotting the variation of wrong confidence for different models \")"
   ]
  },
  {
   "cell_type": "code",
   "execution_count": 192,
   "metadata": {
    "scrolled": true
   },
   "outputs": [
    {
     "name": "stdout",
     "output_type": "stream",
     "text": [
      "Accuracy:  {'SVC_Linear': 0.41975308641975306, 'MLP': 0.3333333333333333, 'Logistic Regression': 0.4691358024691358, 'Decision Tree': 0.5308641975308642, 'Random Forest': 0.5308641975308642}\n",
      "Wrong confidence:  {'SVC_Linear': 0.6063819910422032, 'MLP': 0.673034088958004, 'Logistic Regression': 0.6404863134359076, 'Decision Tree': 1.0, 'Random Forest': 0.6026315789473684}\n",
      "Right Confidence:  {'SVC_Linear': 0.6280394248977949, 'MLP': 0.6578729538469545, 'Logistic Regression': 0.6037163327946462, 'Decision Tree': 1.0, 'Random Forest': 0.6348837209302326}\n"
     ]
    }
   ],
   "source": [
    "print(\"Accuracy: \",accuracy_with)\n",
    "print(\"Wrong confidence: \",Wrong_conf_with)\n",
    "print(\"Right Confidence: \",right_conf_with)"
   ]
  },
  {
   "cell_type": "code",
   "execution_count": 191,
   "metadata": {},
   "outputs": [
    {
     "name": "stdout",
     "output_type": "stream",
     "text": [
      "Accuracy:  {'SVC_Linear': 0.4567901234567901, 'MLP': 0.48148148148148145, 'Logistic Regression': 0.4691358024691358, 'Decision Tree': 0.4567901234567901, 'Random Forest': 0.5432098765432098}\n",
      "Wrong Confidence  {'SVC_Linear': 0.5655764935546699, 'MLP': 0.5418116004809157, 'Logistic Regression': 0.41003458183130953, 'Decision Tree': 0.9545454545454546, 'Random Forest': 0.6759009009009009}\n",
      "Right Confidence  {'SVC_Linear': 0.5294264983062849, 'MLP': 0.7083321526797802, 'Logistic Regression': 0.3405128733018492, 'Decision Tree': 0.9459459459459459, 'Random Forest': 0.6862121212121212}\n"
     ]
    }
   ],
   "source": [
    "print(\"Accuracy: \",accuracy_without)\n",
    "print(\"Wrong Confidence \",Wrong_conf_without)\n",
    "print(\"Right Confidence \",right_conf_without)"
   ]
  },
  {
   "cell_type": "code",
   "execution_count": null,
   "metadata": {},
   "outputs": [],
   "source": []
  }
 ],
 "metadata": {
  "kernelspec": {
   "display_name": "Python 3",
   "language": "python",
   "name": "python3"
  },
  "language_info": {
   "codemirror_mode": {
    "name": "ipython",
    "version": 3
   },
   "file_extension": ".py",
   "mimetype": "text/x-python",
   "name": "python",
   "nbconvert_exporter": "python",
   "pygments_lexer": "ipython3",
   "version": "3.6.8"
  }
 },
 "nbformat": 4,
 "nbformat_minor": 2
}
