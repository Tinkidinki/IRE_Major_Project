{
 "cells": [
  {
   "cell_type": "code",
   "execution_count": 1,
   "metadata": {},
   "outputs": [],
   "source": [
    "%run preprocess.ipynb\n",
    "%run preprocessing_tweets.ipynb\n",
    "import os \n",
    "import numpy as np\n",
    "import json\n",
    "import gensim\n",
    "import nltk\n",
    "import re\n",
    "from nltk.corpus import stopwords\n",
    "from copy import deepcopy\n",
    "import pickle\n",
    "from nltk.tokenize import TweetTokenizer\n",
    "from sklearn.svm import LinearSVC\n",
    "from sklearn.svm import SVC\n",
    "from sklearn.metrics import accuracy_score, f1_score\n",
    "from sklearn.feature_extraction.text import CountVectorizer\n",
    "from sklearn.feature_extraction.text import TfidfVectorizer\n",
    "from sklearn.feature_extraction.text import HashingVectorizer\n",
    "from sklearn.ensemble import RandomForestClassifier\n",
    "from sklearn.preprocessing import StandardScaler\n",
    "from sklearn.metrics import confusion_matrix\n",
    "# from preprocess import read_data\n",
    "# from preprocess import get_features\n",
    "from sklearn.neural_network import MLPClassifier\n",
    "from sklearn.linear_model import LogisticRegression\n",
    "from sklearn import tree\n",
    "from collections import Counter\n",
    "from sklearn.metrics import confusion_matrix\n",
    "from sklearn.metrics import precision_score\n",
    "from sklearn.metrics import recall_score\n",
    "\n",
    "import seaborn as sn\n",
    "import pandas as pd\n",
    "import matplotlib.pyplot as plt"
   ]
  },
  {
   "cell_type": "code",
   "execution_count": 2,
   "metadata": {},
   "outputs": [
    {
     "name": "stdout",
     "output_type": "stream",
     "text": [
      "580323060533764097\n"
     ]
    }
   ],
   "source": [
    "all_data = read_data()"
   ]
  },
  {
   "cell_type": "code",
   "execution_count": 39,
   "metadata": {},
   "outputs": [],
   "source": [
    "def with_tweet_context(BOW_sents, all_extra_feats, Y, model, test_BOW_sents, test_all_extra_feats, Y_test,count,title):\n",
    "    cv = CountVectorizer()\n",
    "    cv_fit=cv.fit_transform(BOW_sents)\n",
    "    BOW_features = cv_fit.toarray()\n",
    "    \n",
    "    # Append features with Bag of words\n",
    "    X = []\n",
    "    for i in range(len(BOW_features)):\n",
    "        line = list(BOW_features[i]) + all_extra_feats[i]\n",
    "        X.append(line)\n",
    "        \n",
    "    model.fit(X, Y)\n",
    "\n",
    "    # preprocess testing set\n",
    "    test_cv_fit = cv.transform(test_BOW_sents)\n",
    "    test_BOW_features = test_cv_fit.toarray()\n",
    "\n",
    "    # Append features\n",
    "    X_test = []\n",
    "    for i in range(len(test_BOW_features)):\n",
    "        line = list(test_BOW_features[i]) + test_all_extra_feats[i]\n",
    "        X_test.append(line)\n",
    "        \n",
    "    Y_pred = model.predict(X_test)\n",
    "    if count==1:\n",
    "#         print(\"Confidence: \",class_probabilities = model.predict_proba(sub_main))\n",
    "        print(\"Confidence: \",model.decision_function(X_test))\n",
    "    print(\"accuracy : \", accuracy_score(Y_test, Y_pred))\n",
    "    print(\"Macro F: \", f1_score(Y_test, Y_pred, average='macro'))\n",
    "    cf_matrix = confusion_matrix(Y_test, Y_pred)\n",
    "    df_cm = pd.DataFrame(cf_matrix, index = [i for i in range(3)],columns = [i for i in range(3)])\n",
    "    plt.figure(figsize = (6,4))\n",
    "#     sn.heatmap(df_cm, annot=True)\n",
    "    svm = sn.heatmap(df_cm, annot=True)\n",
    "    fig = svm.get_figure()\n",
    "    fig.savefig(title)\n",
    "    return Y_pred"
   ]
  },
  {
   "cell_type": "code",
   "execution_count": 40,
   "metadata": {},
   "outputs": [],
   "source": [
    "def without_tweet_context(X, Y, model, X_test, Y_test,count,title):\n",
    "    model.fit(X, Y)\n",
    "    Y_pred = model.predict(X_test)\n",
    "    if count==1:\n",
    "        print(\"Confidence: \",model.decision_function(X_test))\n",
    "    print(\"accuracy : \", accuracy_score(Y_test, Y_pred))\n",
    "    print(\"Macro F: \", f1_score(Y_test, Y_pred, average='macro'))\n",
    "    cf_matrix = confusion_matrix(Y_test, Y_pred)\n",
    "    df_cm = pd.DataFrame(cf_matrix, index = [i for i in range(3)],columns = [i for i in range(3)])\n",
    "    plt.figure(figsize = (6,4))\n",
    "#     sn.heatmap(df_cm, annot=True)   \n",
    "    svm = sn.heatmap(df_cm, annot=True)\n",
    "    fig = svm.get_figure()\n",
    "    fig.savefig(title)\n",
    "    return Y_pred"
   ]
  },
  {
   "cell_type": "code",
   "execution_count": 41,
   "metadata": {},
   "outputs": [],
   "source": [
    "def write_to_json(ids, pred, path):\n",
    "    submission = {}\n",
    "    for i, id in enumerate(ids):\n",
    "        submission[id] = [pred[i], 1]\n",
    "        subtaskaenglish = {}\n",
    "        subtaskbenglish = {}\n",
    "        \n",
    "    answer = {}\n",
    "    answer['subtaskaenglish'] = {}\n",
    "    answer['subtaskbenglish'] = submission\n",
    "\n",
    "    answer['subtaskadanish'] = {}\n",
    "    answer['subtaskbdanish'] = {}\n",
    "\n",
    "    answer['subtaskarussian'] = {}\n",
    "    answer['subtaskbrussian'] = {}\n",
    "        \n",
    "    with open(path, 'w') as f:\n",
    "        json.dump(answer, f)"
   ]
  },
  {
   "cell_type": "code",
   "execution_count": 42,
   "metadata": {},
   "outputs": [],
   "source": [
    "from sklearn.calibration import CalibratedClassifierCV"
   ]
  },
  {
   "cell_type": "code",
   "execution_count": 43,
   "metadata": {
    "scrolled": true
   },
   "outputs": [
    {
     "name": "stdout",
     "output_type": "stream",
     "text": [
      "<class 'sklearn.svm.classes.LinearSVC'>\n",
      "Without the context of the tweet in context\n",
      "Confidence:  [[-0.52914907 -0.25311038 -0.21428994]\n",
      " [-0.20550825 -0.24577334 -0.53903657]\n",
      " [-0.38923125 -0.18962831 -0.4162819 ]\n",
      " [-0.14772124 -0.25605496 -0.58335286]\n",
      " [-0.2111506  -0.38390332 -0.40205051]\n",
      " [-0.34713511 -0.1623594  -0.48324626]\n",
      " [-0.63724444  0.17891411 -0.5497747 ]\n",
      " [-0.36227304 -0.14035559 -0.49090449]\n",
      " [-0.30929029 -0.21736893 -0.46410068]\n",
      " [ 0.14907305 -0.63253916 -0.50911468]\n",
      " [ 0.06479782 -0.53874203 -0.51730977]\n",
      " [-0.43890183 -0.38840046 -0.17009566]\n",
      " [-0.40449918 -0.37040069 -0.23143904]\n",
      " [-0.27942728 -0.26077645 -0.44899308]\n",
      " [-0.3141069  -0.21036772 -0.46653739]\n",
      " [-0.19685583 -0.34460222 -0.44889569]\n",
      " [-0.2557982  -0.2598235  -0.47552477]\n",
      " [-0.34276939 -0.11997169 -0.534926  ]\n",
      " [-0.22814377 -0.27552146 -0.49642764]\n",
      " [-0.46823856  0.0136711  -0.54451211]\n",
      " [ 0.06105072 -0.41126013 -0.63937517]\n",
      " [-0.29932069 -0.16936837 -0.53246908]\n",
      " [-0.28809719 -0.24817427 -0.45337915]\n",
      " [-0.83560764  0.09446716 -0.26640434]\n",
      " [-0.90879545  0.05341974 -0.15632871]\n",
      " [ 0.25874456 -0.59826975 -0.66165182]\n",
      " [-0.98582667 -0.04101306  0.01064299]\n",
      " [-0.29370713 -0.24001992 -0.4562172 ]\n",
      " [ 0.12160244 -0.62100075 -0.49402435]\n",
      " [-0.25497052 -0.20366548 -0.53764511]\n",
      " [-0.11285336 -0.45959736 -0.42752172]\n",
      " [-0.4379627  -0.03033652 -0.52919565]\n",
      " [-0.36867871 -0.22933121 -0.39607769]\n",
      " [-0.67541234 -0.18893291 -0.13492736]\n",
      " [-0.26484598 -0.23264734 -0.50588928]\n",
      " [-0.2111506  -0.38390332 -0.40205051]\n",
      " [-0.36611645 -0.19374096 -0.43400841]\n",
      " [-0.16690873 -0.26390549 -0.55739887]\n",
      " [-0.38614364  0.09050509 -0.70397001]\n",
      " [-0.20341827 -0.2036311  -0.58305863]\n",
      " [-0.46219924 -0.10567981 -0.43113101]\n",
      " [-0.66809095  0.08302266 -0.42496516]\n",
      " [-0.36587876 -0.17761353 -0.4518481 ]\n",
      " [-0.6838469  -0.17587699 -0.14091504]\n",
      " [-0.81774474  0.26896053 -0.46915288]\n",
      " [-0.39314586 -0.38671576 -0.22286317]\n",
      " [-0.03415878 -0.61269048 -0.34718931]\n",
      " [-0.85377316  0.12087173 -0.27559422]\n",
      " [-0.0717681  -0.5725582  -0.35036874]\n",
      " [ 0.27886806 -0.70164853 -0.5706517 ]\n",
      " [-0.58573427  0.00754167 -0.4274315 ]\n",
      " [-0.57420407  0.16769779 -0.59811974]\n",
      " [-0.28947585 -0.25919738 -0.4473121 ]\n",
      " [-0.33578167 -0.17886226 -0.47750258]\n",
      " [-0.38897662 -0.14174864 -0.46429526]\n",
      " [-0.49472993  0.05217778 -0.55791402]\n",
      " [-0.12773773 -0.33713618 -0.52132522]\n",
      " [-0.14228701 -0.36674165 -0.48490206]\n",
      " [-0.32256434 -0.00191093 -0.67180544]\n",
      " [-0.06705866 -0.29093783 -0.63234557]\n",
      " [-0.27051523 -0.25448306 -0.46895262]\n",
      " [-0.23296048 -0.22061301 -0.53821446]\n",
      " [-0.12147556 -0.34076132 -0.52362227]\n",
      " [-0.20309253 -0.2935137  -0.49368413]\n",
      " [-0.30355192 -0.15591502 -0.53610045]\n",
      " [-0.12147556 -0.34076132 -0.52362227]\n",
      " [-0.19931193 -0.27584145 -0.51488743]\n",
      " [ 0.03368964 -0.45330298 -0.57310958]\n",
      " [-0.04889414 -0.40994114 -0.52804156]\n",
      " [-0.09852297 -0.32756735 -0.5584636 ]\n",
      " [-0.09176666 -0.35795964 -0.53451987]\n",
      " [-0.07474354 -0.36650212 -0.54258506]\n",
      " [-0.09430793 -0.3439297  -0.55101625]\n",
      " [-0.21272434 -0.28793789 -0.49015106]\n",
      " [-0.18061829 -0.30652391 -0.50192796]\n",
      " [-0.13562171 -0.34719833 -0.50647701]\n",
      " [-0.16938117 -0.31302902 -0.50604988]\n",
      " [-0.08757638 -0.34933697 -0.54708068]\n",
      " [-0.21272434 -0.28793789 -0.49015106]\n",
      " [-0.1525255  -0.32278668 -0.51223276]\n",
      " [-0.1314559  -0.33498376 -0.51996135]]\n",
      "accuracy :  0.4567901234567901\n",
      "Macro F:  0.3404935430251886\n",
      "\n",
      "With the context of the tweet in context\n",
      "Confidence:  [[-0.42533637 -0.14558264 -0.42972629]\n",
      " [-0.41211561 -0.13440368 -0.26264472]\n",
      " [-0.11386317 -0.22195918 -0.65909339]\n",
      " [-0.29984034 -0.19703    -0.45677572]\n",
      " [-0.17601617 -0.39783561 -0.32359122]\n",
      " [-0.58177487  0.16208785 -0.47089123]\n",
      " [-0.84572419  0.48988683 -0.55445236]\n",
      " [-0.76990169  0.37382631 -0.52018024]\n",
      " [-0.09233227 -0.53674637 -0.32468605]\n",
      " [ 0.01863462 -0.46093567 -0.46116326]\n",
      " [-0.01310022 -0.41715027 -0.46625089]\n",
      " [-0.12598272 -0.29064519 -0.51276468]\n",
      " [-0.10549979 -0.27635922 -0.63408844]\n",
      " [-0.04113055 -0.38593351 -0.50575798]\n",
      " [-0.07682036 -0.32186072 -0.49681652]\n",
      " [-0.01288989 -0.42524295 -0.5027485 ]\n",
      " [-0.12955035 -0.38192122 -0.37399782]\n",
      " [ 0.06711341 -0.2030031  -0.76824851]\n",
      " [ 0.0572992  -0.25038476 -0.79852857]\n",
      " [-0.04329359 -0.1328     -0.81125847]\n",
      " [-0.47624981 -0.29985302 -0.07898724]\n",
      " [-0.29538354 -0.26395754 -0.38415808]\n",
      " [ 0.02737853 -0.27713225 -0.76972327]\n",
      " [-0.38759962 -0.25130261 -0.33323402]\n",
      " [-0.44717378 -0.20327337 -0.31115473]\n",
      " [-0.0721474  -0.52651274 -0.39750562]\n",
      " [-0.15909592 -0.45377292 -0.37731312]\n",
      " [-0.20628027 -0.76520027 -0.02951612]\n",
      " [ 0.41575487 -0.62613682 -0.80260246]\n",
      " [ 0.24305462 -0.56196597 -0.67221837]\n",
      " [ 0.33131763 -0.67778255 -0.64035454]\n",
      " [-0.08615696 -0.4264013  -0.39969407]\n",
      " [ 0.47171847 -0.41524516 -1.09275976]\n",
      " [-0.353548    0.10882763 -0.69875049]\n",
      " [ 0.33427733 -0.67493015 -0.63330545]\n",
      " [-0.11601748 -0.37964616 -0.44934442]\n",
      " [-0.47062412 -0.1892723  -0.17177513]\n",
      " [-0.29559104 -0.23314736 -0.29864131]\n",
      " [-0.43003804 -0.16027196 -0.30087441]\n",
      " [-0.51461442 -0.25309223 -0.08153305]\n",
      " [-0.04874196 -0.47858422 -0.36614052]\n",
      " [-0.32144574  0.16735987 -0.79371528]\n",
      " [ 0.13340764 -0.51612757 -0.61854741]\n",
      " [ 0.07203798 -0.44558281 -0.67426186]\n",
      " [-0.33332399 -0.5820595  -0.16043902]\n",
      " [-0.10117222 -0.38470556 -0.4457234 ]\n",
      " [ 0.1302056  -0.47413204 -0.58000036]\n",
      " [-0.21393181 -0.24863407 -0.55097129]\n",
      " [ 0.19245104 -0.47557987 -0.62773331]\n",
      " [ 0.13109869 -0.59582366 -0.56933157]\n",
      " [ 0.20581974 -0.63239064 -0.40726005]\n",
      " [ 0.6036309  -0.76726414 -0.69816622]\n",
      " [ 0.30524255 -0.6875726  -0.43461366]\n",
      " [ 0.27962675 -0.63676573 -0.45033387]\n",
      " [ 0.07943831 -0.56351902 -0.37031324]\n",
      " [ 0.0632458  -0.72344295 -0.27931343]\n",
      " [ 0.31132966 -0.58066161 -0.71318217]\n",
      " [ 0.1796981  -0.57516514 -0.50877379]\n",
      " [-0.50505409  0.18230162 -0.66461254]\n",
      " [-0.30033658 -0.07635102 -0.49650215]\n",
      " [-0.1370429  -0.49712407 -0.2219851 ]\n",
      " [-0.11108382 -0.75781906 -0.12167712]\n",
      " [ 0.17965924 -0.38770077 -0.6661787 ]\n",
      " [ 0.32576162 -0.64418714 -0.67662041]\n",
      " [-0.30814614 -0.00142885 -0.62135855]\n",
      " [-0.25908586  0.40232994 -1.15668894]\n",
      " [ 0.09272399 -0.42052794 -0.68531984]\n",
      " [ 0.39892538 -0.61628124 -0.78712367]\n",
      " [ 0.24946683 -0.49287522 -0.82528803]\n",
      " [-0.1929359  -0.61247867 -0.04811646]\n",
      " [ 0.15793919 -0.33501371 -0.76540799]\n",
      " [-0.00179525 -0.57204644 -0.60671479]\n",
      " [ 0.37156511 -0.87739975 -0.52854459]\n",
      " [ 0.31974625 -0.37390837 -0.88934683]\n",
      " [ 0.19726104 -0.6464092  -0.58308254]\n",
      " [-0.07844092 -0.16109509 -0.74082041]\n",
      " [-0.08392696 -0.49552818 -0.34337672]\n",
      " [-0.07269844 -0.40692114 -0.3071742 ]\n",
      " [-0.04117883 -0.18565605 -0.74445796]\n",
      " [ 0.11804375 -0.45862255 -0.57489756]\n",
      " [-0.56321426  0.26384172 -0.47982613]]\n",
      "accuracy :  0.41975308641975306\n",
      "Macro F:  0.3088663300371695\n",
      "--------\n",
      "<class 'sklearn.neural_network.multilayer_perceptron.MLPClassifier'>\n",
      "Without the context of the tweet in context\n"
     ]
    },
    {
     "name": "stderr",
     "output_type": "stream",
     "text": [
      "/home/dhawal/.local/lib/python3.6/site-packages/sklearn/neural_network/multilayer_perceptron.py:566: ConvergenceWarning: Stochastic Optimizer: Maximum iterations (1000) reached and the optimization hasn't converged yet.\n",
      "  % self.max_iter, ConvergenceWarning)\n"
     ]
    },
    {
     "name": "stdout",
     "output_type": "stream",
     "text": [
      "accuracy :  0.5308641975308642\n",
      "Macro F:  0.42587719298245613\n",
      "\n",
      "With the context of the tweet in context\n",
      "accuracy :  0.35802469135802467\n",
      "Macro F:  0.3068288611554714\n",
      "--------\n",
      "<class 'sklearn.linear_model.logistic.LogisticRegression'>\n",
      "Without the context of the tweet in context\n",
      "accuracy :  0.4691358024691358\n",
      "Macro F:  0.3493589743589744\n",
      "\n",
      "With the context of the tweet in context\n",
      "accuracy :  0.4691358024691358\n",
      "Macro F:  0.36512621745179885\n",
      "--------\n",
      "<class 'sklearn.tree.tree.DecisionTreeClassifier'>\n",
      "Without the context of the tweet in context\n",
      "accuracy :  0.4444444444444444\n",
      "Macro F:  0.4116261541360468\n",
      "\n",
      "With the context of the tweet in context\n",
      "accuracy :  0.5185185185185185\n",
      "Macro F:  0.3652933832709113\n",
      "--------\n",
      "<class 'sklearn.ensemble.forest.RandomForestClassifier'>\n",
      "Without the context of the tweet in context\n",
      "accuracy :  0.5061728395061729\n",
      "Macro F:  0.4091197691197692\n",
      "\n",
      "With the context of the tweet in context\n"
     ]
    },
    {
     "name": "stderr",
     "output_type": "stream",
     "text": [
      "/home/dhawal/.local/lib/python3.6/site-packages/sklearn/ensemble/forest.py:245: FutureWarning: The default value of n_estimators will change from 10 in version 0.20 to 100 in 0.22.\n",
      "  \"10 in version 0.20 to 100 in 0.22.\", FutureWarning)\n"
     ]
    },
    {
     "name": "stdout",
     "output_type": "stream",
     "text": [
      "accuracy :  0.5432098765432098\n",
      "Macro F:  0.39173789173789175\n",
      "--------\n"
     ]
    },
    {
     "data": {
      "image/png": "[encoded data removed]",
      "text/plain": [
       "<Figure size 432x288 with 2 Axes>"
      ]
     },
     "metadata": {
      "needs_background": "light"
     },
     "output_type": "display_data"
    },
    {
     "data": {
      "image/png": "[encoded data removed]",
      "text/plain": [
       "<Figure size 432x288 with 2 Axes>"
      ]
     },
     "metadata": {
      "needs_background": "light"
     },
     "output_type": "display_data"
    },
    {
     "data": {
      "image/png": "[encoded data removed]",
      "text/plain": [
       "<Figure size 432x288 with 2 Axes>"
      ]
     },
     "metadata": {
      "needs_background": "light"
     },
     "output_type": "display_data"
    },
    {
     "data": {
      "image/png": "[encoded data removed]",
      "text/plain": [
       "<Figure size 432x288 with 2 Axes>"
      ]
     },
     "metadata": {
      "needs_background": "light"
     },
     "output_type": "display_data"
    },
    {
     "data": {
      "image/png": "[encoded data removed]",
      "text/plain": [
       "<Figure size 432x288 with 2 Axes>"
      ]
     },
     "metadata": {
      "needs_background": "light"
     },
     "output_type": "display_data"
    },
    {
     "data": {
      "image/png": "[encoded data removed]",
      "text/plain": [
       "<Figure size 432x288 with 2 Axes>"
      ]
     },
     "metadata": {
      "needs_background": "light"
     },
     "output_type": "display_data"
    },
    {
     "data": {
      "image/png": "[encoded data removed]",
      "text/plain": [
       "<Figure size 432x288 with 2 Axes>"
      ]
     },
     "metadata": {
      "needs_background": "light"
     },
     "output_type": "display_data"
    },
    {
     "data": {
      "image/png": "[encoded data removed]",
      "text/plain": [
       "<Figure size 432x288 with 2 Axes>"
      ]
     },
     "metadata": {
      "needs_background": "light"
     },
     "output_type": "display_data"
    },
    {
     "data": {
      "image/png": "[encoded data removed]",
      "text/plain": [
       "<Figure size 432x288 with 2 Axes>"
      ]
     },
     "metadata": {
      "needs_background": "light"
     },
     "output_type": "display_data"
    },
    {
     "data": {
      "image/png": "[encoded data removed]",
      "text/plain": [
       "<Figure size 432x288 with 2 Axes>"
      ]
     },
     "metadata": {
      "needs_background": "light"
     },
     "output_type": "display_data"
    }
   ],
   "source": [
    "# def main(all_data):\n",
    "    # Get Bag Of Words\n",
    "BOW_sents, all_extra_feats, Y, ids = get_features(all_data, whichset=\"training+development\")\n",
    "\n",
    "test_BOW_sents, test_all_extra_feats, Y_test, ids_test = get_features(all_data, whichset=\"testing\")\n",
    "\n",
    "with open('rumoureval2019_data/final-eval-key.json') as fil:\n",
    "    test = json.load(fil)\n",
    "for ids in ids_test:\n",
    "    Y_test.append(test['subtaskbenglish'][ids])\n",
    "\n",
    "models = []\n",
    "# models.append(CalibratedClassifierCV(LinearSVC(random_state=364)))\n",
    "models.append(LinearSVC(random_state=364))\n",
    "models.append(MLPClassifier(hidden_layer_sizes=(100,50),max_iter=1000))\n",
    "models.append(LogisticRegression(multi_class='multinomial',solver='lbfgs'))\n",
    "models.append(tree.DecisionTreeClassifier())\n",
    "models.append(RandomForestClassifier())\n",
    "\n",
    "\n",
    "count = 1\n",
    "for model in models:\n",
    "    print(type(model))\n",
    "    print(\"Without the context of the tweet in context\")\n",
    "    Y_pred = without_tweet_context(all_extra_feats, Y, model, test_all_extra_feats, Y_test,count,\"model_without_\"+str(count)+\".png\")\n",
    "    path = \"answer_without_\"+str(count)+\".json\"\n",
    "    write_to_json(ids_test, Y_pred, path)\n",
    "    print()\n",
    "    print(\"With the context of the tweet in context\")\n",
    "    Y_pred = with_tweet_context(BOW_sents, all_extra_feats, Y, model, test_BOW_sents, test_all_extra_feats, Y_test,count,\"model_with_\"+str(count)+\".png\")\n",
    "    path = \"answer_without_\"+str(count)+\".json\"\n",
    "    write_to_json(ids_test, Y_pred, path)\n",
    "    print(\"--------\")\n",
    "    count += 1\n"
   ]
  },
  {
   "cell_type": "code",
   "execution_count": null,
   "metadata": {},
   "outputs": [],
   "source": [
    "Y_pred = without_tweet_context(all_extra_feats, Y, models[0], test_all_extra_feats, Y_test, 'model0_without')"
   ]
  },
  {
   "cell_type": "code",
   "execution_count": 7,
   "metadata": {},
   "outputs": [
    {
     "name": "stdout",
     "output_type": "stream",
     "text": [
      "accuracy :  0.41975308641975306\n",
      "Macro F:  0.3638858793788371\n"
     ]
    },
    {
     "data": {
      "image/png": "[encoded data removed]",
      "text/plain": [
       "<Figure size 432x288 with 2 Axes>"
      ]
     },
     "metadata": {
      "needs_background": "light"
     },
     "output_type": "display_data"
    }
   ],
   "source": [
    "# Y_pred = without_tweet_context(all_extra_feats, Y, model[4], test_all_extra_feats, Y_test)"
   ]
  },
  {
   "cell_type": "code",
   "execution_count": 8,
   "metadata": {},
   "outputs": [],
   "source": [
    "# !pip install seaborn"
   ]
  },
  {
   "cell_type": "code",
   "execution_count": 9,
   "metadata": {},
   "outputs": [
    {
     "name": "stdout",
     "output_type": "stream",
     "text": [
      "accuracy :  0.4567901234567901\n",
      "Macro F:  0.3404935430251886\n"
     ]
    },
    {
     "name": "stderr",
     "output_type": "stream",
     "text": [
      "/home/dhawal/.local/lib/python3.6/site-packages/sklearn/neural_network/multilayer_perceptron.py:566: ConvergenceWarning: Stochastic Optimizer: Maximum iterations (1000) reached and the optimization hasn't converged yet.\n",
      "  % self.max_iter, ConvergenceWarning)\n"
     ]
    },
    {
     "name": "stdout",
     "output_type": "stream",
     "text": [
      "accuracy :  0.49382716049382713\n",
      "Macro F:  0.39783194346188755\n",
      "accuracy :  0.4691358024691358\n",
      "Macro F:  0.3493589743589744\n",
      "accuracy :  0.4444444444444444\n",
      "Macro F:  0.41111111111111115\n",
      "accuracy :  0.5308641975308642\n",
      "Macro F:  0.4515873015873016\n"
     ]
    },
    {
     "data": {
      "image/png": "[encoded data removed]",
      "text/plain": [
       "<Figure size 432x288 with 2 Axes>"
      ]
     },
     "metadata": {
      "needs_background": "light"
     },
     "output_type": "display_data"
    },
    {
     "data": {
      "image/png": "[encoded data removed]",
      "text/plain": [
       "<Figure size 432x288 with 2 Axes>"
      ]
     },
     "metadata": {
      "needs_background": "light"
     },
     "output_type": "display_data"
    },
    {
     "data": {
      "image/png": "[encoded data removed]",
      "text/plain": [
       "<Figure size 432x288 with 2 Axes>"
      ]
     },
     "metadata": {
      "needs_background": "light"
     },
     "output_type": "display_data"
    },
    {
     "data": {
      "image/png": "[encoded data removed]",
      "text/plain": [
       "<Figure size 432x288 with 2 Axes>"
      ]
     },
     "metadata": {
      "needs_background": "light"
     },
     "output_type": "display_data"
    },
    {
     "data": {
      "image/png": "[encoded data removed]",
      "text/plain": [
       "<Figure size 432x288 with 2 Axes>"
      ]
     },
     "metadata": {
      "needs_background": "light"
     },
     "output_type": "display_data"
    }
   ],
   "source": [
    "X_axis = []\n",
    "for model in models:\n",
    "#     print(type(model))\n",
    "#     print(\"Without the context of the tweet in context\")\n",
    "    pred = without_tweet_context(all_extra_feats, Y, model, test_all_extra_feats, Y_test)\n",
    "    X_axis.append(accuracy_score(Y_test, pred))\n",
    "#     path = \"answer_without_\"+str(count)+\".json\"\n",
    "#     write_to_json(ids_test, Y_pred, path)\n",
    "#     print()\n",
    "#     print(\"With the context of the tweet in context\")\n",
    "#     Y_pred = with_tweet_context(BOW_sents, all_extra_feats, Y, model, test_BOW_sents, test_all_extra_feats, Y_test)\n",
    "#     path = \"answer_without_\"+str(count)+\".json\"\n",
    "#     write_to_json(ids_test, Y_pred, path)\n",
    "#     print(\"--------\")\n",
    "\n",
    "#     count += 1"
   ]
  },
  {
   "cell_type": "code",
   "execution_count": 10,
   "metadata": {},
   "outputs": [
    {
     "data": {
      "text/plain": [
       "[0.4567901234567901,\n",
       " 0.49382716049382713,\n",
       " 0.4691358024691358,\n",
       " 0.4444444444444444,\n",
       " 0.5308641975308642]"
      ]
     },
     "execution_count": 10,
     "metadata": {},
     "output_type": "execute_result"
    }
   ],
   "source": [
    "X_axis"
   ]
  },
  {
   "cell_type": "code",
   "execution_count": 11,
   "metadata": {},
   "outputs": [
    {
     "name": "stdout",
     "output_type": "stream",
     "text": [
      "accuracy :  0.41975308641975306\n",
      "Macro F:  0.3088663300371695\n",
      "accuracy :  0.3333333333333333\n",
      "Macro F:  0.2917582417582418\n",
      "accuracy :  0.4691358024691358\n",
      "Macro F:  0.36512621745179885\n",
      "accuracy :  0.5432098765432098\n",
      "Macro F:  0.38178083846804395\n",
      "accuracy :  0.5185185185185185\n",
      "Macro F:  0.36628186628186626\n"
     ]
    },
    {
     "data": {
      "image/png": "[encoded data removed]",
      "text/plain": [
       "<Figure size 432x288 with 2 Axes>"
      ]
     },
     "metadata": {
      "needs_background": "light"
     },
     "output_type": "display_data"
    },
    {
     "data": {
      "image/png": "[encoded data removed]",
      "text/plain": [
       "<Figure size 432x288 with 2 Axes>"
      ]
     },
     "metadata": {
      "needs_background": "light"
     },
     "output_type": "display_data"
    },
    {
     "data": {
      "image/png": "[encoded data removed]",
      "text/plain": [
       "<Figure size 432x288 with 2 Axes>"
      ]
     },
     "metadata": {
      "needs_background": "light"
     },
     "output_type": "display_data"
    },
    {
     "data": {
      "image/png": "[encoded data removed]",
      "text/plain": [
       "<Figure size 432x288 with 2 Axes>"
      ]
     },
     "metadata": {
      "needs_background": "light"
     },
     "output_type": "display_data"
    },
    {
     "data": {
      "image/png": "[encoded data removed]",
      "text/plain": [
       "<Figure size 432x288 with 2 Axes>"
      ]
     },
     "metadata": {
      "needs_background": "light"
     },
     "output_type": "display_data"
    }
   ],
   "source": [
    "X_axis = []\n",
    "for model in models:\n",
    "#     print(type(model))\n",
    "#     print(\"Without the context of the tweet in context\")\n",
    "    pred = with_tweet_context(BOW_sents, all_extra_feats, Y, model, test_BOW_sents, test_all_extra_feats, Y_test)\n",
    "    X_axis.append(accuracy_score(Y_test, pred))\n",
    "#     path = \"answer_without_\"+str(count)+\".json\"\n",
    "#     write_to_json(ids_test, Y_pred, path)\n",
    "#     print()\n",
    "#     print(\"With the context of the tweet in context\")\n",
    "#     Y_pred = with_tweet_context(BOW_sents, all_extra_feats, Y, model, test_BOW_sents, test_all_extra_feats, Y_test)\n",
    "#     path = \"answer_without_\"+str(count)+\".json\"\n",
    "#     write_to_json(ids_test, Y_pred, path)\n",
    "#     print(\"--------\")\n",
    "#     count += 1"
   ]
  },
  {
   "cell_type": "code",
   "execution_count": 38,
   "metadata": {},
   "outputs": [
    {
     "name": "stdout",
     "output_type": "stream",
     "text": [
      "without tweet context\n",
      "[0.41975308641975306, 0.3333333333333333, 0.4691358024691358, 0.5432098765432098, 0.5185185185185185]\n"
     ]
    },
    {
     "data": {
      "image/png": "[encoded data removed]",
      "text/plain": [
       "<Figure size 432x288 with 1 Axes>"
      ]
     },
     "metadata": {
      "needs_background": "light"
     },
     "output_type": "display_data"
    },
    {
     "name": "stdout",
     "output_type": "stream",
     "text": [
      "Graph Plotting the variation of accuracy for different models \n"
     ]
    }
   ],
   "source": [
    "print(\"without tweet context\")\n",
    "print(X_axis)\n",
    "plt.bar([1,2,3,4,5], X_axis, color = 'pink')\n",
    "plt.show()\n",
    "print(\"Graph Plotting the variation of accuracy for different models \")"
   ]
  },
  {
   "cell_type": "code",
   "execution_count": null,
   "metadata": {},
   "outputs": [],
   "source": []
  }
 ],
 "metadata": {
  "kernelspec": {
   "display_name": "Python 3",
   "language": "python",
   "name": "python3"
  },
  "language_info": {
   "codemirror_mode": {
    "name": "ipython",
    "version": 3
   },
   "file_extension": ".py",
   "mimetype": "text/x-python",
   "name": "python",
   "nbconvert_exporter": "python",
   "pygments_lexer": "ipython3",
   "version": "3.6.8"
  }
 },
 "nbformat": 4,
 "nbformat_minor": 2
}
