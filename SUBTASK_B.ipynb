{
 "cells": [
  {
   "cell_type": "code",
   "execution_count": 1,
   "metadata": {},
   "outputs": [],
   "source": [
    "%run preprocess.ipynb\n",
    "%run preprocessing_tweets.ipynb\n",
    "import os \n",
    "import numpy as np\n",
    "import json\n",
    "import gensim\n",
    "import nltk\n",
    "import re\n",
    "from nltk.corpus import stopwords\n",
    "from copy import deepcopy\n",
    "import pickle\n",
    "from nltk.tokenize import TweetTokenizer\n",
    "from sklearn.svm import LinearSVC\n",
    "from sklearn.svm import SVC\n",
    "from sklearn.metrics import accuracy_score, f1_score\n",
    "from sklearn.feature_extraction.text import CountVectorizer\n",
    "from sklearn.feature_extraction.text import TfidfVectorizer\n",
    "from sklearn.feature_extraction.text import HashingVectorizer\n",
    "from sklearn.ensemble import RandomForestClassifier\n",
    "from sklearn.preprocessing import StandardScaler\n",
    "from sklearn.metrics import confusion_matrix\n",
    "# from preprocess import read_data\n",
    "# from preprocess import get_features\n",
    "from sklearn.neural_network import MLPClassifier\n",
    "from sklearn.linear_model import LogisticRegression\n",
    "from sklearn import tree\n",
    "from collections import Counter\n",
    "from sklearn.metrics import confusion_matrix\n",
    "from sklearn.metrics import precision_score\n",
    "from sklearn.metrics import recall_score\n",
    "\n",
    "import seaborn as sn\n",
    "import pandas as pd\n",
    "import matplotlib.pyplot as plt"
   ]
  },
  {
   "cell_type": "code",
   "execution_count": 2,
   "metadata": {},
   "outputs": [
    {
     "name": "stdout",
     "output_type": "stream",
     "text": [
      "580323060533764097\n"
     ]
    }
   ],
   "source": [
    "all_data = read_data()"
   ]
  },
  {
   "cell_type": "code",
   "execution_count": 33,
   "metadata": {},
   "outputs": [],
   "source": [
    "def with_tweet_context(BOW_sents, all_extra_feats, Y, model, test_BOW_sents, test_all_extra_feats, Y_test,count,title):\n",
    "    cv = CountVectorizer()\n",
    "    cv_fit=cv.fit_transform(BOW_sents)\n",
    "    BOW_features = cv_fit.toarray()\n",
    "    \n",
    "    # Append features with Bag of words\n",
    "    X = []\n",
    "    for i in range(len(BOW_features)):\n",
    "        line = list(BOW_features[i]) + all_extra_feats[i]\n",
    "        X.append(line)\n",
    "        \n",
    "    model.fit(X, Y)\n",
    "\n",
    "    # preprocess testing set\n",
    "    test_cv_fit = cv.transform(test_BOW_sents)\n",
    "    test_BOW_features = test_cv_fit.toarray()\n",
    "\n",
    "    # Append features\n",
    "    X_test = []\n",
    "    for i in range(len(test_BOW_features)):\n",
    "        line = list(test_BOW_features[i]) + test_all_extra_feats[i]\n",
    "        X_test.append(line)\n",
    "        \n",
    "    Y_pred = model.predict(X_test)\n",
    "    if count==1:\n",
    "#         print(\"Confidence: \",class_probabilities = model.predict_proba(sub_main))\n",
    "        print(\"Confidence: \",model.predict_proba(X_test))\n",
    "    print(\"accuracy : \", accuracy_score(Y_test, Y_pred))\n",
    "    print(\"Macro F: \", f1_score(Y_test, Y_pred, average='macro'))\n",
    "    cf_matrix = confusion_matrix(Y_test, Y_pred)\n",
    "    df_cm = pd.DataFrame(cf_matrix, index = [i for i in range(3)],columns = [i for i in range(3)])\n",
    "    plt.figure(figsize = (6,4))\n",
    "#     sn.heatmap(df_cm, annot=True)\n",
    "    svm = sn.heatmap(df_cm, annot=True)\n",
    "    fig = svm.get_figure()\n",
    "    fig.savefig(title)\n",
    "    return Y_pred"
   ]
  },
  {
   "cell_type": "code",
   "execution_count": 34,
   "metadata": {},
   "outputs": [],
   "source": [
    "def without_tweet_context(X, Y, model, X_test, Y_test,count,title):\n",
    "    model.fit(X, Y)\n",
    "    Y_pred = model.predict(X_test)\n",
    "    if count==1:\n",
    "        print(\"Confidence: \",model.predict_proba(X_test))\n",
    "    print(\"accuracy : \", accuracy_score(Y_test, Y_pred))\n",
    "    print(\"Macro F: \", f1_score(Y_test, Y_pred, average='macro'))\n",
    "    cf_matrix = confusion_matrix(Y_test, Y_pred)\n",
    "    df_cm = pd.DataFrame(cf_matrix, index = [i for i in range(3)],columns = [i for i in range(3)])\n",
    "    plt.figure(figsize = (6,4))\n",
    "#     sn.heatmap(df_cm, annot=True)   \n",
    "    svm = sn.heatmap(df_cm, annot=True)\n",
    "    fig = svm.get_figure()\n",
    "    fig.savefig(title)\n",
    "    return Y_pred"
   ]
  },
  {
   "cell_type": "code",
   "execution_count": 35,
   "metadata": {},
   "outputs": [],
   "source": [
    "def write_to_json(ids, pred, path):\n",
    "    submission = {}\n",
    "    for i, id in enumerate(ids):\n",
    "        submission[id] = [pred[i], 1]\n",
    "        subtaskaenglish = {}\n",
    "        subtaskbenglish = {}\n",
    "        \n",
    "    answer = {}\n",
    "    answer['subtaskaenglish'] = {}\n",
    "    answer['subtaskbenglish'] = submission\n",
    "\n",
    "    answer['subtaskadanish'] = {}\n",
    "    answer['subtaskbdanish'] = {}\n",
    "\n",
    "    answer['subtaskarussian'] = {}\n",
    "    answer['subtaskbrussian'] = {}\n",
    "        \n",
    "    with open(path, 'w') as f:\n",
    "        json.dump(answer, f)"
   ]
  },
  {
   "cell_type": "code",
   "execution_count": 36,
   "metadata": {},
   "outputs": [],
   "source": [
    "from sklearn.calibration import CalibratedClassifierCV"
   ]
  },
  {
   "cell_type": "code",
   "execution_count": 37,
   "metadata": {
    "scrolled": true
   },
   "outputs": [
    {
     "name": "stdout",
     "output_type": "stream",
     "text": [
      "<class 'sklearn.calibration.CalibratedClassifierCV'>\n",
      "Without the context of the tweet in context\n",
      "Confidence:  [[0.2152779  0.46318373 0.32153837]\n",
      " [0.33052552 0.37650581 0.29296867]\n",
      " [0.26302885 0.4193373  0.31763385]\n",
      " [0.34899503 0.36414612 0.28685885]\n",
      " [0.3367973  0.36072541 0.30247729]\n",
      " [0.27519478 0.4117104  0.31309482]\n",
      " [0.18258962 0.48557805 0.33183234]\n",
      " [0.26943328 0.4162126  0.31435412]\n",
      " [0.28991974 0.40027428 0.30980597]\n",
      " [0.43681079 0.28326338 0.27992583]\n",
      " [0.41711641 0.30096593 0.28191766]\n",
      " [0.24584552 0.42797664 0.32617784]\n",
      " [0.26490934 0.41666461 0.31842605]\n",
      " [0.30182075 0.39109637 0.30708288]\n",
      " [0.28802204 0.40174286 0.3102351 ]\n",
      " [0.3361735  0.36415342 0.29967308]\n",
      " [0.31139043 0.3836795  0.30493007]\n",
      " [0.28014267 0.41346404 0.30639329]\n",
      " [0.32584823 0.37050477 0.303647  ]\n",
      " [0.23156626 0.44628906 0.32214468]\n",
      " [0.41598932 0.31176909 0.27224159]\n",
      " [0.29732784 0.39320994 0.30946222]\n",
      " [0.29834294 0.39377296 0.3078841 ]\n",
      " [0.14100618 0.52521321 0.33378061]\n",
      " [0.13016516 0.53490142 0.33493342]\n",
      " [0.43921733 0.27699161 0.28379107]\n",
      " [0.12175399 0.54263871 0.33560731]\n",
      " [0.29610213 0.39549986 0.30839801]\n",
      " [0.43133195 0.28739502 0.28127303]\n",
      " [0.31145682 0.38359001 0.30495317]\n",
      " [0.37044932 0.33394842 0.29560226]\n",
      " [0.24191208 0.43797683 0.32011109]\n",
      " [0.27137357 0.41255074 0.31607569]\n",
      " [0.17441893 0.49217631 0.33340476]\n",
      " [0.31652964 0.38286505 0.3006053 ]\n",
      " [0.3367973  0.36072541 0.30247729]\n",
      " [0.27054489 0.4140596  0.31539551]\n",
      " [0.34366594 0.36740033 0.28893374]\n",
      " [0.25889919 0.43296801 0.3081328 ]\n",
      " [0.32868098 0.37886347 0.29245555]\n",
      " [0.23722483 0.43948038 0.32329478]\n",
      " [0.17719435 0.48794306 0.33486259]\n",
      " [0.27090993 0.41372058 0.3153695 ]\n",
      " [0.17248005 0.49350076 0.33401919]\n",
      " [0.14345441 0.51832582 0.33821977]\n",
      " [0.26588801 0.41068074 0.32343125]\n",
      " [0.40238326 0.31514551 0.28247123]\n",
      " [0.13784971 0.52838645 0.33376384]\n",
      " [0.3884438  0.32578823 0.28576797]\n",
      " [0.45674446 0.26519863 0.27805691]\n",
      " [0.19914499 0.46970513 0.33114989]\n",
      " [0.19860936 0.47338873 0.32800191]\n",
      " [0.30241034 0.38872281 0.30886685]\n",
      " [0.27956599 0.40830537 0.31212865]\n",
      " [0.26107211 0.42191713 0.31701077]\n",
      " [0.22284684 0.4533604  0.32379276]\n",
      " [0.360495   0.35439062 0.28511438]\n",
      " [0.36102798 0.35079834 0.28817368]\n",
      " [0.28159549 0.41535937 0.30304514]\n",
      " [0.37692007 0.34250689 0.28057304]\n",
      " [0.31016073 0.38974567 0.3000936 ]\n",
      " [0.32035951 0.38389271 0.29574778]\n",
      " [0.36263158 0.35290431 0.28446411]\n",
      " [0.33421336 0.37275645 0.29303019]\n",
      " [0.29435087 0.40294273 0.3027064 ]\n",
      " [0.36263158 0.35290431 0.28446411]\n",
      " [0.3343147  0.37318533 0.29249998]\n",
      " [0.41306209 0.31186079 0.27507712]\n",
      " [0.39005479 0.33150869 0.27843652]\n",
      " [0.36847213 0.34951492 0.28201295]\n",
      " [0.37264274 0.34595009 0.28140717]\n",
      " [0.37837312 0.34183549 0.27979139]\n",
      " [0.37264394 0.34464231 0.28271376]\n",
      " [0.33079595 0.37515819 0.29404586]\n",
      " [0.34214565 0.36719496 0.29065939]\n",
      " [0.36002575 0.353471   0.28650326]\n",
      " [0.3460857  0.36443889 0.28947541]\n",
      " [0.37322441 0.34582664 0.28094895]\n",
      " [0.33079595 0.37515819 0.29404586]\n",
      " [0.35195724 0.36033887 0.28770389]\n",
      " [0.35922236 0.35527634 0.2855013 ]]\n",
      "accuracy :  0.5061728395061729\n",
      "Macro F:  0.3503953391593841\n"
     ]
    },
    {
     "name": "stderr",
     "output_type": "stream",
     "text": [
      "/home/dhawal/.local/lib/python3.6/site-packages/sklearn/model_selection/_split.py:1978: FutureWarning: The default value of cv will change from 3 to 5 in version 0.22. Specify it explicitly to silence this warning.\n",
      "  warnings.warn(CV_WARNING, FutureWarning)\n",
      "/home/dhawal/.local/lib/python3.6/site-packages/sklearn/metrics/classification.py:1437: UndefinedMetricWarning: F-score is ill-defined and being set to 0.0 in labels with no predicted samples.\n",
      "  'precision', 'predicted', average, warn_for)\n"
     ]
    },
    {
     "name": "stdout",
     "output_type": "stream",
     "text": [
      "\n",
      "With the context of the tweet in context\n"
     ]
    },
    {
     "name": "stderr",
     "output_type": "stream",
     "text": [
      "/home/dhawal/.local/lib/python3.6/site-packages/sklearn/model_selection/_split.py:1978: FutureWarning: The default value of cv will change from 3 to 5 in version 0.22. Specify it explicitly to silence this warning.\n",
      "  warnings.warn(CV_WARNING, FutureWarning)\n"
     ]
    },
    {
     "name": "stdout",
     "output_type": "stream",
     "text": [
      "Confidence:  [[0.25181109 0.50015236 0.24803655]\n",
      " [0.27005993 0.4229025  0.30703757]\n",
      " [0.308535   0.50619132 0.18527369]\n",
      " [0.31335259 0.42894427 0.25770314]\n",
      " [0.30381972 0.43246967 0.2637106 ]\n",
      " [0.23121016 0.56210859 0.20668125]\n",
      " [0.19654067 0.61811819 0.18534114]\n",
      " [0.20216263 0.59620699 0.20163038]\n",
      " [0.31747643 0.41337412 0.26914945]\n",
      " [0.33993297 0.44615432 0.21391271]\n",
      " [0.33194016 0.45537383 0.21268601]\n",
      " [0.30450412 0.48313675 0.21235913]\n",
      " [0.33807716 0.46154138 0.20038146]\n",
      " [0.31050352 0.47546195 0.21403453]\n",
      " [0.30867622 0.44937165 0.24195213]\n",
      " [0.31665396 0.46869931 0.21464672]\n",
      " [0.30292242 0.44773599 0.24934159]\n",
      " [0.34698509 0.46720621 0.1858087 ]\n",
      " [0.33712484 0.49353434 0.16934082]\n",
      " [0.31933735 0.51492807 0.16573458]\n",
      " [0.26897228 0.39569333 0.33533438]\n",
      " [0.28421366 0.46866532 0.24712102]\n",
      " [0.33866196 0.49221621 0.16912183]\n",
      " [0.24998241 0.48191732 0.26810027]\n",
      " [0.24611053 0.47848991 0.27539956]\n",
      " [0.32835303 0.42471671 0.24693027]\n",
      " [0.30050643 0.43240576 0.26708781]\n",
      " [0.27457596 0.40171327 0.32371077]\n",
      " [0.43932827 0.36923906 0.19143267]\n",
      " [0.40259523 0.42156715 0.17583762]\n",
      " [0.43001591 0.38776446 0.18221963]\n",
      " [0.31943728 0.43612944 0.24443328]\n",
      " [0.45964676 0.39573928 0.14461396]\n",
      " [0.27019823 0.54587816 0.18392361]\n",
      " [0.41111628 0.39934061 0.1895431 ]\n",
      " [0.32922727 0.43964256 0.23113016]\n",
      " [0.24373738 0.45916476 0.29709786]\n",
      " [0.28052777 0.4570535  0.26241874]\n",
      " [0.26026098 0.47769141 0.26204761]\n",
      " [0.24695169 0.45099649 0.30205182]\n",
      " [0.31787262 0.41999854 0.26212884]\n",
      " [0.28076203 0.54342641 0.17581156]\n",
      " [0.3335303  0.40432735 0.26214234]\n",
      " [0.3217974  0.42039247 0.25781013]\n",
      " [0.30569961 0.36472444 0.32957595]\n",
      " [0.30972553 0.44192895 0.24834551]\n",
      " [0.36798298 0.41995454 0.21206249]\n",
      " [0.27303779 0.50718901 0.2197732 ]\n",
      " [0.37842011 0.41998799 0.20159191]\n",
      " [0.35781387 0.42661576 0.21557037]\n",
      " [0.36016959 0.39977706 0.24005335]\n",
      " [0.45022476 0.37972572 0.17004952]\n",
      " [0.37889987 0.38671904 0.23438109]\n",
      " [0.37106864 0.39834498 0.23058638]\n",
      " [0.35558613 0.40887561 0.23553826]\n",
      " [0.359967   0.38026712 0.25976589]\n",
      " [0.4573969  0.357075   0.1855281 ]\n",
      " [0.41862072 0.35697722 0.22440206]\n",
      " [0.27445338 0.54470355 0.18084307]\n",
      " [0.29467697 0.49203284 0.21329019]\n",
      " [0.31570258 0.39985402 0.2844434 ]\n",
      " [0.34631174 0.2639287  0.38975956]\n",
      " [0.41352163 0.38240144 0.20407693]\n",
      " [0.449563   0.33602749 0.21440951]\n",
      " [0.29863551 0.51418399 0.1871805 ]\n",
      " [0.32817731 0.52010593 0.15171676]\n",
      " [0.38920871 0.40098649 0.20980481]\n",
      " [0.46470823 0.36924145 0.16605031]\n",
      " [0.38766047 0.42848175 0.18385778]\n",
      " [0.31366852 0.35325921 0.33307226]\n",
      " [0.4288195  0.39860377 0.17257673]\n",
      " [0.3566283  0.40703628 0.23633542]\n",
      " [0.45610478 0.29448316 0.24941206]\n",
      " [0.4109999  0.41527552 0.17372458]\n",
      " [0.40864523 0.36045623 0.23089854]\n",
      " [0.37349867 0.44877822 0.17772311]\n",
      " [0.35237961 0.39886591 0.24875449]\n",
      " [0.33650685 0.38530867 0.27818448]\n",
      " [0.37636335 0.44217005 0.18146659]\n",
      " [0.39445419 0.39255806 0.21298774]\n",
      " [0.24782254 0.5216098  0.23056766]]\n",
      "accuracy :  0.4074074074074074\n",
      "Macro F:  0.2596410843833524\n",
      "--------\n",
      "<class 'sklearn.neural_network.multilayer_perceptron.MLPClassifier'>\n",
      "Without the context of the tweet in context\n",
      "accuracy :  0.49382716049382713\n",
      "Macro F:  0.42407407407407405\n",
      "\n",
      "With the context of the tweet in context\n",
      "accuracy :  0.35802469135802467\n",
      "Macro F:  0.30192206266231375\n",
      "--------\n",
      "<class 'sklearn.linear_model.logistic.LogisticRegression'>\n",
      "Without the context of the tweet in context\n",
      "accuracy :  0.4691358024691358\n",
      "Macro F:  0.3493589743589744\n",
      "\n",
      "With the context of the tweet in context\n",
      "accuracy :  0.4691358024691358\n",
      "Macro F:  0.36512621745179885\n",
      "--------\n",
      "<class 'sklearn.tree.tree.DecisionTreeClassifier'>\n",
      "Without the context of the tweet in context\n",
      "accuracy :  0.4567901234567901\n",
      "Macro F:  0.4254807692307692\n",
      "\n",
      "With the context of the tweet in context\n",
      "accuracy :  0.5432098765432098\n",
      "Macro F:  0.38178083846804395\n",
      "--------\n",
      "<class 'sklearn.ensemble.forest.RandomForestClassifier'>\n",
      "Without the context of the tweet in context\n"
     ]
    },
    {
     "name": "stderr",
     "output_type": "stream",
     "text": [
      "/home/dhawal/.local/lib/python3.6/site-packages/sklearn/ensemble/forest.py:245: FutureWarning: The default value of n_estimators will change from 10 in version 0.20 to 100 in 0.22.\n",
      "  \"10 in version 0.20 to 100 in 0.22.\", FutureWarning)\n"
     ]
    },
    {
     "name": "stdout",
     "output_type": "stream",
     "text": [
      "accuracy :  0.5308641975308642\n",
      "Macro F:  0.4863199772662688\n",
      "\n",
      "With the context of the tweet in context\n",
      "accuracy :  0.49382716049382713\n",
      "Macro F:  0.42492148899471566\n",
      "--------\n"
     ]
    },
    {
     "data": {
      "image/png": "[encoded data removed]",
      "text/plain": [
       "<Figure size 432x288 with 2 Axes>"
      ]
     },
     "metadata": {
      "needs_background": "light"
     },
     "output_type": "display_data"
    },
    {
     "data": {
      "image/png": "[encoded data removed]",
      "text/plain": [
       "<Figure size 432x288 with 2 Axes>"
      ]
     },
     "metadata": {
      "needs_background": "light"
     },
     "output_type": "display_data"
    },
    {
     "data": {
      "image/png": "[encoded data removed]",
      "text/plain": [
       "<Figure size 432x288 with 2 Axes>"
      ]
     },
     "metadata": {
      "needs_background": "light"
     },
     "output_type": "display_data"
    },
    {
     "data": {
      "image/png": "[encoded data removed]",
      "text/plain": [
       "<Figure size 432x288 with 2 Axes>"
      ]
     },
     "metadata": {
      "needs_background": "light"
     },
     "output_type": "display_data"
    },
    {
     "data": {
      "image/png": "[encoded data removed]",
      "text/plain": [
       "<Figure size 432x288 with 2 Axes>"
      ]
     },
     "metadata": {
      "needs_background": "light"
     },
     "output_type": "display_data"
    },
    {
     "data": {
      "image/png": "[encoded data removed]",
      "text/plain": [
       "<Figure size 432x288 with 2 Axes>"
      ]
     },
     "metadata": {
      "needs_background": "light"
     },
     "output_type": "display_data"
    },
    {
     "data": {
      "image/png": "[encoded data removed]",
      "text/plain": [
       "<Figure size 432x288 with 2 Axes>"
      ]
     },
     "metadata": {
      "needs_background": "light"
     },
     "output_type": "display_data"
    },
    {
     "data": {
      "image/png": "[encoded data removed]",
      "text/plain": [
       "<Figure size 432x288 with 2 Axes>"
      ]
     },
     "metadata": {
      "needs_background": "light"
     },
     "output_type": "display_data"
    },
    {
     "data": {
      "image/png": "[encoded data removed]",
      "text/plain": [
       "<Figure size 432x288 with 2 Axes>"
      ]
     },
     "metadata": {
      "needs_background": "light"
     },
     "output_type": "display_data"
    },
    {
     "data": {
      "image/png": "[encoded data removed]",
      "text/plain": [
       "<Figure size 432x288 with 2 Axes>"
      ]
     },
     "metadata": {
      "needs_background": "light"
     },
     "output_type": "display_data"
    }
   ],
   "source": [
    "# def main(all_data):\n",
    "    # Get Bag Of Words\n",
    "BOW_sents, all_extra_feats, Y, ids = get_features(all_data, whichset=\"training+development\")\n",
    "\n",
    "test_BOW_sents, test_all_extra_feats, Y_test, ids_test = get_features(all_data, whichset=\"testing\")\n",
    "\n",
    "with open('rumoureval2019_data/final-eval-key.json') as fil:\n",
    "    test = json.load(fil)\n",
    "for ids in ids_test:\n",
    "    Y_test.append(test['subtaskbenglish'][ids])\n",
    "\n",
    "models = []\n",
    "models.append(CalibratedClassifierCV(LinearSVC(random_state=364)))\n",
    "models.append(MLPClassifier(hidden_layer_sizes=(100,50),max_iter=1000))\n",
    "models.append(LogisticRegression(multi_class='multinomial',solver='lbfgs'))\n",
    "models.append(tree.DecisionTreeClassifier())\n",
    "models.append(RandomForestClassifier())\n",
    "\n",
    "\n",
    "count = 1\n",
    "for model in models:\n",
    "    print(type(model))\n",
    "    print(\"Without the context of the tweet in context\")\n",
    "    Y_pred = without_tweet_context(all_extra_feats, Y, model, test_all_extra_feats, Y_test,count,\"model_without_\"+str(count)+\".png\")\n",
    "    path = \"answer_without_\"+str(count)+\".json\"\n",
    "    write_to_json(ids_test, Y_pred, path)\n",
    "    print()\n",
    "    print(\"With the context of the tweet in context\")\n",
    "    Y_pred = with_tweet_context(BOW_sents, all_extra_feats, Y, model, test_BOW_sents, test_all_extra_feats, Y_test,count,\"model_with_\"+str(count)+\".png\")\n",
    "    path = \"answer_without_\"+str(count)+\".json\"\n",
    "    write_to_json(ids_test, Y_pred, path)\n",
    "    print(\"--------\")\n",
    "    count += 1\n"
   ]
  },
  {
   "cell_type": "code",
   "execution_count": null,
   "metadata": {},
   "outputs": [],
   "source": [
    "Y_pred = without_tweet_context(all_extra_feats, Y, models[0], test_all_extra_feats, Y_test, 'model0_without')"
   ]
  },
  {
   "cell_type": "code",
   "execution_count": 7,
   "metadata": {},
   "outputs": [
    {
     "name": "stdout",
     "output_type": "stream",
     "text": [
      "accuracy :  0.41975308641975306\n",
      "Macro F:  0.3638858793788371\n"
     ]
    },
    {
     "data": {
      "image/png": "[encoded data removed]",
      "text/plain": [
       "<Figure size 432x288 with 2 Axes>"
      ]
     },
     "metadata": {
      "needs_background": "light"
     },
     "output_type": "display_data"
    }
   ],
   "source": [
    "# Y_pred = without_tweet_context(all_extra_feats, Y, model[4], test_all_extra_feats, Y_test)"
   ]
  },
  {
   "cell_type": "code",
   "execution_count": 8,
   "metadata": {},
   "outputs": [],
   "source": [
    "# !pip install seaborn"
   ]
  },
  {
   "cell_type": "code",
   "execution_count": 9,
   "metadata": {},
   "outputs": [
    {
     "name": "stdout",
     "output_type": "stream",
     "text": [
      "accuracy :  0.4567901234567901\n",
      "Macro F:  0.3404935430251886\n"
     ]
    },
    {
     "name": "stderr",
     "output_type": "stream",
     "text": [
      "/home/dhawal/.local/lib/python3.6/site-packages/sklearn/neural_network/multilayer_perceptron.py:566: ConvergenceWarning: Stochastic Optimizer: Maximum iterations (1000) reached and the optimization hasn't converged yet.\n",
      "  % self.max_iter, ConvergenceWarning)\n"
     ]
    },
    {
     "name": "stdout",
     "output_type": "stream",
     "text": [
      "accuracy :  0.49382716049382713\n",
      "Macro F:  0.39783194346188755\n",
      "accuracy :  0.4691358024691358\n",
      "Macro F:  0.3493589743589744\n",
      "accuracy :  0.4444444444444444\n",
      "Macro F:  0.41111111111111115\n",
      "accuracy :  0.5308641975308642\n",
      "Macro F:  0.4515873015873016\n"
     ]
    },
    {
     "data": {
      "image/png": "[encoded data removed]",
      "text/plain": [
       "<Figure size 432x288 with 2 Axes>"
      ]
     },
     "metadata": {
      "needs_background": "light"
     },
     "output_type": "display_data"
    },
    {
     "data": {
      "image/png": "[encoded data removed]",
      "text/plain": [
       "<Figure size 432x288 with 2 Axes>"
      ]
     },
     "metadata": {
      "needs_background": "light"
     },
     "output_type": "display_data"
    },
    {
     "data": {
      "image/png": "[encoded data removed]",
      "text/plain": [
       "<Figure size 432x288 with 2 Axes>"
      ]
     },
     "metadata": {
      "needs_background": "light"
     },
     "output_type": "display_data"
    },
    {
     "data": {
      "image/png": "[encoded data removed]",
      "text/plain": [
       "<Figure size 432x288 with 2 Axes>"
      ]
     },
     "metadata": {
      "needs_background": "light"
     },
     "output_type": "display_data"
    },
    {
     "data": {
      "image/png": "[encoded data removed]",
      "text/plain": [
       "<Figure size 432x288 with 2 Axes>"
      ]
     },
     "metadata": {
      "needs_background": "light"
     },
     "output_type": "display_data"
    }
   ],
   "source": [
    "X_axis = []\n",
    "for model in models:\n",
    "#     print(type(model))\n",
    "#     print(\"Without the context of the tweet in context\")\n",
    "    pred = without_tweet_context(all_extra_feats, Y, model, test_all_extra_feats, Y_test)\n",
    "    X_axis.append(accuracy_score(Y_test, pred))\n",
    "#     path = \"answer_without_\"+str(count)+\".json\"\n",
    "#     write_to_json(ids_test, Y_pred, path)\n",
    "#     print()\n",
    "#     print(\"With the context of the tweet in context\")\n",
    "#     Y_pred = with_tweet_context(BOW_sents, all_extra_feats, Y, model, test_BOW_sents, test_all_extra_feats, Y_test)\n",
    "#     path = \"answer_without_\"+str(count)+\".json\"\n",
    "#     write_to_json(ids_test, Y_pred, path)\n",
    "#     print(\"--------\")\n",
    "\n",
    "#     count += 1"
   ]
  },
  {
   "cell_type": "code",
   "execution_count": 10,
   "metadata": {},
   "outputs": [
    {
     "data": {
      "text/plain": [
       "[0.4567901234567901,\n",
       " 0.49382716049382713,\n",
       " 0.4691358024691358,\n",
       " 0.4444444444444444,\n",
       " 0.5308641975308642]"
      ]
     },
     "execution_count": 10,
     "metadata": {},
     "output_type": "execute_result"
    }
   ],
   "source": [
    "X_axis"
   ]
  },
  {
   "cell_type": "code",
   "execution_count": 11,
   "metadata": {},
   "outputs": [
    {
     "name": "stdout",
     "output_type": "stream",
     "text": [
      "accuracy :  0.41975308641975306\n",
      "Macro F:  0.3088663300371695\n",
      "accuracy :  0.3333333333333333\n",
      "Macro F:  0.2917582417582418\n",
      "accuracy :  0.4691358024691358\n",
      "Macro F:  0.36512621745179885\n",
      "accuracy :  0.5432098765432098\n",
      "Macro F:  0.38178083846804395\n",
      "accuracy :  0.5185185185185185\n",
      "Macro F:  0.36628186628186626\n"
     ]
    },
    {
     "data": {
      "image/png": "[encoded data removed]",
      "text/plain": [
       "<Figure size 432x288 with 2 Axes>"
      ]
     },
     "metadata": {
      "needs_background": "light"
     },
     "output_type": "display_data"
    },
    {
     "data": {
      "image/png": "[encoded data removed]",
      "text/plain": [
       "<Figure size 432x288 with 2 Axes>"
      ]
     },
     "metadata": {
      "needs_background": "light"
     },
     "output_type": "display_data"
    },
    {
     "data": {
      "image/png": "[encoded data removed]",
      "text/plain": [
       "<Figure size 432x288 with 2 Axes>"
      ]
     },
     "metadata": {
      "needs_background": "light"
     },
     "output_type": "display_data"
    },
    {
     "data": {
      "image/png": "[encoded data removed]",
      "text/plain": [
       "<Figure size 432x288 with 2 Axes>"
      ]
     },
     "metadata": {
      "needs_background": "light"
     },
     "output_type": "display_data"
    },
    {
     "data": {
      "image/png": "[encoded data removed]",
      "text/plain": [
       "<Figure size 432x288 with 2 Axes>"
      ]
     },
     "metadata": {
      "needs_background": "light"
     },
     "output_type": "display_data"
    }
   ],
   "source": [
    "X_axis = []\n",
    "for model in models:\n",
    "#     print(type(model))\n",
    "#     print(\"Without the context of the tweet in context\")\n",
    "    pred = with_tweet_context(BOW_sents, all_extra_feats, Y, model, test_BOW_sents, test_all_extra_feats, Y_test)\n",
    "    X_axis.append(accuracy_score(Y_test, pred))\n",
    "#     path = \"answer_without_\"+str(count)+\".json\"\n",
    "#     write_to_json(ids_test, Y_pred, path)\n",
    "#     print()\n",
    "#     print(\"With the context of the tweet in context\")\n",
    "#     Y_pred = with_tweet_context(BOW_sents, all_extra_feats, Y, model, test_BOW_sents, test_all_extra_feats, Y_test)\n",
    "#     path = \"answer_without_\"+str(count)+\".json\"\n",
    "#     write_to_json(ids_test, Y_pred, path)\n",
    "#     print(\"--------\")\n",
    "#     count += 1"
   ]
  },
  {
   "cell_type": "code",
   "execution_count": 12,
   "metadata": {},
   "outputs": [
    {
     "name": "stdout",
     "output_type": "stream",
     "text": [
      "without tweet context\n"
     ]
    },
    {
     "data": {
      "image/png": "[encoded data removed]",
      "text/plain": [
       "<Figure size 432x288 with 1 Axes>"
      ]
     },
     "metadata": {
      "needs_background": "light"
     },
     "output_type": "display_data"
    },
    {
     "name": "stdout",
     "output_type": "stream",
     "text": [
      "Graph Plotting the variation of accuracy for different models \n"
     ]
    }
   ],
   "source": [
    "print(\"without tweet context\")\n",
    "plt.bar([1,2,3,4,5], X_axis, color = 'pink')\n",
    "plt.show()\n",
    "print(\"Graph Plotting the variation of accuracy for different models \")"
   ]
  },
  {
   "cell_type": "code",
   "execution_count": null,
   "metadata": {},
   "outputs": [],
   "source": []
  }
 ],
 "metadata": {
  "kernelspec": {
   "display_name": "Python 3",
   "language": "python",
   "name": "python3"
  },
  "language_info": {
   "codemirror_mode": {
    "name": "ipython",
    "version": 3
   },
   "file_extension": ".py",
   "mimetype": "text/x-python",
   "name": "python",
   "nbconvert_exporter": "python",
   "pygments_lexer": "ipython3",
   "version": "3.6.8"
  }
 },
 "nbformat": 4,
 "nbformat_minor": 2
}
