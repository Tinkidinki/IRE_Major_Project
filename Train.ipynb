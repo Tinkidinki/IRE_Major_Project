{
 "cells": [
  {
   "cell_type": "code",
   "execution_count": null,
   "metadata": {},
   "outputs": [],
   "source": [
    "import numpy\n",
    "import theano\n",
    "import theano.tensor as T\n",
    "import lasagne\n",
    "from sklearn.metrics import precision_recall_fscore_support\n",
    "import os\n",
    "import timeit\n",
    "import pickle\n",
    "from hyperopt import STATUS_OK\n",
    "from sklearn.metrics import accuracy_score"
   ]
  },
  {
   "cell_type": "markdown",
   "metadata": {},
   "source": [
    "#### Build the Neural Network using Lasagne model i.e defines architecture of Neural Network."
   ]
  },
  {
   "cell_type": "code",
   "execution_count": null,
   "metadata": {},
   "outputs": [],
   "source": [
    "def build_nn(input_var, mask, num_features, num_lstm_layers, num_lstm_units,\n",
    "             num_dense_layers, num_dense_units):\n",
    "\n",
    "    l_input = lasagne.layers.InputLayer(shape=(None, None, num_features),\n",
    "                                        input_var=input_var)\n",
    "\n",
    "    l_mask = lasagne.layers.InputLayer(shape=(None, None), input_var=mask)\n",
    "\n",
    "    l_lstm1 = lasagne.layers.LSTMLayer(\n",
    "                    l_input, \n",
    "                    num_units=num_lstm_units,\n",
    "                    mask_input=l_mask,\n",
    "                    peepholes=False,\n",
    "                    forgetgate=lasagne.layers.Gate(\n",
    "                        W_in=lasagne.init.Normal(0.1),\n",
    "                        W_hid=lasagne.init.Normal(0.1),\n",
    "                        W_cell=lasagne.init.Normal(0.1),\n",
    "                        b=lasagne.init. Constant(2.),\n",
    "                        nonlinearity=lasagne.nonlinearities.sigmoid))\n",
    "    for nlstm in range(num_lstm_layers-1):\n",
    "        l_lstm2 = lasagne.layers.LSTMLayer(\n",
    "                  l_lstm1,\n",
    "                  num_units=num_lstm_units,\n",
    "                  mask_input=l_mask, peepholes=False,\n",
    "                  forgetgate=lasagne.layers.Gate(\n",
    "                        W_in=lasagne.init.Normal(0.1),\n",
    "                        W_hid=lasagne.init.Normal(0.1),\n",
    "                        W_cell=lasagne.init.Normal(0.1),\n",
    "                        b=lasagne.init. Constant(2.),\n",
    "                        nonlinearity=lasagne.nonlinearities.sigmoid))\n",
    "        l_lstm1 = l_lstm2\n",
    "\n",
    "    l_shp = lasagne.layers.ReshapeLayer(l_lstm1, (-1, num_lstm_units))\n",
    "\n",
    "    l_in_drop = lasagne.layers.DropoutLayer(l_shp, p=0.2)\n",
    "\n",
    "    l_hidden1 = lasagne.layers.batch_norm(lasagne.layers.DenseLayer(\n",
    "                                  l_in_drop,\n",
    "                                  num_units=num_dense_units,\n",
    "                                  W=lasagne.init.Normal(0.1),\n",
    "                                  b=lasagne.init.Normal(0.1),\n",
    "                                  nonlinearity=lasagne.nonlinearities.rectify))\n",
    "\n",
    "    for nl in range(num_dense_layers-1):\n",
    "        l_hidden2 = lasagne.layers.batch_norm(lasagne.layers.DenseLayer(\n",
    "                                  l_hidden1,\n",
    "                                  num_units=num_dense_units,\n",
    "                                  W=lasagne.init.Normal(0.1),\n",
    "                                  b=lasagne.init.Normal(0.1),\n",
    "                                  nonlinearity=lasagne.nonlinearities.rectify))\n",
    "        l_hidden1 = l_hidden2\n",
    "\n",
    "    l_out_drop = lasagne.layers.DropoutLayer(l_hidden1, p=0.5)\n",
    "\n",
    "    l_softmax = lasagne.layers.DenseLayer(\n",
    "                                   l_out_drop,\n",
    "                                   num_units=4,\n",
    "                                   W=lasagne.init.Normal(0.1),\n",
    "                                   b=lasagne.init.Normal(0.1),\n",
    "                                   nonlinearity=lasagne.nonlinearities.softmax)\n",
    "\n",
    "    return (l_softmax)"
   ]
  },
  {
   "cell_type": "markdown",
   "metadata": {},
   "source": [
    "#### splits training data into mini-batches and returns iterator"
   ]
  },
  {
   "cell_type": "code",
   "execution_count": null,
   "metadata": {},
   "outputs": [],
   "source": [
    "def iterate_minibatches(inputs, mask, rmdoublemask, targets,\n",
    "                        batchsize, max_seq_len=25, shuffle=False):\n",
    "    \n",
    "    # print \"Before: target size:\", targets.size\n",
    "    # print \"Before: len of targets\", len(targets)\n",
    "    # print \"Before: len of batchsize\", batchsize\n",
    "    # print \"Before: Len of inputs:\", len(inputs)\n",
    "    # print \"Before: Len of rmdoublemask:\", len(rmdoublemask)\n",
    "    # print \"Before: Size of rmdoublemask:\", rmdoublemask.size\n",
    "    # targets = numpy.reshape(targets, (-1, max_seq_len))\n",
    "    # rmdoublemask = numpy.reshape(rmdoublemask, (-1, max_seq_len))\n",
    "    rmdoublemask = numpy.reshape(rmdoublemask, (len(targets), -1))\n",
    "    # print \"Len of inputs:\", len(inputs)\n",
    "    # print \"len of targets\", len(targets)\n",
    "    assert len(inputs) == len(targets)\n",
    "    if shuffle:\n",
    "        indices = numpy.arange(len(inputs))\n",
    "        numpy.random.shuffle(indices)\n",
    "    for start_idx in range(0, len(inputs) - batchsize + 1, batchsize):\n",
    "        if shuffle:\n",
    "            excerpt = indices[start_idx:start_idx + batchsize]\n",
    "        else:\n",
    "            excerpt = slice(start_idx, start_idx + batchsize)\n",
    "        newtargets = targets[excerpt].flatten()\n",
    "        newrmdoublemask = rmdoublemask[excerpt].flatten()\n",
    "        yield inputs[excerpt], mask[excerpt], newrmdoublemask, newtargets\n",
    "#%%"
   ]
  }
 ],
 "metadata": {
  "kernelspec": {
   "display_name": "env",
   "language": "python",
   "name": "env"
  },
  "language_info": {
   "codemirror_mode": {
    "name": "ipython",
    "version": 2
   },
   "file_extension": ".py",
   "mimetype": "text/x-python",
   "name": "python",
   "nbconvert_exporter": "python",
   "pygments_lexer": "ipython2",
   "version": "2.7.15+"
  }
 },
 "nbformat": 4,
 "nbformat_minor": 2
}
